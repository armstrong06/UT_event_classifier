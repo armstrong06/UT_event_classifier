{
 "cells": [
  {
   "cell_type": "code",
   "execution_count": 1,
   "metadata": {
    "metadata": {}
   },
   "outputs": [],
   "source": [
    "import pandas as pd\n",
    "import numpy as np\n",
    "#import matplotlib.pyplot as plt\n",
    "from sklearn.preprocessing import LabelEncoder\n",
    "from sklearn.model_selection import StratifiedShuffleSplit, train_test_split\n",
    "from sklearn.metrics import f1_score\n",
    "from sklearn.naive_bayes import GaussianNB\n",
    "from sklearn.metrics import confusion_matrix, ConfusionMatrixDisplay"
   ]
  },
  {
   "cell_type": "code",
   "execution_count": 2,
   "metadata": {
    "metadata": {}
   },
   "outputs": [
    {
     "name": "stderr",
     "output_type": "stream",
     "text": [
      "<>:2: SyntaxWarning: invalid escape sequence '\\s'\n",
      "<>:2: SyntaxWarning: invalid escape sequence '\\s'\n",
      "/tmp/ipykernel_3341820/3529069451.py:2: SyntaxWarning: invalid escape sequence '\\s'\n",
      "  original_data = pd.read_csv(\"../data/delivery.2024.04.16.dat\", delimiter='\\s+')\n"
     ]
    }
   ],
   "source": [
    "# '\\s+' tells pandas to use any spaces as the delimiter instead of ,\n",
    "original_data = pd.read_csv(\"../data/delivery.2024.04.16.dat\", delimiter='\\s+')"
   ]
  },
  {
   "cell_type": "code",
   "execution_count": 3,
   "metadata": {
    "metadata": {}
   },
   "outputs": [],
   "source": [
    "feature_col_names = ['F01', 'F02', 'F03', 'F04',\n",
    "       'F05', 'F06', 'F07', 'F08', 'F09', 'F10', 'F11', 'F12', 'F13']"
   ]
  },
  {
   "cell_type": "code",
   "execution_count": 4,
   "metadata": {
    "metadata": {}
   },
   "outputs": [
    {
     "data": {
      "text/plain": [
       "Tag\n",
       "eq     5837\n",
       "mis    2043\n",
       "ex     1540\n",
       "Name: count, dtype: int64"
      ]
     },
     "execution_count": 4,
     "metadata": {},
     "output_type": "execute_result"
    }
   ],
   "source": [
    "# Remove gis examples\n",
    "filtered_data = original_data.drop(np.where(original_data['Tag'] == 'gis')[0])\n",
    "filtered_data[\"Tag\"].value_counts()"
   ]
  },
  {
   "cell_type": "code",
   "execution_count": 5,
   "metadata": {
    "metadata": {}
   },
   "outputs": [
    {
     "data": {
      "text/html": [
       "<div>\n",
       "<style scoped>\n",
       "    .dataframe tbody tr th:only-of-type {\n",
       "        vertical-align: middle;\n",
       "    }\n",
       "\n",
       "    .dataframe tbody tr th {\n",
       "        vertical-align: top;\n",
       "    }\n",
       "\n",
       "    .dataframe thead th {\n",
       "        text-align: right;\n",
       "    }\n",
       "</style>\n",
       "<table border=\"1\" class=\"dataframe\">\n",
       "  <thead>\n",
       "    <tr style=\"text-align: right;\">\n",
       "      <th></th>\n",
       "      <th>F01</th>\n",
       "      <th>F02</th>\n",
       "      <th>F03</th>\n",
       "      <th>F04</th>\n",
       "      <th>F05</th>\n",
       "      <th>F06</th>\n",
       "      <th>F07</th>\n",
       "      <th>F08</th>\n",
       "      <th>F09</th>\n",
       "      <th>F10</th>\n",
       "      <th>F11</th>\n",
       "      <th>F12</th>\n",
       "      <th>F13</th>\n",
       "    </tr>\n",
       "  </thead>\n",
       "  <tbody>\n",
       "    <tr>\n",
       "      <th>count</th>\n",
       "      <td>4420.000000</td>\n",
       "      <td>3002.000000</td>\n",
       "      <td>5072.000000</td>\n",
       "      <td>3009.000000</td>\n",
       "      <td>5103.000000</td>\n",
       "      <td>3009.000000</td>\n",
       "      <td>5103.000000</td>\n",
       "      <td>1487.000000</td>\n",
       "      <td>2214.000000</td>\n",
       "      <td>2111.000000</td>\n",
       "      <td>1797.000000</td>\n",
       "      <td>1233.000000</td>\n",
       "      <td>2781.000000</td>\n",
       "    </tr>\n",
       "    <tr>\n",
       "      <th>mean</th>\n",
       "      <td>-0.117828</td>\n",
       "      <td>0.382648</td>\n",
       "      <td>0.437216</td>\n",
       "      <td>-99.399634</td>\n",
       "      <td>-115.759573</td>\n",
       "      <td>14.756374</td>\n",
       "      <td>13.983525</td>\n",
       "      <td>0.009018</td>\n",
       "      <td>0.023198</td>\n",
       "      <td>0.017186</td>\n",
       "      <td>-0.006277</td>\n",
       "      <td>0.023852</td>\n",
       "      <td>-0.003096</td>\n",
       "    </tr>\n",
       "    <tr>\n",
       "      <th>std</th>\n",
       "      <td>0.300832</td>\n",
       "      <td>0.396023</td>\n",
       "      <td>0.388835</td>\n",
       "      <td>22.428991</td>\n",
       "      <td>22.609345</td>\n",
       "      <td>1.286152</td>\n",
       "      <td>1.204947</td>\n",
       "      <td>0.123828</td>\n",
       "      <td>0.167644</td>\n",
       "      <td>0.155244</td>\n",
       "      <td>0.160840</td>\n",
       "      <td>0.288355</td>\n",
       "      <td>0.312698</td>\n",
       "    </tr>\n",
       "    <tr>\n",
       "      <th>min</th>\n",
       "      <td>-1.520000</td>\n",
       "      <td>-0.970000</td>\n",
       "      <td>-1.330000</td>\n",
       "      <td>-189.900000</td>\n",
       "      <td>-194.800000</td>\n",
       "      <td>11.640000</td>\n",
       "      <td>10.690000</td>\n",
       "      <td>-0.500000</td>\n",
       "      <td>-0.860000</td>\n",
       "      <td>-0.660000</td>\n",
       "      <td>-0.740000</td>\n",
       "      <td>-0.680000</td>\n",
       "      <td>-0.900000</td>\n",
       "    </tr>\n",
       "    <tr>\n",
       "      <th>25%</th>\n",
       "      <td>-0.340000</td>\n",
       "      <td>0.110000</td>\n",
       "      <td>0.200000</td>\n",
       "      <td>-112.900000</td>\n",
       "      <td>-131.300000</td>\n",
       "      <td>13.620000</td>\n",
       "      <td>12.850000</td>\n",
       "      <td>-0.060000</td>\n",
       "      <td>-0.090000</td>\n",
       "      <td>-0.090000</td>\n",
       "      <td>-0.110000</td>\n",
       "      <td>-0.190000</td>\n",
       "      <td>-0.200000</td>\n",
       "    </tr>\n",
       "    <tr>\n",
       "      <th>50%</th>\n",
       "      <td>-0.090000</td>\n",
       "      <td>0.370000</td>\n",
       "      <td>0.420000</td>\n",
       "      <td>-100.100000</td>\n",
       "      <td>-117.800000</td>\n",
       "      <td>14.840000</td>\n",
       "      <td>14.210000</td>\n",
       "      <td>0.010000</td>\n",
       "      <td>0.000000</td>\n",
       "      <td>0.000000</td>\n",
       "      <td>-0.020000</td>\n",
       "      <td>-0.040000</td>\n",
       "      <td>-0.070000</td>\n",
       "    </tr>\n",
       "    <tr>\n",
       "      <th>75%</th>\n",
       "      <td>0.080000</td>\n",
       "      <td>0.620000</td>\n",
       "      <td>0.660000</td>\n",
       "      <td>-85.600000</td>\n",
       "      <td>-102.100000</td>\n",
       "      <td>15.860000</td>\n",
       "      <td>14.930000</td>\n",
       "      <td>0.080000</td>\n",
       "      <td>0.150000</td>\n",
       "      <td>0.120000</td>\n",
       "      <td>0.080000</td>\n",
       "      <td>0.220000</td>\n",
       "      <td>0.180000</td>\n",
       "    </tr>\n",
       "    <tr>\n",
       "      <th>max</th>\n",
       "      <td>2.550000</td>\n",
       "      <td>3.280000</td>\n",
       "      <td>4.220000</td>\n",
       "      <td>-20.200000</td>\n",
       "      <td>-18.500000</td>\n",
       "      <td>17.920000</td>\n",
       "      <td>17.660000</td>\n",
       "      <td>0.470000</td>\n",
       "      <td>0.550000</td>\n",
       "      <td>0.620000</td>\n",
       "      <td>0.660000</td>\n",
       "      <td>1.010000</td>\n",
       "      <td>1.080000</td>\n",
       "    </tr>\n",
       "  </tbody>\n",
       "</table>\n",
       "</div>"
      ],
      "text/plain": [
       "               F01          F02          F03          F04          F05  \\\n",
       "count  4420.000000  3002.000000  5072.000000  3009.000000  5103.000000   \n",
       "mean     -0.117828     0.382648     0.437216   -99.399634  -115.759573   \n",
       "std       0.300832     0.396023     0.388835    22.428991    22.609345   \n",
       "min      -1.520000    -0.970000    -1.330000  -189.900000  -194.800000   \n",
       "25%      -0.340000     0.110000     0.200000  -112.900000  -131.300000   \n",
       "50%      -0.090000     0.370000     0.420000  -100.100000  -117.800000   \n",
       "75%       0.080000     0.620000     0.660000   -85.600000  -102.100000   \n",
       "max       2.550000     3.280000     4.220000   -20.200000   -18.500000   \n",
       "\n",
       "               F06          F07          F08          F09          F10  \\\n",
       "count  3009.000000  5103.000000  1487.000000  2214.000000  2111.000000   \n",
       "mean     14.756374    13.983525     0.009018     0.023198     0.017186   \n",
       "std       1.286152     1.204947     0.123828     0.167644     0.155244   \n",
       "min      11.640000    10.690000    -0.500000    -0.860000    -0.660000   \n",
       "25%      13.620000    12.850000    -0.060000    -0.090000    -0.090000   \n",
       "50%      14.840000    14.210000     0.010000     0.000000     0.000000   \n",
       "75%      15.860000    14.930000     0.080000     0.150000     0.120000   \n",
       "max      17.920000    17.660000     0.470000     0.550000     0.620000   \n",
       "\n",
       "               F11          F12          F13  \n",
       "count  1797.000000  1233.000000  2781.000000  \n",
       "mean     -0.006277     0.023852    -0.003096  \n",
       "std       0.160840     0.288355     0.312698  \n",
       "min      -0.740000    -0.680000    -0.900000  \n",
       "25%      -0.110000    -0.190000    -0.200000  \n",
       "50%      -0.020000    -0.040000    -0.070000  \n",
       "75%       0.080000     0.220000     0.180000  \n",
       "max       0.660000     1.010000     1.080000  "
      ]
     },
     "execution_count": 5,
     "metadata": {},
     "output_type": "execute_result"
    }
   ],
   "source": [
    "filtered_data.copy().replace(to_replace='X', value=np.nan)[feature_col_names].astype(float).describe()"
   ]
  },
  {
   "cell_type": "code",
   "execution_count": 11,
   "metadata": {
    "metadata": {}
   },
   "outputs": [
    {
     "name": "stdout",
     "output_type": "stream",
     "text": [
      "F01\n",
      "Entire dataset: 2.1%\n",
      "With feature: 4.6%\n",
      "Feat1:Feat2:  1.05\n",
      "F02\n",
      "Entire dataset: 2.4%\n",
      "With feature: 7.7%\n",
      "Feat1:Feat2:  1.18\n",
      "F03\n",
      "Entire dataset: 2.8%\n",
      "With feature: 5.2%\n",
      "Feat1:Feat2:  1.07\n",
      "F04\n",
      "Entire dataset: 9.8%\n",
      "With feature: 30.6%\n",
      "Feat1:Feat2:  1.08\n",
      "F05\n",
      "Entire dataset: 11.0%\n",
      "With feature: 20.3%\n",
      "Feat1:Feat2:  1.06\n",
      "F06\n",
      "Entire dataset: 5.5%\n",
      "With feature: 17.3%\n",
      "Feat1:Feat2:  1.06\n",
      "F07\n",
      "Entire dataset: 5.6%\n",
      "With feature: 10.4%\n",
      "Feat1:Feat2:  1.00\n",
      "F08\n",
      "Entire dataset: 0.9%\n",
      "With feature: 5.6%\n",
      "Feat1:Feat2:  1.00\n",
      "F09\n",
      "Entire dataset: 1.0%\n",
      "With feature: 4.2%\n",
      "Feat1:Feat2:  1.03\n",
      "F10\n",
      "Entire dataset: 1.0%\n",
      "With feature: 4.5%\n",
      "Feat1:Feat2:  1.18\n",
      "F11\n",
      "Entire dataset: 1.1%\n",
      "With feature: 6.0%\n",
      "Feat1:Feat2:  1.15\n",
      "F12\n",
      "Entire dataset: 1.5%\n",
      "With feature: 11.3%\n",
      "Feat1:Feat2:  1.04\n",
      "F13\n",
      "Entire dataset: 1.8%\n",
      "With feature: 6.1%\n",
      "Feat1:Feat2:  1.15\n"
     ]
    }
   ],
   "source": [
    "for col in feature_col_names:\n",
    "    print(col)\n",
    "    cnt = filtered_data.copy().replace(to_replace='X', value=np.nan)[col].astype(float).unique().shape[0]\n",
    "    print(f\"Entire dataset: {(cnt/filtered_data.shape[0])*100:0.1f}%\")\n",
    "    print(f\"With feature: {(cnt/(filtered_data[col] != \"X\").sum())*100:0.1f}%\")\n",
    "    value_counts = filtered_data.copy().replace(to_replace='X', value=np.nan)[col].astype(float).value_counts().reset_index()['count']\n",
    "    print(f\"Feat1:Feat2: {value_counts[0]/value_counts[1]: 0.2f}\")"
   ]
  },
  {
   "cell_type": "code",
   "execution_count": 8,
   "metadata": {
    "metadata": {}
   },
   "outputs": [
    {
     "data": {
      "text/plain": [
       "F01      0.096361\n",
       "F02      0.156913\n",
       "F03      0.151278\n",
       "F04    502.488328\n",
       "F05    510.848576\n",
       "F06      1.652470\n",
       "F07      1.449227\n",
       "F08      0.015308\n",
       "F09      0.028114\n",
       "F10      0.024108\n",
       "F11      0.025805\n",
       "F12      0.083123\n",
       "F13      0.097699\n",
       "Name: std, dtype: float64"
      ]
     },
     "execution_count": 8,
     "metadata": {},
     "output_type": "execute_result"
    }
   ],
   "source": [
    "original_data.copy().replace(to_replace='X', value=np.nan)[feature_col_names].astype(float).describe().loc['std']**2"
   ]
  },
  {
   "cell_type": "code",
   "execution_count": null,
   "metadata": {},
   "outputs": [],
   "source": []
  }
 ],
 "metadata": {
  "kernelspec": {
   "display_name": "ut_classifier",
   "language": "python",
   "name": "python3"
  },
  "language_info": {
   "codemirror_mode": {
    "name": "ipython",
    "version": 3
   },
   "file_extension": ".py",
   "mimetype": "text/x-python",
   "name": "python",
   "nbconvert_exporter": "python",
   "pygments_lexer": "ipython3",
   "version": "3.12.2"
  }
 },
 "nbformat": 4,
 "nbformat_minor": 2
}

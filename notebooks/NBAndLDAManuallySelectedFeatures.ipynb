{
 "cells": [
  {
   "cell_type": "code",
   "execution_count": 1,
   "metadata": {
    "metadata": {}
   },
   "outputs": [],
   "source": [
    "import pandas as pd\n",
    "import numpy as np\n",
    "#import matplotlib.pyplot as plt\n",
    "from sklearn.preprocessing import StandardScaler\n",
    "from sklearn.metrics import f1_score\n",
    "from sklearn.discriminant_analysis import LinearDiscriminantAnalysis\n",
    "from sklearn.metrics import confusion_matrix, ConfusionMatrixDisplay\n",
    "from sklearn.naive_bayes import GaussianNB"
   ]
  },
  {
   "cell_type": "markdown",
   "metadata": {},
   "source": [
    "# Load in the data"
   ]
  },
  {
   "cell_type": "code",
   "execution_count": 2,
   "metadata": {
    "metadata": {}
   },
   "outputs": [],
   "source": [
    "train_df = pd.read_csv(\"../data/train.2024.04.16.csv\")\n",
    "test_df = pd.read_csv(\"../data/test.2024.04.16.csv\")"
   ]
  },
  {
   "cell_type": "markdown",
   "metadata": {},
   "source": [
    "# Keith Features"
   ]
  },
  {
   "cell_type": "code",
   "execution_count": 3,
   "metadata": {
    "metadata": {}
   },
   "outputs": [],
   "source": [
    " # Five selected features\n",
    "feature_col_names = ['F01', 'F04', 'F06', 'F09','F13']"
   ]
  },
  {
   "cell_type": "code",
   "execution_count": 4,
   "metadata": {
    "metadata": {}
   },
   "outputs": [],
   "source": [
    "train_all_feats_df = train_df[~np.any(np.isnan(train_df[feature_col_names]), axis=1)]\n",
    "test_feats_df = test_df[~np.any(np.isnan(test_df[feature_col_names]), axis=1)]"
   ]
  },
  {
   "cell_type": "code",
   "execution_count": 5,
   "metadata": {
    "metadata": {}
   },
   "outputs": [],
   "source": [
    "# Get all training examples that have values for the selected features\n",
    "\n",
    "X_train = train_all_feats_df[feature_col_names].to_numpy()\n",
    "y_train = train_all_feats_df[\"y\"].to_numpy()"
   ]
  },
  {
   "cell_type": "code",
   "execution_count": 6,
   "metadata": {
    "metadata": {}
   },
   "outputs": [
    {
     "data": {
      "text/plain": [
       "False"
      ]
     },
     "execution_count": 6,
     "metadata": {},
     "output_type": "execute_result"
    }
   ],
   "source": [
    "np.any(np.isnan(X_train))"
   ]
  },
  {
   "cell_type": "code",
   "execution_count": 7,
   "metadata": {
    "metadata": {}
   },
   "outputs": [],
   "source": [
    "# Get all testing examples that have values for the selected features\n",
    "X_test = test_feats_df[feature_col_names].to_numpy()\n",
    "y_test = test_feats_df[\"y\"].to_numpy()"
   ]
  },
  {
   "cell_type": "code",
   "execution_count": 8,
   "metadata": {
    "metadata": {}
   },
   "outputs": [],
   "source": [
    "# Get all testing examples that have values for all 13 features\n",
    "feature_col_all = ['F01', 'F02', 'F03', 'F04',\n",
    "       'F05', 'F06', 'F07', 'F08', 'F09', 'F10', 'F11', 'F12', 'F13']\n",
    "test_all_feats_df = test_df[~np.any(np.isnan(test_df[feature_col_all]), axis=1)]\n",
    "X_test_all = test_all_feats_df[feature_col_names].to_numpy()\n",
    "y_test_all = test_all_feats_df[\"y\"].to_numpy()"
   ]
  },
  {
   "cell_type": "code",
   "execution_count": 9,
   "metadata": {
    "metadata": {}
   },
   "outputs": [],
   "source": [
    "\"\"\"Drop examples where any feature is < lb or > ub\n",
    "\"\"\"\n",
    "def drop_inds(X, y, lb, ub):\n",
    "    drop_inds = np.unique(np.concatenate([np.unique(np.where(X < lb)[0]), \n",
    "                                        np.unique(np.where(X > ub)[0])]))\n",
    "    print(drop_inds)\n",
    "    keep_inds = np.sort(np.delete(np.arange(0, X.shape[0]), drop_inds))\n",
    "    X = X[keep_inds, :]\n",
    "    y = y[keep_inds]\n",
    "\n",
    "    return X, y, keep_inds"
   ]
  },
  {
   "cell_type": "code",
   "execution_count": 13,
   "metadata": {
    "metadata": {}
   },
   "outputs": [],
   "source": [
    "X_train_original = X_train\n",
    "y_train_original = y_train\n",
    "\n",
    "X_test_original = X_test\n",
    "y_test_original = y_test"
   ]
  },
  {
   "cell_type": "code",
   "execution_count": 12,
   "metadata": {},
   "outputs": [
    {
     "data": {
      "text/plain": [
       "array([249, 959, 156])"
      ]
     },
     "execution_count": 12,
     "metadata": {},
     "output_type": "execute_result"
    }
   ],
   "source": [
    "np.unique(y_train_original, return_counts=True)[1]"
   ]
  },
  {
   "cell_type": "code",
   "execution_count": 14,
   "metadata": {},
   "outputs": [
    {
     "data": {
      "text/plain": [
       "array([ 55, 233,  40])"
      ]
     },
     "execution_count": 14,
     "metadata": {},
     "output_type": "execute_result"
    }
   ],
   "source": [
    "np.unique(y_test_original, return_counts=True)[1]"
   ]
  },
  {
   "cell_type": "code",
   "execution_count": 10,
   "metadata": {
    "metadata": {}
   },
   "outputs": [
    {
     "name": "stdout",
     "output_type": "stream",
     "text": [
      "(1364, 5) (328, 5) (207, 5)\n",
      "[158 794 880 920]\n",
      "[107]\n",
      "[63]\n",
      "(1360, 5) (327, 5) (206, 5)\n"
     ]
    }
   ],
   "source": [
    "# Remove examples with values beyond the outer fence of the training features\n",
    "print(X_train.shape, X_test.shape, X_test_all.shape)\n",
    "q1, q3  = np.percentile(X_train, [25, 75], axis=0)\n",
    "IQR = q3 - q1\n",
    "lower_fence = q1 - IQR*3.0\n",
    "upper_fence = q3 + IQR*3.0\n",
    "X_train, y_train, keep_inds1 = drop_inds(X_train, y_train, lower_fence, upper_fence)\n",
    "X_test, y_test, keep_inds2 = drop_inds(X_test, y_test, lower_fence, upper_fence)\n",
    "X_test_all, y_test_all, keep_inds3 = drop_inds(X_test_all, y_test_all, lower_fence, upper_fence)\n",
    "print(X_train.shape, X_test.shape, X_test_all.shape)"
   ]
  },
  {
   "cell_type": "code",
   "execution_count": 11,
   "metadata": {
    "metadata": {}
   },
   "outputs": [
    {
     "name": "stdout",
     "output_type": "stream",
     "text": [
      "Training: (1360, 5) (1360,)\n",
      "Testing: (327, 5) (327,)\n",
      "Training class percentage: [0.18161765 0.70367647 0.11470588]\n",
      "Testing class percentage: [0.16819572 0.70948012 0.12232416]\n",
      "Testing all feats class percentage: [0.16990291 0.69417476 0.13592233]\n"
     ]
    }
   ],
   "source": [
    "print('Training:', X_train.shape, y_train.shape)\n",
    "print('Testing:', X_test.shape, y_test.shape)\n",
    "print('Training class percentage:', np.unique(y_train, return_counts=True)[1]/len(y_train))\n",
    "print('Testing class percentage:', np.unique(y_test, return_counts=True)[1]/len(y_test))\n",
    "print('Testing all feats class percentage:', np.unique(y_test_all, return_counts=True)[1]/len(y_test_all))"
   ]
  },
  {
   "cell_type": "code",
   "execution_count": 12,
   "metadata": {
    "metadata": {}
   },
   "outputs": [
    {
     "data": {
      "text/plain": [
       "array([247, 957, 156])"
      ]
     },
     "execution_count": 12,
     "metadata": {},
     "output_type": "execute_result"
    }
   ],
   "source": [
    "np.unique(y_train, return_counts=True)[1]"
   ]
  },
  {
   "cell_type": "code",
   "execution_count": 13,
   "metadata": {
    "metadata": {}
   },
   "outputs": [
    {
     "data": {
      "text/plain": [
       "array([ 55, 232,  40])"
      ]
     },
     "execution_count": 13,
     "metadata": {},
     "output_type": "execute_result"
    }
   ],
   "source": [
    "np.unique(y_test, return_counts=True)[1]"
   ]
  },
  {
   "cell_type": "code",
   "execution_count": 14,
   "metadata": {
    "metadata": {}
   },
   "outputs": [],
   "source": [
    "# Scale features\n",
    "scaler = StandardScaler()\n",
    "scaler.fit(X_train)\n",
    "X_train_scaled = scaler.transform(X_train)\n",
    "X_test_scaled = scaler.transform(X_test)\n",
    "X_test_all_scaled = scaler.transform(X_test_all)"
   ]
  },
  {
   "cell_type": "markdown",
   "metadata": {},
   "source": [
    "# LDA"
   ]
  },
  {
   "cell_type": "code",
   "execution_count": 15,
   "metadata": {
    "metadata": {}
   },
   "outputs": [],
   "source": [
    "# Train the model\n",
    "lda = LinearDiscriminantAnalysis()\n",
    "lda.fit(X_train_scaled, y_train)\n",
    "y_train_pred_lda = lda.predict(X_train_scaled)"
   ]
  },
  {
   "cell_type": "markdown",
   "metadata": {},
   "source": [
    "## LDA Training Results"
   ]
  },
  {
   "cell_type": "code",
   "execution_count": 16,
   "metadata": {
    "metadata": {}
   },
   "outputs": [
    {
     "name": "stdout",
     "output_type": "stream",
     "text": [
      "[[205  16  26]\n",
      " [ 14 943   0]\n",
      " [ 13   0 143]]\n"
     ]
    }
   ],
   "source": [
    "cm = confusion_matrix(y_train, y_train_pred_lda)\n",
    "print(cm)"
   ]
  },
  {
   "cell_type": "code",
   "execution_count": 17,
   "metadata": {
    "metadata": {}
   },
   "outputs": [
    {
     "data": {
      "text/plain": [
       "0.9067640918580375"
      ]
     },
     "execution_count": 17,
     "metadata": {},
     "output_type": "execute_result"
    }
   ],
   "source": [
    "f1_score(y_train, y_train_pred_lda, average='macro')"
   ]
  },
  {
   "cell_type": "markdown",
   "metadata": {},
   "source": [
    "## LDA Testing Results with 5 features"
   ]
  },
  {
   "cell_type": "code",
   "execution_count": 18,
   "metadata": {
    "metadata": {}
   },
   "outputs": [
    {
     "data": {
      "text/plain": [
       "(327, 5)"
      ]
     },
     "execution_count": 18,
     "metadata": {},
     "output_type": "execute_result"
    }
   ],
   "source": [
    "X_test_scaled.shape"
   ]
  },
  {
   "cell_type": "code",
   "execution_count": 19,
   "metadata": {
    "metadata": {}
   },
   "outputs": [
    {
     "data": {
      "text/plain": [
       "323"
      ]
     },
     "execution_count": 19,
     "metadata": {},
     "output_type": "execute_result"
    }
   ],
   "source": [
    "45 + 3 + 5 + 1 + 233 + 2 + 34"
   ]
  },
  {
   "cell_type": "code",
   "execution_count": 20,
   "metadata": {
    "metadata": {}
   },
   "outputs": [],
   "source": [
    "y_test_pred_lda = lda.predict(X_test_scaled)"
   ]
  },
  {
   "cell_type": "code",
   "execution_count": 21,
   "metadata": {
    "metadata": {}
   },
   "outputs": [
    {
     "name": "stdout",
     "output_type": "stream",
     "text": [
      "[[ 49   2   4]\n",
      " [  3 229   0]\n",
      " [  5   0  35]]\n"
     ]
    }
   ],
   "source": [
    "cm_lda_test = confusion_matrix(y_test, y_test_pred_lda)\n",
    "print(cm_lda_test)"
   ]
  },
  {
   "cell_type": "code",
   "execution_count": 22,
   "metadata": {
    "metadata": {}
   },
   "outputs": [
    {
     "data": {
      "text/plain": [
       "<sklearn.metrics._plot.confusion_matrix.ConfusionMatrixDisplay at 0x14a5c281c200>"
      ]
     },
     "execution_count": 22,
     "metadata": {},
     "output_type": "execute_result"
    },
    {
     "data": {
      "image/png": "[encoded data removed]",
      "text/plain": [
       "<Figure size 640x480 with 2 Axes>"
      ]
     },
     "metadata": {},
     "output_type": "display_data"
    }
   ],
   "source": [
    "display = ConfusionMatrixDisplay(confusion_matrix=cm_lda_test, \n",
    "                       display_labels=['ex', 'eq', 'mis'])\n",
    "display.plot()"
   ]
  },
  {
   "cell_type": "code",
   "execution_count": 23,
   "metadata": {
    "metadata": {}
   },
   "outputs": [
    {
     "data": {
      "text/plain": [
       "0.9167589377659914"
      ]
     },
     "execution_count": 23,
     "metadata": {},
     "output_type": "execute_result"
    }
   ],
   "source": [
    "f1_score(y_test, y_test_pred_lda, average='macro')"
   ]
  },
  {
   "cell_type": "code",
   "execution_count": 24,
   "metadata": {
    "metadata": {}
   },
   "outputs": [
    {
     "data": {
      "text/plain": [
       "0.875"
      ]
     },
     "execution_count": 24,
     "metadata": {},
     "output_type": "execute_result"
    }
   ],
   "source": [
    "f1_score(y_test, y_test_pred_lda, labels=[0], average=\"macro\")"
   ]
  },
  {
   "cell_type": "code",
   "execution_count": 25,
   "metadata": {
    "metadata": {}
   },
   "outputs": [
    {
     "data": {
      "text/plain": [
       "0.9892008639308856"
      ]
     },
     "execution_count": 25,
     "metadata": {},
     "output_type": "execute_result"
    }
   ],
   "source": [
    "f1_score(y_test, y_test_pred_lda, labels=[1], average=\"macro\")"
   ]
  },
  {
   "cell_type": "code",
   "execution_count": 26,
   "metadata": {
    "metadata": {}
   },
   "outputs": [
    {
     "data": {
      "text/plain": [
       "0.8860759493670886"
      ]
     },
     "execution_count": 26,
     "metadata": {},
     "output_type": "execute_result"
    }
   ],
   "source": [
    "f1_score(y_test, y_test_pred_lda, labels=[2], average=\"macro\")"
   ]
  },
  {
   "cell_type": "code",
   "execution_count": 27,
   "metadata": {
    "metadata": {}
   },
   "outputs": [
    {
     "data": {
      "text/html": [
       "<div>\n",
       "<style scoped>\n",
       "    .dataframe tbody tr th:only-of-type {\n",
       "        vertical-align: middle;\n",
       "    }\n",
       "\n",
       "    .dataframe tbody tr th {\n",
       "        vertical-align: top;\n",
       "    }\n",
       "\n",
       "    .dataframe thead th {\n",
       "        text-align: right;\n",
       "    }\n",
       "</style>\n",
       "<table border=\"1\" class=\"dataframe\">\n",
       "  <thead>\n",
       "    <tr style=\"text-align: right;\">\n",
       "      <th></th>\n",
       "      <th>Unnamed: 0</th>\n",
       "      <th>Date</th>\n",
       "      <th>Time</th>\n",
       "      <th>Elat</th>\n",
       "      <th>Elon</th>\n",
       "      <th>Dep</th>\n",
       "      <th>Tag</th>\n",
       "      <th>F01</th>\n",
       "      <th>F02</th>\n",
       "      <th>F03</th>\n",
       "      <th>...</th>\n",
       "      <th>F06</th>\n",
       "      <th>F07</th>\n",
       "      <th>F08</th>\n",
       "      <th>F09</th>\n",
       "      <th>F10</th>\n",
       "      <th>F11</th>\n",
       "      <th>F12</th>\n",
       "      <th>F13</th>\n",
       "      <th>y</th>\n",
       "      <th>prediction</th>\n",
       "    </tr>\n",
       "  </thead>\n",
       "  <tbody>\n",
       "    <tr>\n",
       "      <th>42</th>\n",
       "      <td>2518</td>\n",
       "      <td>2017-08-03</td>\n",
       "      <td>19:59:30.27</td>\n",
       "      <td>40.507</td>\n",
       "      <td>-112.165</td>\n",
       "      <td>-2.0</td>\n",
       "      <td>ex</td>\n",
       "      <td>-0.13</td>\n",
       "      <td>0.49</td>\n",
       "      <td>0.24</td>\n",
       "      <td>...</td>\n",
       "      <td>12.82</td>\n",
       "      <td>12.77</td>\n",
       "      <td>0.19</td>\n",
       "      <td>0.11</td>\n",
       "      <td>0.14</td>\n",
       "      <td>0.23</td>\n",
       "      <td>0.48</td>\n",
       "      <td>0.63</td>\n",
       "      <td>0</td>\n",
       "      <td>2</td>\n",
       "    </tr>\n",
       "    <tr>\n",
       "      <th>126</th>\n",
       "      <td>1584</td>\n",
       "      <td>2015-08-26</td>\n",
       "      <td>17:47:44.53</td>\n",
       "      <td>39.557</td>\n",
       "      <td>-112.200</td>\n",
       "      <td>-2.0</td>\n",
       "      <td>ex</td>\n",
       "      <td>-0.12</td>\n",
       "      <td>-0.10</td>\n",
       "      <td>0.05</td>\n",
       "      <td>...</td>\n",
       "      <td>15.25</td>\n",
       "      <td>12.90</td>\n",
       "      <td>0.09</td>\n",
       "      <td>-0.02</td>\n",
       "      <td>0.23</td>\n",
       "      <td>0.19</td>\n",
       "      <td>-0.01</td>\n",
       "      <td>0.16</td>\n",
       "      <td>0</td>\n",
       "      <td>1</td>\n",
       "    </tr>\n",
       "    <tr>\n",
       "      <th>149</th>\n",
       "      <td>3699</td>\n",
       "      <td>2019-12-17</td>\n",
       "      <td>07:13:46.30</td>\n",
       "      <td>39.413</td>\n",
       "      <td>-110.306</td>\n",
       "      <td>-1.8</td>\n",
       "      <td>mis</td>\n",
       "      <td>-0.23</td>\n",
       "      <td>0.04</td>\n",
       "      <td>0.05</td>\n",
       "      <td>...</td>\n",
       "      <td>13.31</td>\n",
       "      <td>12.86</td>\n",
       "      <td>-0.15</td>\n",
       "      <td>-0.17</td>\n",
       "      <td>-0.30</td>\n",
       "      <td>-0.20</td>\n",
       "      <td>NaN</td>\n",
       "      <td>0.35</td>\n",
       "      <td>2</td>\n",
       "      <td>0</td>\n",
       "    </tr>\n",
       "    <tr>\n",
       "      <th>248</th>\n",
       "      <td>8922</td>\n",
       "      <td>2022-08-10</td>\n",
       "      <td>03:33:08.52</td>\n",
       "      <td>39.427</td>\n",
       "      <td>-110.305</td>\n",
       "      <td>-1.4</td>\n",
       "      <td>mis</td>\n",
       "      <td>-0.29</td>\n",
       "      <td>0.38</td>\n",
       "      <td>0.33</td>\n",
       "      <td>...</td>\n",
       "      <td>14.23</td>\n",
       "      <td>12.98</td>\n",
       "      <td>0.02</td>\n",
       "      <td>0.19</td>\n",
       "      <td>0.10</td>\n",
       "      <td>0.05</td>\n",
       "      <td>0.19</td>\n",
       "      <td>0.33</td>\n",
       "      <td>2</td>\n",
       "      <td>0</td>\n",
       "    </tr>\n",
       "    <tr>\n",
       "      <th>472</th>\n",
       "      <td>1128</td>\n",
       "      <td>2014-09-12</td>\n",
       "      <td>19:45:14.79</td>\n",
       "      <td>40.030</td>\n",
       "      <td>-111.739</td>\n",
       "      <td>2.7</td>\n",
       "      <td>eq</td>\n",
       "      <td>-0.13</td>\n",
       "      <td>0.56</td>\n",
       "      <td>0.51</td>\n",
       "      <td>...</td>\n",
       "      <td>14.63</td>\n",
       "      <td>14.62</td>\n",
       "      <td>NaN</td>\n",
       "      <td>0.08</td>\n",
       "      <td>0.01</td>\n",
       "      <td>-0.01</td>\n",
       "      <td>NaN</td>\n",
       "      <td>0.14</td>\n",
       "      <td>1</td>\n",
       "      <td>0</td>\n",
       "    </tr>\n",
       "    <tr>\n",
       "      <th>557</th>\n",
       "      <td>822</td>\n",
       "      <td>2014-03-16</td>\n",
       "      <td>21:46:12.02</td>\n",
       "      <td>40.517</td>\n",
       "      <td>-112.162</td>\n",
       "      <td>-2.0</td>\n",
       "      <td>ex</td>\n",
       "      <td>-0.09</td>\n",
       "      <td>1.20</td>\n",
       "      <td>0.07</td>\n",
       "      <td>...</td>\n",
       "      <td>12.70</td>\n",
       "      <td>13.19</td>\n",
       "      <td>NaN</td>\n",
       "      <td>0.55</td>\n",
       "      <td>NaN</td>\n",
       "      <td>NaN</td>\n",
       "      <td>NaN</td>\n",
       "      <td>0.33</td>\n",
       "      <td>0</td>\n",
       "      <td>2</td>\n",
       "    </tr>\n",
       "    <tr>\n",
       "      <th>656</th>\n",
       "      <td>2062</td>\n",
       "      <td>2016-09-11</td>\n",
       "      <td>20:52:48.00</td>\n",
       "      <td>40.509</td>\n",
       "      <td>-112.169</td>\n",
       "      <td>-2.0</td>\n",
       "      <td>ex</td>\n",
       "      <td>-0.23</td>\n",
       "      <td>0.15</td>\n",
       "      <td>0.02</td>\n",
       "      <td>...</td>\n",
       "      <td>13.67</td>\n",
       "      <td>12.74</td>\n",
       "      <td>0.15</td>\n",
       "      <td>0.19</td>\n",
       "      <td>0.31</td>\n",
       "      <td>0.24</td>\n",
       "      <td>0.38</td>\n",
       "      <td>0.53</td>\n",
       "      <td>0</td>\n",
       "      <td>2</td>\n",
       "    </tr>\n",
       "    <tr>\n",
       "      <th>673</th>\n",
       "      <td>8929</td>\n",
       "      <td>2022-08-10</td>\n",
       "      <td>20:31:24.12</td>\n",
       "      <td>39.430</td>\n",
       "      <td>-110.299</td>\n",
       "      <td>-2.2</td>\n",
       "      <td>mis</td>\n",
       "      <td>-0.25</td>\n",
       "      <td>-0.17</td>\n",
       "      <td>-0.05</td>\n",
       "      <td>...</td>\n",
       "      <td>13.79</td>\n",
       "      <td>13.10</td>\n",
       "      <td>0.07</td>\n",
       "      <td>0.10</td>\n",
       "      <td>0.06</td>\n",
       "      <td>0.19</td>\n",
       "      <td>0.32</td>\n",
       "      <td>0.47</td>\n",
       "      <td>2</td>\n",
       "      <td>0</td>\n",
       "    </tr>\n",
       "    <tr>\n",
       "      <th>750</th>\n",
       "      <td>3833</td>\n",
       "      <td>2020-03-18</td>\n",
       "      <td>14:01:04.19</td>\n",
       "      <td>40.726</td>\n",
       "      <td>-112.096</td>\n",
       "      <td>10.0</td>\n",
       "      <td>eq</td>\n",
       "      <td>-0.73</td>\n",
       "      <td>0.63</td>\n",
       "      <td>-0.12</td>\n",
       "      <td>...</td>\n",
       "      <td>14.46</td>\n",
       "      <td>15.35</td>\n",
       "      <td>0.11</td>\n",
       "      <td>-0.12</td>\n",
       "      <td>-0.12</td>\n",
       "      <td>-0.24</td>\n",
       "      <td>NaN</td>\n",
       "      <td>-0.10</td>\n",
       "      <td>1</td>\n",
       "      <td>0</td>\n",
       "    </tr>\n",
       "    <tr>\n",
       "      <th>785</th>\n",
       "      <td>5882</td>\n",
       "      <td>2020-04-29</td>\n",
       "      <td>03:43:41.52</td>\n",
       "      <td>40.711</td>\n",
       "      <td>-112.072</td>\n",
       "      <td>10.0</td>\n",
       "      <td>eq</td>\n",
       "      <td>0.18</td>\n",
       "      <td>0.93</td>\n",
       "      <td>0.60</td>\n",
       "      <td>...</td>\n",
       "      <td>14.16</td>\n",
       "      <td>14.80</td>\n",
       "      <td>NaN</td>\n",
       "      <td>0.01</td>\n",
       "      <td>0.01</td>\n",
       "      <td>0.07</td>\n",
       "      <td>NaN</td>\n",
       "      <td>0.13</td>\n",
       "      <td>1</td>\n",
       "      <td>0</td>\n",
       "    </tr>\n",
       "    <tr>\n",
       "      <th>894</th>\n",
       "      <td>7530</td>\n",
       "      <td>2021-09-13</td>\n",
       "      <td>16:02:45.40</td>\n",
       "      <td>39.428</td>\n",
       "      <td>-110.305</td>\n",
       "      <td>-1.9</td>\n",
       "      <td>mis</td>\n",
       "      <td>-0.42</td>\n",
       "      <td>-0.34</td>\n",
       "      <td>-0.07</td>\n",
       "      <td>...</td>\n",
       "      <td>14.13</td>\n",
       "      <td>12.93</td>\n",
       "      <td>-0.03</td>\n",
       "      <td>0.14</td>\n",
       "      <td>-0.09</td>\n",
       "      <td>-0.31</td>\n",
       "      <td>NaN</td>\n",
       "      <td>0.24</td>\n",
       "      <td>2</td>\n",
       "      <td>0</td>\n",
       "    </tr>\n",
       "    <tr>\n",
       "      <th>907</th>\n",
       "      <td>2738</td>\n",
       "      <td>2018-01-18</td>\n",
       "      <td>17:12:25.43</td>\n",
       "      <td>40.614</td>\n",
       "      <td>-109.514</td>\n",
       "      <td>-2.0</td>\n",
       "      <td>ex</td>\n",
       "      <td>-0.31</td>\n",
       "      <td>-0.22</td>\n",
       "      <td>-0.38</td>\n",
       "      <td>...</td>\n",
       "      <td>14.93</td>\n",
       "      <td>14.15</td>\n",
       "      <td>0.08</td>\n",
       "      <td>0.08</td>\n",
       "      <td>0.17</td>\n",
       "      <td>0.10</td>\n",
       "      <td>0.16</td>\n",
       "      <td>0.07</td>\n",
       "      <td>0</td>\n",
       "      <td>1</td>\n",
       "    </tr>\n",
       "    <tr>\n",
       "      <th>1036</th>\n",
       "      <td>1359</td>\n",
       "      <td>2015-03-23</td>\n",
       "      <td>18:07:34.04</td>\n",
       "      <td>40.521</td>\n",
       "      <td>-112.154</td>\n",
       "      <td>-2.0</td>\n",
       "      <td>ex</td>\n",
       "      <td>-0.26</td>\n",
       "      <td>0.41</td>\n",
       "      <td>0.12</td>\n",
       "      <td>...</td>\n",
       "      <td>12.89</td>\n",
       "      <td>12.64</td>\n",
       "      <td>0.10</td>\n",
       "      <td>0.04</td>\n",
       "      <td>0.17</td>\n",
       "      <td>0.34</td>\n",
       "      <td>0.41</td>\n",
       "      <td>0.53</td>\n",
       "      <td>0</td>\n",
       "      <td>2</td>\n",
       "    </tr>\n",
       "    <tr>\n",
       "      <th>1577</th>\n",
       "      <td>8924</td>\n",
       "      <td>2022-08-10</td>\n",
       "      <td>05:30:15.30</td>\n",
       "      <td>39.426</td>\n",
       "      <td>-110.305</td>\n",
       "      <td>-1.4</td>\n",
       "      <td>mis</td>\n",
       "      <td>-0.51</td>\n",
       "      <td>-0.04</td>\n",
       "      <td>0.09</td>\n",
       "      <td>...</td>\n",
       "      <td>13.66</td>\n",
       "      <td>12.93</td>\n",
       "      <td>-0.10</td>\n",
       "      <td>0.11</td>\n",
       "      <td>0.05</td>\n",
       "      <td>NaN</td>\n",
       "      <td>NaN</td>\n",
       "      <td>0.32</td>\n",
       "      <td>2</td>\n",
       "      <td>0</td>\n",
       "    </tr>\n",
       "  </tbody>\n",
       "</table>\n",
       "<p>14 rows × 22 columns</p>\n",
       "</div>"
      ],
      "text/plain": [
       "      Unnamed: 0        Date         Time    Elat     Elon   Dep  Tag   F01  \\\n",
       "42          2518  2017-08-03  19:59:30.27  40.507 -112.165  -2.0   ex -0.13   \n",
       "126         1584  2015-08-26  17:47:44.53  39.557 -112.200  -2.0   ex -0.12   \n",
       "149         3699  2019-12-17  07:13:46.30  39.413 -110.306  -1.8  mis -0.23   \n",
       "248         8922  2022-08-10  03:33:08.52  39.427 -110.305  -1.4  mis -0.29   \n",
       "472         1128  2014-09-12  19:45:14.79  40.030 -111.739   2.7   eq -0.13   \n",
       "557          822  2014-03-16  21:46:12.02  40.517 -112.162  -2.0   ex -0.09   \n",
       "656         2062  2016-09-11  20:52:48.00  40.509 -112.169  -2.0   ex -0.23   \n",
       "673         8929  2022-08-10  20:31:24.12  39.430 -110.299  -2.2  mis -0.25   \n",
       "750         3833  2020-03-18  14:01:04.19  40.726 -112.096  10.0   eq -0.73   \n",
       "785         5882  2020-04-29  03:43:41.52  40.711 -112.072  10.0   eq  0.18   \n",
       "894         7530  2021-09-13  16:02:45.40  39.428 -110.305  -1.9  mis -0.42   \n",
       "907         2738  2018-01-18  17:12:25.43  40.614 -109.514  -2.0   ex -0.31   \n",
       "1036        1359  2015-03-23  18:07:34.04  40.521 -112.154  -2.0   ex -0.26   \n",
       "1577        8924  2022-08-10  05:30:15.30  39.426 -110.305  -1.4  mis -0.51   \n",
       "\n",
       "       F02   F03  ...    F06    F07   F08   F09   F10   F11   F12   F13  y  \\\n",
       "42    0.49  0.24  ...  12.82  12.77  0.19  0.11  0.14  0.23  0.48  0.63  0   \n",
       "126  -0.10  0.05  ...  15.25  12.90  0.09 -0.02  0.23  0.19 -0.01  0.16  0   \n",
       "149   0.04  0.05  ...  13.31  12.86 -0.15 -0.17 -0.30 -0.20   NaN  0.35  2   \n",
       "248   0.38  0.33  ...  14.23  12.98  0.02  0.19  0.10  0.05  0.19  0.33  2   \n",
       "472   0.56  0.51  ...  14.63  14.62   NaN  0.08  0.01 -0.01   NaN  0.14  1   \n",
       "557   1.20  0.07  ...  12.70  13.19   NaN  0.55   NaN   NaN   NaN  0.33  0   \n",
       "656   0.15  0.02  ...  13.67  12.74  0.15  0.19  0.31  0.24  0.38  0.53  0   \n",
       "673  -0.17 -0.05  ...  13.79  13.10  0.07  0.10  0.06  0.19  0.32  0.47  2   \n",
       "750   0.63 -0.12  ...  14.46  15.35  0.11 -0.12 -0.12 -0.24   NaN -0.10  1   \n",
       "785   0.93  0.60  ...  14.16  14.80   NaN  0.01  0.01  0.07   NaN  0.13  1   \n",
       "894  -0.34 -0.07  ...  14.13  12.93 -0.03  0.14 -0.09 -0.31   NaN  0.24  2   \n",
       "907  -0.22 -0.38  ...  14.93  14.15  0.08  0.08  0.17  0.10  0.16  0.07  0   \n",
       "1036  0.41  0.12  ...  12.89  12.64  0.10  0.04  0.17  0.34  0.41  0.53  0   \n",
       "1577 -0.04  0.09  ...  13.66  12.93 -0.10  0.11  0.05   NaN   NaN  0.32  2   \n",
       "\n",
       "      prediction  \n",
       "42             2  \n",
       "126            1  \n",
       "149            0  \n",
       "248            0  \n",
       "472            0  \n",
       "557            2  \n",
       "656            2  \n",
       "673            0  \n",
       "750            0  \n",
       "785            0  \n",
       "894            0  \n",
       "907            1  \n",
       "1036           2  \n",
       "1577           0  \n",
       "\n",
       "[14 rows x 22 columns]"
      ]
     },
     "execution_count": 27,
     "metadata": {},
     "output_type": "execute_result"
    }
   ],
   "source": [
    "lda_test_misclassified = test_feats_df.iloc[keep_inds2][y_test != y_test_pred_lda]\n",
    "lda_test_misclassified[\"prediction\"] = y_test_pred_lda[y_test != y_test_pred_lda]\n",
    "lda_test_misclassified.to_csv(\"ldaTestMisclassifiedKeith.csv\", index=False)\n",
    "lda_test_misclassified"
   ]
  },
  {
   "cell_type": "markdown",
   "metadata": {},
   "source": [
    "# LDA testing results with 13 features\n",
    "\n",
    "F1-score when training with all 13 features: 0.91  \n",
    "F1-score when training with Keith's 5 features: 0.93"
   ]
  },
  {
   "cell_type": "code",
   "execution_count": 28,
   "metadata": {
    "metadata": {}
   },
   "outputs": [
    {
     "name": "stdout",
     "output_type": "stream",
     "text": [
      "[[ 30   2   3]\n",
      " [  0 143   0]\n",
      " [  2   0  26]]\n"
     ]
    }
   ],
   "source": [
    "y_test_all_pred_lda = lda.predict(X_test_all_scaled)\n",
    "cm = confusion_matrix(y_test_all, y_test_all_pred_lda)\n",
    "print(cm)"
   ]
  },
  {
   "cell_type": "code",
   "execution_count": 29,
   "metadata": {
    "metadata": {}
   },
   "outputs": [
    {
     "data": {
      "text/plain": [
       "<sklearn.metrics._plot.confusion_matrix.ConfusionMatrixDisplay at 0x14a5c1aff320>"
      ]
     },
     "execution_count": 29,
     "metadata": {},
     "output_type": "execute_result"
    },
    {
     "data": {
      "image/png": "[encoded data removed]",
      "text/plain": [
       "<Figure size 640x480 with 2 Axes>"
      ]
     },
     "metadata": {},
     "output_type": "display_data"
    }
   ],
   "source": [
    "display = ConfusionMatrixDisplay(confusion_matrix=cm, \n",
    "                       display_labels=['ex', 'eq', 'mis'])\n",
    "display.plot()"
   ]
  },
  {
   "cell_type": "code",
   "execution_count": 30,
   "metadata": {
    "metadata": {}
   },
   "outputs": [
    {
     "data": {
      "text/plain": [
       "0.9336195484565476"
      ]
     },
     "execution_count": 30,
     "metadata": {},
     "output_type": "execute_result"
    }
   ],
   "source": [
    "f1_score(y_test_all, y_test_all_pred_lda, average='macro')"
   ]
  },
  {
   "cell_type": "markdown",
   "metadata": {},
   "source": [
    "# Naive Bayes"
   ]
  },
  {
   "cell_type": "markdown",
   "metadata": {},
   "source": [
    "## NB Training Results"
   ]
  },
  {
   "cell_type": "code",
   "execution_count": 31,
   "metadata": {
    "metadata": {}
   },
   "outputs": [],
   "source": [
    "nb = GaussianNB()\n",
    "nb.fit(X_train_scaled, y_train)\n",
    "y_train_pred_nb = nb.predict(X_train_scaled)"
   ]
  },
  {
   "cell_type": "code",
   "execution_count": 32,
   "metadata": {
    "metadata": {}
   },
   "outputs": [
    {
     "name": "stdout",
     "output_type": "stream",
     "text": [
      "[[222   4  21]\n",
      " [ 25 932   0]\n",
      " [ 13   0 143]]\n"
     ]
    }
   ],
   "source": [
    "cm = confusion_matrix(y_train, y_train_pred_nb)\n",
    "print(cm)"
   ]
  },
  {
   "cell_type": "code",
   "execution_count": 33,
   "metadata": {
    "metadata": {}
   },
   "outputs": [
    {
     "data": {
      "text/plain": [
       "0.9180566821498491"
      ]
     },
     "execution_count": 33,
     "metadata": {},
     "output_type": "execute_result"
    }
   ],
   "source": [
    "f1_score(y_train, y_train_pred_nb, average='macro')"
   ]
  },
  {
   "cell_type": "markdown",
   "metadata": {},
   "source": [
    "## NB testing results with 5 features"
   ]
  },
  {
   "cell_type": "code",
   "execution_count": 34,
   "metadata": {
    "metadata": {}
   },
   "outputs": [
    {
     "name": "stdout",
     "output_type": "stream",
     "text": [
      "[[ 52   2   1]\n",
      " [  7 225   0]\n",
      " [  6   0  34]]\n"
     ]
    }
   ],
   "source": [
    "y_test_pred_nb = nb.predict(X_test_scaled)\n",
    "cm_nb_test = confusion_matrix(y_test, y_test_pred_nb)\n",
    "print(cm_nb_test)"
   ]
  },
  {
   "cell_type": "code",
   "execution_count": 35,
   "metadata": {
    "metadata": {}
   },
   "outputs": [
    {
     "data": {
      "text/plain": [
       "<sklearn.metrics._plot.confusion_matrix.ConfusionMatrixDisplay at 0x14a5b842df70>"
      ]
     },
     "execution_count": 35,
     "metadata": {},
     "output_type": "execute_result"
    },
    {
     "data": {
      "image/png": "[encoded data removed]",
      "text/plain": [
       "<Figure size 640x480 with 2 Axes>"
      ]
     },
     "metadata": {},
     "output_type": "display_data"
    }
   ],
   "source": [
    "display = ConfusionMatrixDisplay(confusion_matrix=cm_nb_test, \n",
    "                       display_labels=['ex', 'eq', 'mis'])\n",
    "display.plot()"
   ]
  },
  {
   "cell_type": "code",
   "execution_count": 36,
   "metadata": {
    "metadata": {}
   },
   "outputs": [
    {
     "data": {
      "text/plain": [
       "0.9179084967320262"
      ]
     },
     "execution_count": 36,
     "metadata": {},
     "output_type": "execute_result"
    }
   ],
   "source": [
    "f1_score(y_test, y_test_pred_nb, average='macro')"
   ]
  },
  {
   "cell_type": "code",
   "execution_count": 37,
   "metadata": {
    "metadata": {}
   },
   "outputs": [
    {
     "data": {
      "text/plain": [
       "0.8666666666666667"
      ]
     },
     "execution_count": 37,
     "metadata": {},
     "output_type": "execute_result"
    }
   ],
   "source": [
    "f1_score(y_test, y_test_pred_nb, average='macro', labels=[0])"
   ]
  },
  {
   "cell_type": "code",
   "execution_count": 38,
   "metadata": {
    "metadata": {}
   },
   "outputs": [
    {
     "data": {
      "text/plain": [
       "0.9803921568627451"
      ]
     },
     "execution_count": 38,
     "metadata": {},
     "output_type": "execute_result"
    }
   ],
   "source": [
    "f1_score(y_test, y_test_pred_nb, average='macro', labels=[1])"
   ]
  },
  {
   "cell_type": "code",
   "execution_count": 39,
   "metadata": {
    "metadata": {}
   },
   "outputs": [
    {
     "data": {
      "text/plain": [
       "0.9066666666666666"
      ]
     },
     "execution_count": 39,
     "metadata": {},
     "output_type": "execute_result"
    }
   ],
   "source": [
    "f1_score(y_test, y_test_pred_nb, average='macro', labels=[2])"
   ]
  },
  {
   "cell_type": "code",
   "execution_count": 40,
   "metadata": {
    "metadata": {}
   },
   "outputs": [],
   "source": [
    "nb_test_misclassified = test_feats_df.iloc[keep_inds2][y_test != y_test_pred_nb]"
   ]
  },
  {
   "cell_type": "code",
   "execution_count": 41,
   "metadata": {
    "metadata": {}
   },
   "outputs": [
    {
     "data": {
      "text/plain": [
       "array([1, 0, 0, 0, 0, 0, 2, 0, 0, 1, 0, 0, 0, 0, 0, 0])"
      ]
     },
     "execution_count": 41,
     "metadata": {},
     "output_type": "execute_result"
    }
   ],
   "source": [
    "y_test_pred_nb[y_test != y_test_pred_nb]"
   ]
  },
  {
   "cell_type": "code",
   "execution_count": 42,
   "metadata": {
    "metadata": {}
   },
   "outputs": [],
   "source": [
    "nb_test_misclassified[\"predicted\"] = y_test_pred_nb[y_test != y_test_pred_nb]\n",
    "nb_test_misclassified\n",
    "nb_test_misclassified.to_csv(\"nbTestMisclassifiedKeith.csv\", index=False)"
   ]
  },
  {
   "cell_type": "markdown",
   "metadata": {},
   "source": [
    "## NB testing results w/ 13 features\n",
    "\n",
    "F1-score when training with all 13 features: 0.93  \n",
    "F1-score when training with Keith's 5 features features: 0.94"
   ]
  },
  {
   "cell_type": "code",
   "execution_count": 43,
   "metadata": {
    "metadata": {}
   },
   "outputs": [
    {
     "name": "stdout",
     "output_type": "stream",
     "text": [
      "[[ 32   2   1]\n",
      " [  1 142   0]\n",
      " [  3   0  25]]\n"
     ]
    }
   ],
   "source": [
    "y_test_all_pred_nb = nb.predict(X_test_all_scaled)\n",
    "cm = confusion_matrix(y_test_all, y_test_all_pred_nb)\n",
    "print(cm)"
   ]
  },
  {
   "cell_type": "code",
   "execution_count": 44,
   "metadata": {
    "metadata": {}
   },
   "outputs": [
    {
     "data": {
      "text/plain": [
       "<sklearn.metrics._plot.confusion_matrix.ConfusionMatrixDisplay at 0x14a5b81d18b0>"
      ]
     },
     "execution_count": 44,
     "metadata": {},
     "output_type": "execute_result"
    },
    {
     "data": {
      "image/png": "[encoded data removed]",
      "text/plain": [
       "<Figure size 640x480 with 2 Axes>"
      ]
     },
     "metadata": {},
     "output_type": "display_data"
    }
   ],
   "source": [
    "display = ConfusionMatrixDisplay(confusion_matrix=cm, \n",
    "                       display_labels=['ex', 'eq', 'mis'])\n",
    "display.plot()"
   ]
  },
  {
   "cell_type": "code",
   "execution_count": 45,
   "metadata": {
    "metadata": {}
   },
   "outputs": [
    {
     "data": {
      "text/plain": [
       "0.9389604716525591"
      ]
     },
     "execution_count": 45,
     "metadata": {},
     "output_type": "execute_result"
    }
   ],
   "source": [
    "f1_score(y_test_all, y_test_all_pred_nb, average='macro')"
   ]
  },
  {
   "cell_type": "code",
   "execution_count": 46,
   "metadata": {
    "metadata": {}
   },
   "outputs": [
    {
     "data": {
      "text/plain": [
       "0.9014084507042254"
      ]
     },
     "execution_count": 46,
     "metadata": {},
     "output_type": "execute_result"
    }
   ],
   "source": [
    "f1_score(y_test_all, y_test_all_pred_nb, average='macro', labels=[0])"
   ]
  },
  {
   "cell_type": "code",
   "execution_count": 47,
   "metadata": {
    "metadata": {}
   },
   "outputs": [
    {
     "data": {
      "text/plain": [
       "0.9895470383275261"
      ]
     },
     "execution_count": 47,
     "metadata": {},
     "output_type": "execute_result"
    }
   ],
   "source": [
    "f1_score(y_test_all, y_test_all_pred_nb, average='macro', labels=[1])"
   ]
  },
  {
   "cell_type": "code",
   "execution_count": 48,
   "metadata": {
    "metadata": {}
   },
   "outputs": [
    {
     "data": {
      "text/plain": [
       "0.9259259259259259"
      ]
     },
     "execution_count": 48,
     "metadata": {},
     "output_type": "execute_result"
    }
   ],
   "source": [
    "f1_score(y_test_all, y_test_all_pred_nb, average='macro', labels=[2])"
   ]
  },
  {
   "cell_type": "code",
   "execution_count": 49,
   "metadata": {
    "metadata": {}
   },
   "outputs": [
    {
     "data": {
      "text/html": [
       "<div>\n",
       "<style scoped>\n",
       "    .dataframe tbody tr th:only-of-type {\n",
       "        vertical-align: middle;\n",
       "    }\n",
       "\n",
       "    .dataframe tbody tr th {\n",
       "        vertical-align: top;\n",
       "    }\n",
       "\n",
       "    .dataframe thead th {\n",
       "        text-align: right;\n",
       "    }\n",
       "</style>\n",
       "<table border=\"1\" class=\"dataframe\">\n",
       "  <thead>\n",
       "    <tr style=\"text-align: right;\">\n",
       "      <th></th>\n",
       "      <th>Unnamed: 0</th>\n",
       "      <th>Date</th>\n",
       "      <th>Time</th>\n",
       "      <th>Elat</th>\n",
       "      <th>Elon</th>\n",
       "      <th>Dep</th>\n",
       "      <th>Tag</th>\n",
       "      <th>F01</th>\n",
       "      <th>F02</th>\n",
       "      <th>F03</th>\n",
       "      <th>...</th>\n",
       "      <th>F05</th>\n",
       "      <th>F06</th>\n",
       "      <th>F07</th>\n",
       "      <th>F08</th>\n",
       "      <th>F09</th>\n",
       "      <th>F10</th>\n",
       "      <th>F11</th>\n",
       "      <th>F12</th>\n",
       "      <th>F13</th>\n",
       "      <th>y</th>\n",
       "    </tr>\n",
       "  </thead>\n",
       "  <tbody>\n",
       "    <tr>\n",
       "      <th>126</th>\n",
       "      <td>1584</td>\n",
       "      <td>2015-08-26</td>\n",
       "      <td>17:47:44.53</td>\n",
       "      <td>39.557</td>\n",
       "      <td>-112.200</td>\n",
       "      <td>-2.0</td>\n",
       "      <td>ex</td>\n",
       "      <td>-0.12</td>\n",
       "      <td>-0.10</td>\n",
       "      <td>0.05</td>\n",
       "      <td>...</td>\n",
       "      <td>-95.7</td>\n",
       "      <td>15.25</td>\n",
       "      <td>12.90</td>\n",
       "      <td>0.09</td>\n",
       "      <td>-0.02</td>\n",
       "      <td>0.23</td>\n",
       "      <td>0.19</td>\n",
       "      <td>-0.01</td>\n",
       "      <td>0.16</td>\n",
       "      <td>0</td>\n",
       "    </tr>\n",
       "    <tr>\n",
       "      <th>547</th>\n",
       "      <td>7470</td>\n",
       "      <td>2021-09-02</td>\n",
       "      <td>05:43:22.92</td>\n",
       "      <td>39.430</td>\n",
       "      <td>-110.300</td>\n",
       "      <td>-2.0</td>\n",
       "      <td>mis</td>\n",
       "      <td>-0.21</td>\n",
       "      <td>0.19</td>\n",
       "      <td>0.17</td>\n",
       "      <td>...</td>\n",
       "      <td>-111.0</td>\n",
       "      <td>15.31</td>\n",
       "      <td>12.64</td>\n",
       "      <td>0.00</td>\n",
       "      <td>0.31</td>\n",
       "      <td>0.21</td>\n",
       "      <td>-0.01</td>\n",
       "      <td>0.55</td>\n",
       "      <td>0.65</td>\n",
       "      <td>2</td>\n",
       "    </tr>\n",
       "    <tr>\n",
       "      <th>656</th>\n",
       "      <td>2062</td>\n",
       "      <td>2016-09-11</td>\n",
       "      <td>20:52:48.00</td>\n",
       "      <td>40.509</td>\n",
       "      <td>-112.169</td>\n",
       "      <td>-2.0</td>\n",
       "      <td>ex</td>\n",
       "      <td>-0.23</td>\n",
       "      <td>0.15</td>\n",
       "      <td>0.02</td>\n",
       "      <td>...</td>\n",
       "      <td>-127.0</td>\n",
       "      <td>13.67</td>\n",
       "      <td>12.74</td>\n",
       "      <td>0.15</td>\n",
       "      <td>0.19</td>\n",
       "      <td>0.31</td>\n",
       "      <td>0.24</td>\n",
       "      <td>0.38</td>\n",
       "      <td>0.53</td>\n",
       "      <td>0</td>\n",
       "    </tr>\n",
       "    <tr>\n",
       "      <th>673</th>\n",
       "      <td>8929</td>\n",
       "      <td>2022-08-10</td>\n",
       "      <td>20:31:24.12</td>\n",
       "      <td>39.430</td>\n",
       "      <td>-110.299</td>\n",
       "      <td>-2.2</td>\n",
       "      <td>mis</td>\n",
       "      <td>-0.25</td>\n",
       "      <td>-0.17</td>\n",
       "      <td>-0.05</td>\n",
       "      <td>...</td>\n",
       "      <td>-119.4</td>\n",
       "      <td>13.79</td>\n",
       "      <td>13.10</td>\n",
       "      <td>0.07</td>\n",
       "      <td>0.10</td>\n",
       "      <td>0.06</td>\n",
       "      <td>0.19</td>\n",
       "      <td>0.32</td>\n",
       "      <td>0.47</td>\n",
       "      <td>2</td>\n",
       "    </tr>\n",
       "    <tr>\n",
       "      <th>907</th>\n",
       "      <td>2738</td>\n",
       "      <td>2018-01-18</td>\n",
       "      <td>17:12:25.43</td>\n",
       "      <td>40.614</td>\n",
       "      <td>-109.514</td>\n",
       "      <td>-2.0</td>\n",
       "      <td>ex</td>\n",
       "      <td>-0.31</td>\n",
       "      <td>-0.22</td>\n",
       "      <td>-0.38</td>\n",
       "      <td>...</td>\n",
       "      <td>-120.6</td>\n",
       "      <td>14.93</td>\n",
       "      <td>14.15</td>\n",
       "      <td>0.08</td>\n",
       "      <td>0.08</td>\n",
       "      <td>0.17</td>\n",
       "      <td>0.10</td>\n",
       "      <td>0.16</td>\n",
       "      <td>0.07</td>\n",
       "      <td>0</td>\n",
       "    </tr>\n",
       "    <tr>\n",
       "      <th>1086</th>\n",
       "      <td>3201</td>\n",
       "      <td>2019-02-16</td>\n",
       "      <td>06:41:40.57</td>\n",
       "      <td>40.471</td>\n",
       "      <td>-111.934</td>\n",
       "      <td>4.6</td>\n",
       "      <td>eq</td>\n",
       "      <td>0.12</td>\n",
       "      <td>1.04</td>\n",
       "      <td>0.69</td>\n",
       "      <td>...</td>\n",
       "      <td>-127.7</td>\n",
       "      <td>14.33</td>\n",
       "      <td>14.74</td>\n",
       "      <td>-0.12</td>\n",
       "      <td>-0.03</td>\n",
       "      <td>-0.01</td>\n",
       "      <td>0.07</td>\n",
       "      <td>-0.06</td>\n",
       "      <td>0.07</td>\n",
       "      <td>1</td>\n",
       "    </tr>\n",
       "    <tr>\n",
       "      <th>1650</th>\n",
       "      <td>2959</td>\n",
       "      <td>2018-08-18</td>\n",
       "      <td>18:18:26.54</td>\n",
       "      <td>38.982</td>\n",
       "      <td>-111.365</td>\n",
       "      <td>-1.9</td>\n",
       "      <td>mis</td>\n",
       "      <td>-0.54</td>\n",
       "      <td>0.20</td>\n",
       "      <td>-0.06</td>\n",
       "      <td>...</td>\n",
       "      <td>-135.6</td>\n",
       "      <td>12.66</td>\n",
       "      <td>12.70</td>\n",
       "      <td>0.07</td>\n",
       "      <td>0.07</td>\n",
       "      <td>0.01</td>\n",
       "      <td>-0.17</td>\n",
       "      <td>0.25</td>\n",
       "      <td>0.06</td>\n",
       "      <td>2</td>\n",
       "    </tr>\n",
       "  </tbody>\n",
       "</table>\n",
       "<p>7 rows × 21 columns</p>\n",
       "</div>"
      ],
      "text/plain": [
       "      Unnamed: 0        Date         Time    Elat     Elon  Dep  Tag   F01  \\\n",
       "126         1584  2015-08-26  17:47:44.53  39.557 -112.200 -2.0   ex -0.12   \n",
       "547         7470  2021-09-02  05:43:22.92  39.430 -110.300 -2.0  mis -0.21   \n",
       "656         2062  2016-09-11  20:52:48.00  40.509 -112.169 -2.0   ex -0.23   \n",
       "673         8929  2022-08-10  20:31:24.12  39.430 -110.299 -2.2  mis -0.25   \n",
       "907         2738  2018-01-18  17:12:25.43  40.614 -109.514 -2.0   ex -0.31   \n",
       "1086        3201  2019-02-16  06:41:40.57  40.471 -111.934  4.6   eq  0.12   \n",
       "1650        2959  2018-08-18  18:18:26.54  38.982 -111.365 -1.9  mis -0.54   \n",
       "\n",
       "       F02   F03  ...    F05    F06    F07   F08   F09   F10   F11   F12  \\\n",
       "126  -0.10  0.05  ...  -95.7  15.25  12.90  0.09 -0.02  0.23  0.19 -0.01   \n",
       "547   0.19  0.17  ... -111.0  15.31  12.64  0.00  0.31  0.21 -0.01  0.55   \n",
       "656   0.15  0.02  ... -127.0  13.67  12.74  0.15  0.19  0.31  0.24  0.38   \n",
       "673  -0.17 -0.05  ... -119.4  13.79  13.10  0.07  0.10  0.06  0.19  0.32   \n",
       "907  -0.22 -0.38  ... -120.6  14.93  14.15  0.08  0.08  0.17  0.10  0.16   \n",
       "1086  1.04  0.69  ... -127.7  14.33  14.74 -0.12 -0.03 -0.01  0.07 -0.06   \n",
       "1650  0.20 -0.06  ... -135.6  12.66  12.70  0.07  0.07  0.01 -0.17  0.25   \n",
       "\n",
       "       F13  y  \n",
       "126   0.16  0  \n",
       "547   0.65  2  \n",
       "656   0.53  0  \n",
       "673   0.47  2  \n",
       "907   0.07  0  \n",
       "1086  0.07  1  \n",
       "1650  0.06  2  \n",
       "\n",
       "[7 rows x 21 columns]"
      ]
     },
     "execution_count": 49,
     "metadata": {},
     "output_type": "execute_result"
    }
   ],
   "source": [
    "test_all_feats_df.iloc[keep_inds3][y_test_all != y_test_all_pred_nb]"
   ]
  },
  {
   "cell_type": "markdown",
   "metadata": {},
   "source": [
    "# Random Forest"
   ]
  },
  {
   "cell_type": "code",
   "execution_count": 50,
   "metadata": {
    "metadata": {}
   },
   "outputs": [],
   "source": [
    "from sklearn.ensemble import RandomForestClassifier\n",
    "from sklearn.model_selection import RepeatedStratifiedKFold, GridSearchCV"
   ]
  },
  {
   "cell_type": "code",
   "execution_count": 51,
   "metadata": {
    "metadata": {}
   },
   "outputs": [
    {
     "data": {
      "text/plain": [
       "{'max_depth': 5, 'min_samples_leaf': 5, 'n_estimators': 50}"
      ]
     },
     "execution_count": 51,
     "metadata": {},
     "output_type": "execute_result"
    }
   ],
   "source": [
    "rskf = RepeatedStratifiedKFold(n_splits=10, n_repeats=2, random_state=36851234)\n",
    "model = RandomForestClassifier(random_state=0)\n",
    "params = {\"n_estimators\": [50, 100, 500, 100], \"min_samples_leaf\":[1, 2, 5, 10], \"max_depth\":[5, 10]}\n",
    "gs = GridSearchCV(model, params, scoring=\"f1_macro\", cv=rskf, n_jobs=5)\n",
    "gs.fit(X_train, y_train)\n",
    "model = gs.best_estimator_\n",
    "gs.best_params_"
   ]
  },
  {
   "cell_type": "code",
   "execution_count": 52,
   "metadata": {
    "metadata": {}
   },
   "outputs": [],
   "source": [
    "# params = {'max_depth': 10, 'min_samples_leaf': 1, 'n_estimators': 100}\n",
    "# model = RandomForestClassifier(random_state=0, **params)\n",
    "# model.fit(X_train, y_train)"
   ]
  },
  {
   "cell_type": "code",
   "execution_count": 53,
   "metadata": {
    "metadata": {}
   },
   "outputs": [
    {
     "data": {
      "text/plain": [
       "0.9466975710950432"
      ]
     },
     "execution_count": 53,
     "metadata": {},
     "output_type": "execute_result"
    }
   ],
   "source": [
    "y_train_preds_rf = model.predict(X_train)\n",
    "f1_score(y_train, y_train_preds_rf, average=\"macro\")"
   ]
  },
  {
   "cell_type": "code",
   "execution_count": 54,
   "metadata": {
    "metadata": {}
   },
   "outputs": [
    {
     "data": {
      "text/plain": [
       "0.9194237340789065"
      ]
     },
     "execution_count": 54,
     "metadata": {},
     "output_type": "execute_result"
    }
   ],
   "source": [
    "y_test_preds_rf = model.predict(X_test)\n",
    "f1_score(y_test, y_test_preds_rf, average=\"macro\")"
   ]
  },
  {
   "cell_type": "code",
   "execution_count": 55,
   "metadata": {
    "metadata": {}
   },
   "outputs": [
    {
     "data": {
      "text/plain": [
       "0.8793103448275862"
      ]
     },
     "execution_count": 55,
     "metadata": {},
     "output_type": "execute_result"
    }
   ],
   "source": [
    "f1_score(y_test, y_test_preds_rf, average=\"macro\", labels=[0])"
   ]
  },
  {
   "cell_type": "code",
   "execution_count": 56,
   "metadata": {
    "metadata": {}
   },
   "outputs": [
    {
     "data": {
      "text/plain": [
       "0.9870689655172413"
      ]
     },
     "execution_count": 56,
     "metadata": {},
     "output_type": "execute_result"
    }
   ],
   "source": [
    "f1_score(y_test, y_test_preds_rf, average=\"macro\", labels=[1])"
   ]
  },
  {
   "cell_type": "code",
   "execution_count": 57,
   "metadata": {
    "metadata": {}
   },
   "outputs": [
    {
     "data": {
      "text/plain": [
       "0.8918918918918919"
      ]
     },
     "execution_count": 57,
     "metadata": {},
     "output_type": "execute_result"
    }
   ],
   "source": [
    "f1_score(y_test, y_test_preds_rf, average=\"macro\", labels=[2])"
   ]
  },
  {
   "cell_type": "code",
   "execution_count": 58,
   "metadata": {
    "metadata": {}
   },
   "outputs": [
    {
     "name": "stdout",
     "output_type": "stream",
     "text": [
      "[[ 51   3   1]\n",
      " [  3 229   0]\n",
      " [  7   0  33]]\n"
     ]
    }
   ],
   "source": [
    "cm_test_rf = confusion_matrix(y_test, y_test_preds_rf)\n",
    "print(cm_test_rf)"
   ]
  },
  {
   "cell_type": "code",
   "execution_count": 59,
   "metadata": {
    "metadata": {}
   },
   "outputs": [
    {
     "data": {
      "text/html": [
       "<div>\n",
       "<style scoped>\n",
       "    .dataframe tbody tr th:only-of-type {\n",
       "        vertical-align: middle;\n",
       "    }\n",
       "\n",
       "    .dataframe tbody tr th {\n",
       "        vertical-align: top;\n",
       "    }\n",
       "\n",
       "    .dataframe thead th {\n",
       "        text-align: right;\n",
       "    }\n",
       "</style>\n",
       "<table border=\"1\" class=\"dataframe\">\n",
       "  <thead>\n",
       "    <tr style=\"text-align: right;\">\n",
       "      <th></th>\n",
       "      <th>Unnamed: 0</th>\n",
       "      <th>Date</th>\n",
       "      <th>Time</th>\n",
       "      <th>Elat</th>\n",
       "      <th>Elon</th>\n",
       "      <th>Dep</th>\n",
       "      <th>Tag</th>\n",
       "      <th>F01</th>\n",
       "      <th>F02</th>\n",
       "      <th>F03</th>\n",
       "      <th>...</th>\n",
       "      <th>F06</th>\n",
       "      <th>F07</th>\n",
       "      <th>F08</th>\n",
       "      <th>F09</th>\n",
       "      <th>F10</th>\n",
       "      <th>F11</th>\n",
       "      <th>F12</th>\n",
       "      <th>F13</th>\n",
       "      <th>y</th>\n",
       "      <th>prediction</th>\n",
       "    </tr>\n",
       "  </thead>\n",
       "  <tbody>\n",
       "    <tr>\n",
       "      <th>126</th>\n",
       "      <td>1584</td>\n",
       "      <td>2015-08-26</td>\n",
       "      <td>17:47:44.53</td>\n",
       "      <td>39.557</td>\n",
       "      <td>-112.200</td>\n",
       "      <td>-2.0</td>\n",
       "      <td>ex</td>\n",
       "      <td>-0.12</td>\n",
       "      <td>-0.10</td>\n",
       "      <td>0.05</td>\n",
       "      <td>...</td>\n",
       "      <td>15.25</td>\n",
       "      <td>12.90</td>\n",
       "      <td>0.09</td>\n",
       "      <td>-0.02</td>\n",
       "      <td>0.23</td>\n",
       "      <td>0.19</td>\n",
       "      <td>-0.01</td>\n",
       "      <td>0.16</td>\n",
       "      <td>0</td>\n",
       "      <td>1</td>\n",
       "    </tr>\n",
       "    <tr>\n",
       "      <th>149</th>\n",
       "      <td>3699</td>\n",
       "      <td>2019-12-17</td>\n",
       "      <td>07:13:46.30</td>\n",
       "      <td>39.413</td>\n",
       "      <td>-110.306</td>\n",
       "      <td>-1.8</td>\n",
       "      <td>mis</td>\n",
       "      <td>-0.23</td>\n",
       "      <td>0.04</td>\n",
       "      <td>0.05</td>\n",
       "      <td>...</td>\n",
       "      <td>13.31</td>\n",
       "      <td>12.86</td>\n",
       "      <td>-0.15</td>\n",
       "      <td>-0.17</td>\n",
       "      <td>-0.30</td>\n",
       "      <td>-0.20</td>\n",
       "      <td>NaN</td>\n",
       "      <td>0.35</td>\n",
       "      <td>2</td>\n",
       "      <td>0</td>\n",
       "    </tr>\n",
       "    <tr>\n",
       "      <th>329</th>\n",
       "      <td>7151</td>\n",
       "      <td>2021-06-21</td>\n",
       "      <td>01:41:37.74</td>\n",
       "      <td>37.592</td>\n",
       "      <td>-113.313</td>\n",
       "      <td>8.6</td>\n",
       "      <td>eq</td>\n",
       "      <td>0.03</td>\n",
       "      <td>0.74</td>\n",
       "      <td>0.46</td>\n",
       "      <td>...</td>\n",
       "      <td>13.77</td>\n",
       "      <td>14.86</td>\n",
       "      <td>NaN</td>\n",
       "      <td>-0.23</td>\n",
       "      <td>-0.23</td>\n",
       "      <td>-0.31</td>\n",
       "      <td>NaN</td>\n",
       "      <td>-0.28</td>\n",
       "      <td>1</td>\n",
       "      <td>0</td>\n",
       "    </tr>\n",
       "    <tr>\n",
       "      <th>365</th>\n",
       "      <td>1889</td>\n",
       "      <td>2016-05-05</td>\n",
       "      <td>22:23:14.54</td>\n",
       "      <td>40.623</td>\n",
       "      <td>-109.507</td>\n",
       "      <td>-2.0</td>\n",
       "      <td>ex</td>\n",
       "      <td>-0.12</td>\n",
       "      <td>-0.37</td>\n",
       "      <td>-0.47</td>\n",
       "      <td>...</td>\n",
       "      <td>15.24</td>\n",
       "      <td>14.64</td>\n",
       "      <td>0.13</td>\n",
       "      <td>0.14</td>\n",
       "      <td>0.14</td>\n",
       "      <td>0.10</td>\n",
       "      <td>0.14</td>\n",
       "      <td>0.16</td>\n",
       "      <td>0</td>\n",
       "      <td>1</td>\n",
       "    </tr>\n",
       "    <tr>\n",
       "      <th>370</th>\n",
       "      <td>7500</td>\n",
       "      <td>2021-09-08</td>\n",
       "      <td>00:36:37.12</td>\n",
       "      <td>39.433</td>\n",
       "      <td>-110.317</td>\n",
       "      <td>-1.6</td>\n",
       "      <td>mis</td>\n",
       "      <td>-0.67</td>\n",
       "      <td>-0.33</td>\n",
       "      <td>-0.44</td>\n",
       "      <td>...</td>\n",
       "      <td>13.43</td>\n",
       "      <td>13.33</td>\n",
       "      <td>0.05</td>\n",
       "      <td>0.08</td>\n",
       "      <td>0.03</td>\n",
       "      <td>-0.06</td>\n",
       "      <td>0.23</td>\n",
       "      <td>0.16</td>\n",
       "      <td>2</td>\n",
       "      <td>0</td>\n",
       "    </tr>\n",
       "    <tr>\n",
       "      <th>472</th>\n",
       "      <td>1128</td>\n",
       "      <td>2014-09-12</td>\n",
       "      <td>19:45:14.79</td>\n",
       "      <td>40.030</td>\n",
       "      <td>-111.739</td>\n",
       "      <td>2.7</td>\n",
       "      <td>eq</td>\n",
       "      <td>-0.13</td>\n",
       "      <td>0.56</td>\n",
       "      <td>0.51</td>\n",
       "      <td>...</td>\n",
       "      <td>14.63</td>\n",
       "      <td>14.62</td>\n",
       "      <td>NaN</td>\n",
       "      <td>0.08</td>\n",
       "      <td>0.01</td>\n",
       "      <td>-0.01</td>\n",
       "      <td>NaN</td>\n",
       "      <td>0.14</td>\n",
       "      <td>1</td>\n",
       "      <td>0</td>\n",
       "    </tr>\n",
       "    <tr>\n",
       "      <th>527</th>\n",
       "      <td>836</td>\n",
       "      <td>2014-03-23</td>\n",
       "      <td>06:03:51.77</td>\n",
       "      <td>40.562</td>\n",
       "      <td>-111.263</td>\n",
       "      <td>13.3</td>\n",
       "      <td>eq</td>\n",
       "      <td>-0.17</td>\n",
       "      <td>0.89</td>\n",
       "      <td>0.57</td>\n",
       "      <td>...</td>\n",
       "      <td>13.82</td>\n",
       "      <td>13.75</td>\n",
       "      <td>NaN</td>\n",
       "      <td>0.08</td>\n",
       "      <td>0.08</td>\n",
       "      <td>0.09</td>\n",
       "      <td>NaN</td>\n",
       "      <td>0.07</td>\n",
       "      <td>1</td>\n",
       "      <td>0</td>\n",
       "    </tr>\n",
       "    <tr>\n",
       "      <th>547</th>\n",
       "      <td>7470</td>\n",
       "      <td>2021-09-02</td>\n",
       "      <td>05:43:22.92</td>\n",
       "      <td>39.430</td>\n",
       "      <td>-110.300</td>\n",
       "      <td>-2.0</td>\n",
       "      <td>mis</td>\n",
       "      <td>-0.21</td>\n",
       "      <td>0.19</td>\n",
       "      <td>0.17</td>\n",
       "      <td>...</td>\n",
       "      <td>15.31</td>\n",
       "      <td>12.64</td>\n",
       "      <td>0.00</td>\n",
       "      <td>0.31</td>\n",
       "      <td>0.21</td>\n",
       "      <td>-0.01</td>\n",
       "      <td>0.55</td>\n",
       "      <td>0.65</td>\n",
       "      <td>2</td>\n",
       "      <td>0</td>\n",
       "    </tr>\n",
       "    <tr>\n",
       "      <th>645</th>\n",
       "      <td>8832</td>\n",
       "      <td>2022-07-29</td>\n",
       "      <td>07:08:19.74</td>\n",
       "      <td>39.428</td>\n",
       "      <td>-110.303</td>\n",
       "      <td>-1.7</td>\n",
       "      <td>mis</td>\n",
       "      <td>-0.20</td>\n",
       "      <td>0.22</td>\n",
       "      <td>0.37</td>\n",
       "      <td>...</td>\n",
       "      <td>13.38</td>\n",
       "      <td>12.48</td>\n",
       "      <td>0.00</td>\n",
       "      <td>0.32</td>\n",
       "      <td>0.10</td>\n",
       "      <td>NaN</td>\n",
       "      <td>NaN</td>\n",
       "      <td>0.66</td>\n",
       "      <td>2</td>\n",
       "      <td>0</td>\n",
       "    </tr>\n",
       "    <tr>\n",
       "      <th>656</th>\n",
       "      <td>2062</td>\n",
       "      <td>2016-09-11</td>\n",
       "      <td>20:52:48.00</td>\n",
       "      <td>40.509</td>\n",
       "      <td>-112.169</td>\n",
       "      <td>-2.0</td>\n",
       "      <td>ex</td>\n",
       "      <td>-0.23</td>\n",
       "      <td>0.15</td>\n",
       "      <td>0.02</td>\n",
       "      <td>...</td>\n",
       "      <td>13.67</td>\n",
       "      <td>12.74</td>\n",
       "      <td>0.15</td>\n",
       "      <td>0.19</td>\n",
       "      <td>0.31</td>\n",
       "      <td>0.24</td>\n",
       "      <td>0.38</td>\n",
       "      <td>0.53</td>\n",
       "      <td>0</td>\n",
       "      <td>2</td>\n",
       "    </tr>\n",
       "    <tr>\n",
       "      <th>673</th>\n",
       "      <td>8929</td>\n",
       "      <td>2022-08-10</td>\n",
       "      <td>20:31:24.12</td>\n",
       "      <td>39.430</td>\n",
       "      <td>-110.299</td>\n",
       "      <td>-2.2</td>\n",
       "      <td>mis</td>\n",
       "      <td>-0.25</td>\n",
       "      <td>-0.17</td>\n",
       "      <td>-0.05</td>\n",
       "      <td>...</td>\n",
       "      <td>13.79</td>\n",
       "      <td>13.10</td>\n",
       "      <td>0.07</td>\n",
       "      <td>0.10</td>\n",
       "      <td>0.06</td>\n",
       "      <td>0.19</td>\n",
       "      <td>0.32</td>\n",
       "      <td>0.47</td>\n",
       "      <td>2</td>\n",
       "      <td>0</td>\n",
       "    </tr>\n",
       "    <tr>\n",
       "      <th>907</th>\n",
       "      <td>2738</td>\n",
       "      <td>2018-01-18</td>\n",
       "      <td>17:12:25.43</td>\n",
       "      <td>40.614</td>\n",
       "      <td>-109.514</td>\n",
       "      <td>-2.0</td>\n",
       "      <td>ex</td>\n",
       "      <td>-0.31</td>\n",
       "      <td>-0.22</td>\n",
       "      <td>-0.38</td>\n",
       "      <td>...</td>\n",
       "      <td>14.93</td>\n",
       "      <td>14.15</td>\n",
       "      <td>0.08</td>\n",
       "      <td>0.08</td>\n",
       "      <td>0.17</td>\n",
       "      <td>0.10</td>\n",
       "      <td>0.16</td>\n",
       "      <td>0.07</td>\n",
       "      <td>0</td>\n",
       "      <td>1</td>\n",
       "    </tr>\n",
       "    <tr>\n",
       "      <th>1650</th>\n",
       "      <td>2959</td>\n",
       "      <td>2018-08-18</td>\n",
       "      <td>18:18:26.54</td>\n",
       "      <td>38.982</td>\n",
       "      <td>-111.365</td>\n",
       "      <td>-1.9</td>\n",
       "      <td>mis</td>\n",
       "      <td>-0.54</td>\n",
       "      <td>0.20</td>\n",
       "      <td>-0.06</td>\n",
       "      <td>...</td>\n",
       "      <td>12.66</td>\n",
       "      <td>12.70</td>\n",
       "      <td>0.07</td>\n",
       "      <td>0.07</td>\n",
       "      <td>0.01</td>\n",
       "      <td>-0.17</td>\n",
       "      <td>0.25</td>\n",
       "      <td>0.06</td>\n",
       "      <td>2</td>\n",
       "      <td>0</td>\n",
       "    </tr>\n",
       "    <tr>\n",
       "      <th>1886</th>\n",
       "      <td>7164</td>\n",
       "      <td>2021-06-26</td>\n",
       "      <td>05:01:33.77</td>\n",
       "      <td>38.983</td>\n",
       "      <td>-111.356</td>\n",
       "      <td>-1.9</td>\n",
       "      <td>mis</td>\n",
       "      <td>-0.74</td>\n",
       "      <td>-0.27</td>\n",
       "      <td>-0.15</td>\n",
       "      <td>...</td>\n",
       "      <td>13.42</td>\n",
       "      <td>12.44</td>\n",
       "      <td>NaN</td>\n",
       "      <td>0.00</td>\n",
       "      <td>-0.10</td>\n",
       "      <td>-0.13</td>\n",
       "      <td>NaN</td>\n",
       "      <td>0.24</td>\n",
       "      <td>2</td>\n",
       "      <td>0</td>\n",
       "    </tr>\n",
       "  </tbody>\n",
       "</table>\n",
       "<p>14 rows × 22 columns</p>\n",
       "</div>"
      ],
      "text/plain": [
       "      Unnamed: 0        Date         Time    Elat     Elon   Dep  Tag   F01  \\\n",
       "126         1584  2015-08-26  17:47:44.53  39.557 -112.200  -2.0   ex -0.12   \n",
       "149         3699  2019-12-17  07:13:46.30  39.413 -110.306  -1.8  mis -0.23   \n",
       "329         7151  2021-06-21  01:41:37.74  37.592 -113.313   8.6   eq  0.03   \n",
       "365         1889  2016-05-05  22:23:14.54  40.623 -109.507  -2.0   ex -0.12   \n",
       "370         7500  2021-09-08  00:36:37.12  39.433 -110.317  -1.6  mis -0.67   \n",
       "472         1128  2014-09-12  19:45:14.79  40.030 -111.739   2.7   eq -0.13   \n",
       "527          836  2014-03-23  06:03:51.77  40.562 -111.263  13.3   eq -0.17   \n",
       "547         7470  2021-09-02  05:43:22.92  39.430 -110.300  -2.0  mis -0.21   \n",
       "645         8832  2022-07-29  07:08:19.74  39.428 -110.303  -1.7  mis -0.20   \n",
       "656         2062  2016-09-11  20:52:48.00  40.509 -112.169  -2.0   ex -0.23   \n",
       "673         8929  2022-08-10  20:31:24.12  39.430 -110.299  -2.2  mis -0.25   \n",
       "907         2738  2018-01-18  17:12:25.43  40.614 -109.514  -2.0   ex -0.31   \n",
       "1650        2959  2018-08-18  18:18:26.54  38.982 -111.365  -1.9  mis -0.54   \n",
       "1886        7164  2021-06-26  05:01:33.77  38.983 -111.356  -1.9  mis -0.74   \n",
       "\n",
       "       F02   F03  ...    F06    F07   F08   F09   F10   F11   F12   F13  y  \\\n",
       "126  -0.10  0.05  ...  15.25  12.90  0.09 -0.02  0.23  0.19 -0.01  0.16  0   \n",
       "149   0.04  0.05  ...  13.31  12.86 -0.15 -0.17 -0.30 -0.20   NaN  0.35  2   \n",
       "329   0.74  0.46  ...  13.77  14.86   NaN -0.23 -0.23 -0.31   NaN -0.28  1   \n",
       "365  -0.37 -0.47  ...  15.24  14.64  0.13  0.14  0.14  0.10  0.14  0.16  0   \n",
       "370  -0.33 -0.44  ...  13.43  13.33  0.05  0.08  0.03 -0.06  0.23  0.16  2   \n",
       "472   0.56  0.51  ...  14.63  14.62   NaN  0.08  0.01 -0.01   NaN  0.14  1   \n",
       "527   0.89  0.57  ...  13.82  13.75   NaN  0.08  0.08  0.09   NaN  0.07  1   \n",
       "547   0.19  0.17  ...  15.31  12.64  0.00  0.31  0.21 -0.01  0.55  0.65  2   \n",
       "645   0.22  0.37  ...  13.38  12.48  0.00  0.32  0.10   NaN   NaN  0.66  2   \n",
       "656   0.15  0.02  ...  13.67  12.74  0.15  0.19  0.31  0.24  0.38  0.53  0   \n",
       "673  -0.17 -0.05  ...  13.79  13.10  0.07  0.10  0.06  0.19  0.32  0.47  2   \n",
       "907  -0.22 -0.38  ...  14.93  14.15  0.08  0.08  0.17  0.10  0.16  0.07  0   \n",
       "1650  0.20 -0.06  ...  12.66  12.70  0.07  0.07  0.01 -0.17  0.25  0.06  2   \n",
       "1886 -0.27 -0.15  ...  13.42  12.44   NaN  0.00 -0.10 -0.13   NaN  0.24  2   \n",
       "\n",
       "      prediction  \n",
       "126            1  \n",
       "149            0  \n",
       "329            0  \n",
       "365            1  \n",
       "370            0  \n",
       "472            0  \n",
       "527            0  \n",
       "547            0  \n",
       "645            0  \n",
       "656            2  \n",
       "673            0  \n",
       "907            1  \n",
       "1650           0  \n",
       "1886           0  \n",
       "\n",
       "[14 rows x 22 columns]"
      ]
     },
     "execution_count": 59,
     "metadata": {},
     "output_type": "execute_result"
    }
   ],
   "source": [
    "rf_test_misclassified = test_feats_df.iloc[keep_inds2][y_test != y_test_preds_rf]\n",
    "rf_test_misclassified[\"prediction\"] = y_test_preds_rf[y_test != y_test_preds_rf]\n",
    "rf_test_misclassified.to_csv(\"rfTestMisclassifiedKeith.csv\", index=False)\n",
    "rf_test_misclassified"
   ]
  },
  {
   "cell_type": "markdown",
   "metadata": {},
   "source": [
    "# Combine confusion matrices"
   ]
  },
  {
   "cell_type": "code",
   "execution_count": 60,
   "metadata": {
    "metadata": {}
   },
   "outputs": [
    {
     "data": {
      "text/plain": [
       "array([[ 52,   2,   1],\n",
       "       [  7, 225,   0],\n",
       "       [  6,   0,  34]])"
      ]
     },
     "execution_count": 60,
     "metadata": {},
     "output_type": "execute_result"
    }
   ],
   "source": [
    "cm_nb_test"
   ]
  },
  {
   "cell_type": "code",
   "execution_count": 61,
   "metadata": {
    "metadata": {}
   },
   "outputs": [],
   "source": [
    "import matplotlib.pyplot as plt"
   ]
  },
  {
   "cell_type": "code",
   "execution_count": 62,
   "metadata": {
    "metadata": {}
   },
   "outputs": [],
   "source": [
    "SMALL_SIZE = 9\n",
    "MEDIUM_SIZE = 10\n",
    "BIGGER_SIZE = 10\n",
    "\n",
    "plt.rc('font', size=SMALL_SIZE)          # controls default text sizes\n",
    "plt.rc('axes', titlesize=MEDIUM_SIZE)     # fontsize of the axes title\n",
    "plt.rc('axes', labelsize=MEDIUM_SIZE)    # fontsize of the x and y labels\n",
    "plt.rc('xtick', labelsize=SMALL_SIZE)    # fontsize of the tick labels\n",
    "plt.rc('ytick', labelsize=SMALL_SIZE)    # fontsize of the tick labels\n",
    "plt.rc('legend', fontsize=SMALL_SIZE)    # legend fontsize\n",
    "plt.rc('figure', titlesize=MEDIUM_SIZE)  # fontsize of the figure title\n",
    "plt.rc('figure', labelsize=MEDIUM_SIZE)"
   ]
  },
  {
   "cell_type": "code",
   "execution_count": 63,
   "metadata": {
    "metadata": {}
   },
   "outputs": [
    {
     "data": {
      "image/png": "[encoded data removed]",
      "text/plain": [
       "<Figure size 420x480 with 3 Axes>"
      ]
     },
     "metadata": {},
     "output_type": "display_data"
    }
   ],
   "source": [
    "fig, axes = plt.subplots(1, 2, sharey='row', figsize=(4.2, 4.8))\n",
    "i = 0\n",
    "for key, cm, ax in zip([\"LDA\", \"NB\"], [cm_lda_test, cm_nb_test], axes):\n",
    "    disp = ConfusionMatrixDisplay(confusion_matrix=cm, \n",
    "                        display_labels=['EX', 'EQ', 'MIS'])\n",
    "    disp.plot(ax=ax, xticks_rotation=45)\n",
    "    disp.ax_.set_title(key)\n",
    "    disp.im_.colorbar.remove()\n",
    "    disp.ax_.set_xlabel('')\n",
    "    if i!=0:\n",
    "        disp.ax_.set_ylabel('')\n",
    "    i+=1\n",
    "fig.colorbar(disp.im_, ax=axes, shrink=0.4, label=\"Number of Examples\")\n",
    "fig.supxlabel('Predicted label', y=0.25, x=0.44)\n",
    "plt.show()"
   ]
  },
  {
   "cell_type": "code",
   "execution_count": 64,
   "metadata": {
    "metadata": {}
   },
   "outputs": [
    {
     "data": {
      "image/png": "[encoded data removed]",
      "text/plain": [
       "<Figure size 640x300 with 3 Axes>"
      ]
     },
     "metadata": {},
     "output_type": "display_data"
    }
   ],
   "source": [
    "fig, axes = plt.subplots(1, 2, sharey='row', figsize=(6.4, 3))#, figsize=(4.2, 2.5))\n",
    "i = 0\n",
    "labels = [\"(a)\", \"(b)\"]\n",
    "\n",
    "for key, cm, ax in zip([\"Naive Bayes\", \"Random Forest\"], [cm_nb_test, cm_test_rf], axes):\n",
    "    disp = ConfusionMatrixDisplay(confusion_matrix=cm, \n",
    "                        display_labels=['EX', 'EQ', 'MIS'])\n",
    "    disp.plot(ax=ax, xticks_rotation=45)\n",
    "    disp.ax_.set_title(key)\n",
    "    disp.im_.colorbar.remove()\n",
    "    disp.ax_.set_xlabel('')\n",
    "    disp.ax_.text(0.0, 1.02, labels[i], transform=ax.transAxes)\n",
    "    if i!=0:\n",
    "        disp.ax_.set_ylabel('')\n",
    "    i+=1\n",
    "fig.colorbar(disp.im_, ax=axes, shrink=0.8, label=\"Number of Examples\")\n",
    "fig.supxlabel('Predicted label', y=0.01, x=0.44)\n",
    "plt.show()\n",
    "fig.savefig(\"nb_rf_cm_keith.png\", dpi=300)"
   ]
  },
  {
   "cell_type": "code",
   "execution_count": 65,
   "metadata": {
    "metadata": {}
   },
   "outputs": [
    {
     "data": {
      "text/plain": [
       "array([6.4, 3. ])"
      ]
     },
     "execution_count": 65,
     "metadata": {},
     "output_type": "execute_result"
    }
   ],
   "source": [
    "fig.get_size_inches()"
   ]
  },
  {
   "cell_type": "code",
   "execution_count": 66,
   "metadata": {
    "metadata": {}
   },
   "outputs": [
    {
     "data": {
      "image/png": "[encoded data removed]",
      "text/plain": [
       "<Figure size 420x480 with 3 Axes>"
      ]
     },
     "metadata": {},
     "output_type": "display_data"
    }
   ],
   "source": [
    "fig, axes = plt.subplots(1, 2, sharey='row', figsize=(4.2, 4.8))\n",
    "i = 0\n",
    "for key, cm, ax in zip([\"LDA\", \"NB\"], [cm_lda_test, cm_nb_test], axes):\n",
    "    disp = ConfusionMatrixDisplay(confusion_matrix=cm, \n",
    "                        display_labels=['EX', 'EQ', 'MIS'])\n",
    "    disp.plot(ax=ax, xticks_rotation=45)\n",
    "    disp.ax_.set_title(key)\n",
    "    disp.im_.colorbar.remove()\n",
    "    disp.ax_.set_xlabel('')\n",
    "    if i!=0:\n",
    "        disp.ax_.set_ylabel('')\n",
    "    i+=1\n",
    "fig.colorbar(disp.im_, ax=axes, shrink=0.4, label=\"Number of Examples\")\n",
    "fig.supxlabel('Predicted label', y=0.25, x=0.44)\n",
    "plt.show()"
   ]
  },
  {
   "cell_type": "code",
   "execution_count": 67,
   "metadata": {
    "metadata": {}
   },
   "outputs": [
    {
     "data": {
      "image/png": "[encoded data removed]",
      "text/plain": [
       "<Figure size 640x480 with 4 Axes>"
      ]
     },
     "metadata": {},
     "output_type": "display_data"
    }
   ],
   "source": [
    "fig, axes = plt.subplots(1, 3, sharey='row')\n",
    "i = 0\n",
    "for key, cm, ax in zip([\"LDA\", \"NB\", \"RF\"], [cm_lda_test, cm_nb_test, cm_test_rf], axes):\n",
    "    disp = ConfusionMatrixDisplay(confusion_matrix=cm, \n",
    "                        display_labels=['EX', 'EQ', 'MIS'])\n",
    "    disp.plot(ax=ax, xticks_rotation=45)\n",
    "    disp.ax_.set_title(key)\n",
    "    disp.im_.colorbar.remove()\n",
    "    disp.ax_.set_xlabel('')\n",
    "    if i!=0:\n",
    "        disp.ax_.set_ylabel('')\n",
    "    i+=1\n",
    "fig.colorbar(disp.im_, ax=axes, shrink=0.4, label=\"Number of Examples\")\n",
    "fig.supxlabel('Predicted label', y=0.25, x=0.44)\n",
    "plt.show()"
   ]
  },
  {
   "cell_type": "markdown",
   "metadata": {},
   "source": [
    "# Tibi"
   ]
  },
  {
   "cell_type": "code",
   "execution_count": 68,
   "metadata": {
    "metadata": {}
   },
   "outputs": [],
   "source": [
    "ex_ex = 24\n",
    "ex_mis = 2\n",
    "ex_eq = 1\n",
    "mis_ex = 3\n",
    "mis_mis = 187\n",
    "mis_eq = 29\n",
    "eq_ex = 8\n",
    "eq_mis = 16\n",
    "eq_eq = 100"
   ]
  },
  {
   "cell_type": "code",
   "execution_count": 69,
   "metadata": {
    "metadata": {}
   },
   "outputs": [
    {
     "name": "stdout",
     "output_type": "stream",
     "text": [
      "[[24, 1, 2], [8, 100, 16], [3, 29, 187]]\n"
     ]
    }
   ],
   "source": [
    "cm = [[ex_ex, ex_eq, ex_mis],\n",
    "      [eq_ex, eq_eq, eq_mis],\n",
    "      [mis_ex, mis_eq, mis_mis]]\n",
    "print(cm)"
   ]
  },
  {
   "cell_type": "code",
   "execution_count": 70,
   "metadata": {
    "metadata": {}
   },
   "outputs": [
    {
     "data": {
      "text/plain": [
       "<sklearn.metrics._plot.confusion_matrix.ConfusionMatrixDisplay at 0x14a7dcd79010>"
      ]
     },
     "execution_count": 70,
     "metadata": {},
     "output_type": "execute_result"
    },
    {
     "data": {
      "image/png": "[encoded data removed]",
      "text/plain": [
       "<Figure size 640x480 with 2 Axes>"
      ]
     },
     "metadata": {},
     "output_type": "display_data"
    }
   ],
   "source": [
    "display = ConfusionMatrixDisplay(confusion_matrix=np.array(cm), \n",
    "                       display_labels=['ex', 'eq', 'mis'])\n",
    "display.plot()"
   ]
  },
  {
   "cell_type": "code",
   "execution_count": 71,
   "metadata": {
    "metadata": {}
   },
   "outputs": [],
   "source": [
    "def f1(tp, fn, fp):\n",
    "    return (2*tp)/(2*tp+fp+fn)"
   ]
  },
  {
   "cell_type": "code",
   "execution_count": 72,
   "metadata": {
    "metadata": {}
   },
   "outputs": [],
   "source": [
    "def all_f1(cm):\n",
    "    ex_fn = cm[0][1] + cm[0][2]\n",
    "    ex_fp = cm[1][0] + cm[2][0]\n",
    "    ex_tp = cm[0][0]\n",
    "    print(ex_tp, ex_fn, ex_fp)\n",
    "    ex_f1 = f1(ex_tp, ex_fn, ex_fp)\n",
    "    print(ex_f1)\n",
    "\n",
    "    eq_fn = cm[1][0] + cm[1][2]\n",
    "    eq_fp = cm[0][1] + cm[2][1]\n",
    "    eq_tp = cm[1][1]\n",
    "    print(eq_tp, eq_fn, eq_fp)\n",
    "    eq_f1 = f1(eq_tp, eq_fn, eq_fp)\n",
    "    print(eq_f1)\n",
    "\n",
    "    mis_fn = cm[2][0] + cm[2][1]\n",
    "    mis_fp = cm[0][2] + cm[1][2]\n",
    "    mis_tp = cm[2][2]\n",
    "    print(mis_tp, mis_fn, mis_fp)\n",
    "    mis_f1 = f1(mis_tp, mis_fn, mis_fp)\n",
    "    print(mis_f1)\n",
    "\n",
    "    macro = (ex_f1 + eq_f1 + mis_f1)/3\n",
    "\n",
    "    return ex_f1, eq_f1, mis_f1, macro"
   ]
  },
  {
   "cell_type": "code",
   "execution_count": 73,
   "metadata": {
    "metadata": {}
   },
   "outputs": [
    {
     "name": "stdout",
     "output_type": "stream",
     "text": [
      "24 3 11\n",
      "0.7741935483870968\n",
      "100 24 30\n",
      "0.7874015748031497\n",
      "187 32 18\n",
      "0.8820754716981132\n"
     ]
    },
    {
     "data": {
      "text/plain": [
       "(0.7741935483870968,\n",
       " 0.7874015748031497,\n",
       " 0.8820754716981132,\n",
       " 0.8145568649627867)"
      ]
     },
     "execution_count": 73,
     "metadata": {},
     "output_type": "execute_result"
    }
   ],
   "source": [
    "all_f1(cm)"
   ]
  },
  {
   "cell_type": "code",
   "execution_count": 74,
   "metadata": {
    "metadata": {}
   },
   "outputs": [
    {
     "name": "stdout",
     "output_type": "stream",
     "text": [
      "[[45, 0, 3], [7, 972, 37], [1, 5, 6280]]\n"
     ]
    }
   ],
   "source": [
    "ex_ex = 45\n",
    "ex_mis = 3\n",
    "ex_eq = 0\n",
    "mis_ex = 1\n",
    "mis_mis = 6280\n",
    "mis_eq = 5\n",
    "eq_ex = 7\n",
    "eq_mis = 37\n",
    "eq_eq = 972\n",
    "\n",
    "cm = [[ex_ex, ex_eq, ex_mis],\n",
    "      [eq_ex, eq_eq, eq_mis],\n",
    "      [mis_ex, mis_eq, mis_mis]]\n",
    "print(cm)"
   ]
  },
  {
   "cell_type": "code",
   "execution_count": 75,
   "metadata": {
    "metadata": {}
   },
   "outputs": [
    {
     "data": {
      "text/plain": [
       "<sklearn.metrics._plot.confusion_matrix.ConfusionMatrixDisplay at 0x14a7dc2fddc0>"
      ]
     },
     "execution_count": 75,
     "metadata": {},
     "output_type": "execute_result"
    },
    {
     "data": {
      "image/png": "[encoded data removed]",
      "text/plain": [
       "<Figure size 640x480 with 2 Axes>"
      ]
     },
     "metadata": {},
     "output_type": "display_data"
    }
   ],
   "source": [
    "display = ConfusionMatrixDisplay(confusion_matrix=np.array(cm), \n",
    "                       display_labels=['ex', 'eq', 'mis'])\n",
    "display.plot()"
   ]
  },
  {
   "cell_type": "code",
   "execution_count": 76,
   "metadata": {
    "metadata": {}
   },
   "outputs": [
    {
     "name": "stdout",
     "output_type": "stream",
     "text": [
      "45 3 8\n",
      "0.8910891089108911\n",
      "972 44 5\n",
      "0.9754139488208731\n",
      "6280 6 40\n",
      "0.9963509439949231\n"
     ]
    },
    {
     "data": {
      "text/plain": [
       "(0.8910891089108911, 0.9754139488208731, 0.9963509439949231, 0.954284667242229)"
      ]
     },
     "execution_count": 76,
     "metadata": {},
     "output_type": "execute_result"
    }
   ],
   "source": [
    "all_f1(cm)"
   ]
  }
 ],
 "metadata": {
  "kernelspec": {
   "display_name": "ut_classifier",
   "language": "python",
   "name": "python3"
  },
  "language_info": {
   "codemirror_mode": {
    "name": "ipython",
    "version": 3
   },
   "file_extension": ".py",
   "mimetype": "text/x-python",
   "name": "python",
   "nbconvert_exporter": "python",
   "pygments_lexer": "ipython3",
   "version": "3.12.2"
  }
 },
 "nbformat": 4,
 "nbformat_minor": 2
}

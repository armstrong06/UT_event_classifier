{
 "cells": [
  {
   "cell_type": "code",
   "execution_count": 2,
   "metadata": {
    "metadata": {}
   },
   "outputs": [],
   "source": [
    "import pandas as pd\n",
    "import numpy as np\n",
    "#import matplotlib.pyplot as plt\n",
    "from sklearn.preprocessing import LabelEncoder, StandardScaler\n",
    "from sklearn.model_selection import train_test_split\n"
   ]
  },
  {
   "cell_type": "code",
   "execution_count": 3,
   "metadata": {
    "metadata": {}
   },
   "outputs": [
    {
     "name": "stderr",
     "output_type": "stream",
     "text": [
      "<>:2: SyntaxWarning: invalid escape sequence '\\s'\n",
      "<>:2: SyntaxWarning: invalid escape sequence '\\s'\n",
      "/tmp/ipykernel_451377/3088754358.py:2: SyntaxWarning: invalid escape sequence '\\s'\n",
      "  data = pd.read_csv(\"../data/delivery.2024.04.16.dat\", delimiter='\\s+')\n"
     ]
    }
   ],
   "source": [
    "# '\\s+' tells pandas to use any spaces as the delimiter instead of ,\n",
    "data = pd.read_csv(\"../data/delivery.2024.04.16.dat\", delimiter='\\s+')"
   ]
  },
  {
   "cell_type": "code",
   "execution_count": 4,
   "metadata": {
    "metadata": {}
   },
   "outputs": [
    {
     "data": {
      "text/plain": [
       "Tag\n",
       "eq     5837\n",
       "mis    2043\n",
       "ex     1540\n",
       "gis     390\n",
       "Name: count, dtype: int64"
      ]
     },
     "execution_count": 4,
     "metadata": {},
     "output_type": "execute_result"
    }
   ],
   "source": [
    "data[\"Tag\"].value_counts()"
   ]
  },
  {
   "cell_type": "code",
   "execution_count": 5,
   "metadata": {
    "metadata": {}
   },
   "outputs": [
    {
     "data": {
      "text/plain": [
       "Tag\n",
       "eq     5837\n",
       "mis    2043\n",
       "ex     1540\n",
       "Name: count, dtype: int64"
      ]
     },
     "execution_count": 5,
     "metadata": {},
     "output_type": "execute_result"
    }
   ],
   "source": [
    "# Remove gis examples\n",
    "data = data.drop(np.where(data['Tag'] == 'gis')[0])\n",
    "data[\"Tag\"].value_counts()"
   ]
  },
  {
   "cell_type": "code",
   "execution_count": 6,
   "metadata": {
    "metadata": {}
   },
   "outputs": [],
   "source": [
    "feature_col_names = ['F01', 'F02', 'F03', 'F04',\n",
    "       'F05', 'F06', 'F07', 'F08', 'F09', 'F10', 'F11', 'F12', 'F13']"
   ]
  },
  {
   "cell_type": "code",
   "execution_count": 7,
   "metadata": {
    "metadata": {}
   },
   "outputs": [],
   "source": [
    "# Fill \"X\" with nan values\n",
    "data[feature_col_names] = data.replace(to_replace='X', value=np.nan)[feature_col_names].astype(float)"
   ]
  },
  {
   "cell_type": "code",
   "execution_count": 8,
   "metadata": {
    "metadata": {}
   },
   "outputs": [
    {
     "data": {
      "text/html": [
       "<div>\n",
       "<style scoped>\n",
       "    .dataframe tbody tr th:only-of-type {\n",
       "        vertical-align: middle;\n",
       "    }\n",
       "\n",
       "    .dataframe tbody tr th {\n",
       "        vertical-align: top;\n",
       "    }\n",
       "\n",
       "    .dataframe thead th {\n",
       "        text-align: right;\n",
       "    }\n",
       "</style>\n",
       "<table border=\"1\" class=\"dataframe\">\n",
       "  <thead>\n",
       "    <tr style=\"text-align: right;\">\n",
       "      <th></th>\n",
       "      <th>Date</th>\n",
       "      <th>Time</th>\n",
       "      <th>Elat</th>\n",
       "      <th>Elon</th>\n",
       "      <th>Dep</th>\n",
       "      <th>Tag</th>\n",
       "      <th>F01</th>\n",
       "      <th>F02</th>\n",
       "      <th>F03</th>\n",
       "      <th>F04</th>\n",
       "      <th>F05</th>\n",
       "      <th>F06</th>\n",
       "      <th>F07</th>\n",
       "      <th>F08</th>\n",
       "      <th>F09</th>\n",
       "      <th>F10</th>\n",
       "      <th>F11</th>\n",
       "      <th>F12</th>\n",
       "      <th>F13</th>\n",
       "    </tr>\n",
       "  </thead>\n",
       "  <tbody>\n",
       "    <tr>\n",
       "      <th>0</th>\n",
       "      <td>2012-10-01</td>\n",
       "      <td>16:51:31.20</td>\n",
       "      <td>39.141</td>\n",
       "      <td>-111.655</td>\n",
       "      <td>19.5</td>\n",
       "      <td>eq</td>\n",
       "      <td>0.22</td>\n",
       "      <td>NaN</td>\n",
       "      <td>0.73</td>\n",
       "      <td>NaN</td>\n",
       "      <td>-105.1</td>\n",
       "      <td>NaN</td>\n",
       "      <td>14.36</td>\n",
       "      <td>NaN</td>\n",
       "      <td>NaN</td>\n",
       "      <td>NaN</td>\n",
       "      <td>NaN</td>\n",
       "      <td>NaN</td>\n",
       "      <td>NaN</td>\n",
       "    </tr>\n",
       "    <tr>\n",
       "      <th>1</th>\n",
       "      <td>2012-10-01</td>\n",
       "      <td>17:02:17.22</td>\n",
       "      <td>40.500</td>\n",
       "      <td>-112.155</td>\n",
       "      <td>-2.0</td>\n",
       "      <td>ex</td>\n",
       "      <td>0.10</td>\n",
       "      <td>NaN</td>\n",
       "      <td>NaN</td>\n",
       "      <td>NaN</td>\n",
       "      <td>NaN</td>\n",
       "      <td>NaN</td>\n",
       "      <td>NaN</td>\n",
       "      <td>NaN</td>\n",
       "      <td>NaN</td>\n",
       "      <td>NaN</td>\n",
       "      <td>NaN</td>\n",
       "      <td>NaN</td>\n",
       "      <td>NaN</td>\n",
       "    </tr>\n",
       "    <tr>\n",
       "      <th>2</th>\n",
       "      <td>2012-10-01</td>\n",
       "      <td>22:38:43.13</td>\n",
       "      <td>40.511</td>\n",
       "      <td>-112.175</td>\n",
       "      <td>-2.0</td>\n",
       "      <td>ex</td>\n",
       "      <td>-0.05</td>\n",
       "      <td>0.27</td>\n",
       "      <td>0.20</td>\n",
       "      <td>-51.4</td>\n",
       "      <td>-84.5</td>\n",
       "      <td>13.40</td>\n",
       "      <td>12.71</td>\n",
       "      <td>NaN</td>\n",
       "      <td>NaN</td>\n",
       "      <td>0.37</td>\n",
       "      <td>NaN</td>\n",
       "      <td>NaN</td>\n",
       "      <td>0.33</td>\n",
       "    </tr>\n",
       "    <tr>\n",
       "      <th>3</th>\n",
       "      <td>2012-10-02</td>\n",
       "      <td>00:21:13.94</td>\n",
       "      <td>39.709</td>\n",
       "      <td>-113.274</td>\n",
       "      <td>-2.0</td>\n",
       "      <td>ex</td>\n",
       "      <td>NaN</td>\n",
       "      <td>0.14</td>\n",
       "      <td>1.10</td>\n",
       "      <td>-69.4</td>\n",
       "      <td>-110.1</td>\n",
       "      <td>13.02</td>\n",
       "      <td>11.08</td>\n",
       "      <td>NaN</td>\n",
       "      <td>NaN</td>\n",
       "      <td>NaN</td>\n",
       "      <td>NaN</td>\n",
       "      <td>NaN</td>\n",
       "      <td>NaN</td>\n",
       "    </tr>\n",
       "    <tr>\n",
       "      <th>4</th>\n",
       "      <td>2012-10-02</td>\n",
       "      <td>18:49:25.22</td>\n",
       "      <td>40.514</td>\n",
       "      <td>-112.161</td>\n",
       "      <td>-2.0</td>\n",
       "      <td>ex</td>\n",
       "      <td>0.00</td>\n",
       "      <td>0.27</td>\n",
       "      <td>0.37</td>\n",
       "      <td>-101.8</td>\n",
       "      <td>-114.7</td>\n",
       "      <td>14.35</td>\n",
       "      <td>12.31</td>\n",
       "      <td>0.14</td>\n",
       "      <td>0.19</td>\n",
       "      <td>0.26</td>\n",
       "      <td>0.4</td>\n",
       "      <td>-0.09</td>\n",
       "      <td>0.21</td>\n",
       "    </tr>\n",
       "  </tbody>\n",
       "</table>\n",
       "</div>"
      ],
      "text/plain": [
       "         Date         Time    Elat     Elon   Dep Tag   F01   F02   F03  \\\n",
       "0  2012-10-01  16:51:31.20  39.141 -111.655  19.5  eq  0.22   NaN  0.73   \n",
       "1  2012-10-01  17:02:17.22  40.500 -112.155  -2.0  ex  0.10   NaN   NaN   \n",
       "2  2012-10-01  22:38:43.13  40.511 -112.175  -2.0  ex -0.05  0.27  0.20   \n",
       "3  2012-10-02  00:21:13.94  39.709 -113.274  -2.0  ex   NaN  0.14  1.10   \n",
       "4  2012-10-02  18:49:25.22  40.514 -112.161  -2.0  ex  0.00  0.27  0.37   \n",
       "\n",
       "     F04    F05    F06    F07   F08   F09   F10  F11   F12   F13  \n",
       "0    NaN -105.1    NaN  14.36   NaN   NaN   NaN  NaN   NaN   NaN  \n",
       "1    NaN    NaN    NaN    NaN   NaN   NaN   NaN  NaN   NaN   NaN  \n",
       "2  -51.4  -84.5  13.40  12.71   NaN   NaN  0.37  NaN   NaN  0.33  \n",
       "3  -69.4 -110.1  13.02  11.08   NaN   NaN   NaN  NaN   NaN   NaN  \n",
       "4 -101.8 -114.7  14.35  12.31  0.14  0.19  0.26  0.4 -0.09  0.21  "
      ]
     },
     "execution_count": 8,
     "metadata": {},
     "output_type": "execute_result"
    }
   ],
   "source": [
    "data.head()"
   ]
  },
  {
   "cell_type": "code",
   "execution_count": 9,
   "metadata": {
    "metadata": {}
   },
   "outputs": [
    {
     "name": "stdout",
     "output_type": "stream",
     "text": [
      "Original Classes ['eq' 'ex' 'mis']\n",
      "Mapping [0 1 2]\n",
      "Updated Classes ['ex' 'eq' 'mis']\n",
      "Mapping [0 1 2]\n",
      "[1540 5837 2043]\n"
     ]
    }
   ],
   "source": [
    "le = LabelEncoder()\n",
    "le.fit(data['Tag'])\n",
    "print(\"Original Classes\", le.classes_)\n",
    "print(\"Mapping\", le.transform(le.classes_))\n",
    "le.classes_ = np.array(['ex', 'eq', 'mis'])\n",
    "print(\"Updated Classes\", le.classes_)\n",
    "print(\"Mapping\", le.transform(le.classes_))\n",
    "y = le.transform(data['Tag'])\n",
    "y_cnts = np.unique(y, return_counts=True)[1]\n",
    "print(y_cnts)"
   ]
  },
  {
   "cell_type": "code",
   "execution_count": 10,
   "metadata": {
    "metadata": {}
   },
   "outputs": [],
   "source": [
    "data.loc[:, \"y\"] = y"
   ]
  },
  {
   "cell_type": "code",
   "execution_count": 11,
   "metadata": {
    "metadata": {}
   },
   "outputs": [
    {
     "data": {
      "text/html": [
       "<div>\n",
       "<style scoped>\n",
       "    .dataframe tbody tr th:only-of-type {\n",
       "        vertical-align: middle;\n",
       "    }\n",
       "\n",
       "    .dataframe tbody tr th {\n",
       "        vertical-align: top;\n",
       "    }\n",
       "\n",
       "    .dataframe thead th {\n",
       "        text-align: right;\n",
       "    }\n",
       "</style>\n",
       "<table border=\"1\" class=\"dataframe\">\n",
       "  <thead>\n",
       "    <tr style=\"text-align: right;\">\n",
       "      <th></th>\n",
       "      <th>Date</th>\n",
       "      <th>Time</th>\n",
       "      <th>Elat</th>\n",
       "      <th>Elon</th>\n",
       "      <th>Dep</th>\n",
       "      <th>Tag</th>\n",
       "      <th>F01</th>\n",
       "      <th>F02</th>\n",
       "      <th>F03</th>\n",
       "      <th>F04</th>\n",
       "      <th>F05</th>\n",
       "      <th>F06</th>\n",
       "      <th>F07</th>\n",
       "      <th>F08</th>\n",
       "      <th>F09</th>\n",
       "      <th>F10</th>\n",
       "      <th>F11</th>\n",
       "      <th>F12</th>\n",
       "      <th>F13</th>\n",
       "      <th>y</th>\n",
       "    </tr>\n",
       "  </thead>\n",
       "  <tbody>\n",
       "    <tr>\n",
       "      <th>0</th>\n",
       "      <td>2012-10-01</td>\n",
       "      <td>16:51:31.20</td>\n",
       "      <td>39.141</td>\n",
       "      <td>-111.655</td>\n",
       "      <td>19.5</td>\n",
       "      <td>eq</td>\n",
       "      <td>0.22</td>\n",
       "      <td>NaN</td>\n",
       "      <td>0.73</td>\n",
       "      <td>NaN</td>\n",
       "      <td>-105.1</td>\n",
       "      <td>NaN</td>\n",
       "      <td>14.36</td>\n",
       "      <td>NaN</td>\n",
       "      <td>NaN</td>\n",
       "      <td>NaN</td>\n",
       "      <td>NaN</td>\n",
       "      <td>NaN</td>\n",
       "      <td>NaN</td>\n",
       "      <td>1</td>\n",
       "    </tr>\n",
       "    <tr>\n",
       "      <th>1</th>\n",
       "      <td>2012-10-01</td>\n",
       "      <td>17:02:17.22</td>\n",
       "      <td>40.500</td>\n",
       "      <td>-112.155</td>\n",
       "      <td>-2.0</td>\n",
       "      <td>ex</td>\n",
       "      <td>0.10</td>\n",
       "      <td>NaN</td>\n",
       "      <td>NaN</td>\n",
       "      <td>NaN</td>\n",
       "      <td>NaN</td>\n",
       "      <td>NaN</td>\n",
       "      <td>NaN</td>\n",
       "      <td>NaN</td>\n",
       "      <td>NaN</td>\n",
       "      <td>NaN</td>\n",
       "      <td>NaN</td>\n",
       "      <td>NaN</td>\n",
       "      <td>NaN</td>\n",
       "      <td>0</td>\n",
       "    </tr>\n",
       "    <tr>\n",
       "      <th>2</th>\n",
       "      <td>2012-10-01</td>\n",
       "      <td>22:38:43.13</td>\n",
       "      <td>40.511</td>\n",
       "      <td>-112.175</td>\n",
       "      <td>-2.0</td>\n",
       "      <td>ex</td>\n",
       "      <td>-0.05</td>\n",
       "      <td>0.27</td>\n",
       "      <td>0.20</td>\n",
       "      <td>-51.4</td>\n",
       "      <td>-84.5</td>\n",
       "      <td>13.40</td>\n",
       "      <td>12.71</td>\n",
       "      <td>NaN</td>\n",
       "      <td>NaN</td>\n",
       "      <td>0.37</td>\n",
       "      <td>NaN</td>\n",
       "      <td>NaN</td>\n",
       "      <td>0.33</td>\n",
       "      <td>0</td>\n",
       "    </tr>\n",
       "    <tr>\n",
       "      <th>3</th>\n",
       "      <td>2012-10-02</td>\n",
       "      <td>00:21:13.94</td>\n",
       "      <td>39.709</td>\n",
       "      <td>-113.274</td>\n",
       "      <td>-2.0</td>\n",
       "      <td>ex</td>\n",
       "      <td>NaN</td>\n",
       "      <td>0.14</td>\n",
       "      <td>1.10</td>\n",
       "      <td>-69.4</td>\n",
       "      <td>-110.1</td>\n",
       "      <td>13.02</td>\n",
       "      <td>11.08</td>\n",
       "      <td>NaN</td>\n",
       "      <td>NaN</td>\n",
       "      <td>NaN</td>\n",
       "      <td>NaN</td>\n",
       "      <td>NaN</td>\n",
       "      <td>NaN</td>\n",
       "      <td>0</td>\n",
       "    </tr>\n",
       "    <tr>\n",
       "      <th>4</th>\n",
       "      <td>2012-10-02</td>\n",
       "      <td>18:49:25.22</td>\n",
       "      <td>40.514</td>\n",
       "      <td>-112.161</td>\n",
       "      <td>-2.0</td>\n",
       "      <td>ex</td>\n",
       "      <td>0.00</td>\n",
       "      <td>0.27</td>\n",
       "      <td>0.37</td>\n",
       "      <td>-101.8</td>\n",
       "      <td>-114.7</td>\n",
       "      <td>14.35</td>\n",
       "      <td>12.31</td>\n",
       "      <td>0.14</td>\n",
       "      <td>0.19</td>\n",
       "      <td>0.26</td>\n",
       "      <td>0.4</td>\n",
       "      <td>-0.09</td>\n",
       "      <td>0.21</td>\n",
       "      <td>0</td>\n",
       "    </tr>\n",
       "  </tbody>\n",
       "</table>\n",
       "</div>"
      ],
      "text/plain": [
       "         Date         Time    Elat     Elon   Dep Tag   F01   F02   F03  \\\n",
       "0  2012-10-01  16:51:31.20  39.141 -111.655  19.5  eq  0.22   NaN  0.73   \n",
       "1  2012-10-01  17:02:17.22  40.500 -112.155  -2.0  ex  0.10   NaN   NaN   \n",
       "2  2012-10-01  22:38:43.13  40.511 -112.175  -2.0  ex -0.05  0.27  0.20   \n",
       "3  2012-10-02  00:21:13.94  39.709 -113.274  -2.0  ex   NaN  0.14  1.10   \n",
       "4  2012-10-02  18:49:25.22  40.514 -112.161  -2.0  ex  0.00  0.27  0.37   \n",
       "\n",
       "     F04    F05    F06    F07   F08   F09   F10  F11   F12   F13  y  \n",
       "0    NaN -105.1    NaN  14.36   NaN   NaN   NaN  NaN   NaN   NaN  1  \n",
       "1    NaN    NaN    NaN    NaN   NaN   NaN   NaN  NaN   NaN   NaN  0  \n",
       "2  -51.4  -84.5  13.40  12.71   NaN   NaN  0.37  NaN   NaN  0.33  0  \n",
       "3  -69.4 -110.1  13.02  11.08   NaN   NaN   NaN  NaN   NaN   NaN  0  \n",
       "4 -101.8 -114.7  14.35  12.31  0.14  0.19  0.26  0.4 -0.09  0.21  0  "
      ]
     },
     "execution_count": 11,
     "metadata": {},
     "output_type": "execute_result"
    }
   ],
   "source": [
    "data.head()"
   ]
  },
  {
   "cell_type": "code",
   "execution_count": 12,
   "metadata": {},
   "outputs": [
    {
     "data": {
      "text/plain": [
       "(15, 20)"
      ]
     },
     "execution_count": 12,
     "metadata": {},
     "output_type": "execute_result"
    }
   ],
   "source": [
    "data[(data[\"Tag\"] == \"mis\") & (data[\"Elat\"] < 39.1)].shape"
   ]
  },
  {
   "cell_type": "code",
   "execution_count": 13,
   "metadata": {},
   "outputs": [
    {
     "name": "stdout",
     "output_type": "stream",
     "text": [
      "(964, 20) (8456, 20)\n"
     ]
    }
   ],
   "source": [
    "all_feat_data = data[~np.any(np.isnan(data[feature_col_names]), axis=1)]\n",
    "other_data = data[np.any(np.isnan(data[feature_col_names]), axis=1)]\n",
    "print(all_feat_data.shape, other_data.shape)"
   ]
  },
  {
   "cell_type": "code",
   "execution_count": 16,
   "metadata": {},
   "outputs": [
    {
     "data": {
      "text/plain": [
       "array([0.15456432, 0.72925311, 0.11618257])"
      ]
     },
     "execution_count": 16,
     "metadata": {},
     "output_type": "execute_result"
    }
   ],
   "source": [
    "np.unique(all_feat_data[\"y\"], return_counts=True)[1]/len(all_feat_data)"
   ]
  },
  {
   "cell_type": "code",
   "execution_count": 17,
   "metadata": {},
   "outputs": [
    {
     "data": {
      "text/plain": [
       "array([0.16449858, 0.60714286, 0.22835856])"
      ]
     },
     "execution_count": 17,
     "metadata": {},
     "output_type": "execute_result"
    }
   ],
   "source": [
    "np.unique(other_data[\"y\"], return_counts=True)[1]/len(other_data)"
   ]
  },
  {
   "cell_type": "code",
   "execution_count": 11,
   "metadata": {
    "metadata": {}
   },
   "outputs": [],
   "source": [
    "train_inds, test_inds = train_test_split(np.arange(data.shape[0]), \n",
    "                                         test_size=0.2, \n",
    "                                         shuffle=True,\n",
    "                                         random_state=42,\n",
    "                                         stratify=y)"
   ]
  },
  {
   "cell_type": "code",
   "execution_count": 12,
   "metadata": {
    "metadata": {}
   },
   "outputs": [
    {
     "name": "stdout",
     "output_type": "stream",
     "text": [
      "(7536, 20) (1884, 20)\n"
     ]
    }
   ],
   "source": [
    "train_df = data.iloc[train_inds]\n",
    "test_df = data.iloc[test_inds]\n",
    "print(train_df.shape, test_df.shape)"
   ]
  },
  {
   "cell_type": "code",
   "execution_count": 13,
   "metadata": {
    "metadata": {}
   },
   "outputs": [
    {
     "data": {
      "text/plain": [
       "(11, 20)"
      ]
     },
     "execution_count": 13,
     "metadata": {},
     "output_type": "execute_result"
    }
   ],
   "source": [
    "special_mis = train_df[(train_df[\"Tag\"] == \"mis\") & (train_df[\"Elat\"] < 39.1)]\n",
    "special_mis.shape"
   ]
  },
  {
   "cell_type": "code",
   "execution_count": 14,
   "metadata": {
    "metadata": {}
   },
   "outputs": [
    {
     "name": "stdout",
     "output_type": "stream",
     "text": [
      "(7525, 20) (1895, 20)\n"
     ]
    }
   ],
   "source": [
    "train_df = train_df.drop(special_mis.index)\n",
    "test_df = pd.concat([test_df, special_mis])\n",
    "print(train_df.shape, test_df.shape)"
   ]
  },
  {
   "cell_type": "code",
   "execution_count": 15,
   "metadata": {
    "metadata": {}
   },
   "outputs": [
    {
     "name": "stdout",
     "output_type": "stream",
     "text": [
      "Training: (7525, 20)\n",
      "Testing: (1895, 20)\n",
      "Actual class percentage: [0.16348195 0.61963907 0.21687898]\n",
      "Training class percentage: [0.16372093 0.62059801 0.21568106]\n",
      "Testing class percentage: [0.16253298 0.61583113 0.22163588]\n"
     ]
    }
   ],
   "source": [
    "print('Training:', train_df.shape)\n",
    "print('Testing:', test_df.shape)\n",
    "print(\"Actual class percentage:\", y_cnts/len(y))\n",
    "print('Training class percentage:', np.unique(train_df['y'], return_counts=True)[1]/train_df.shape[0])\n",
    "print('Testing class percentage:', np.unique(test_df['y'], return_counts=True)[1]/test_df.shape[0])"
   ]
  },
  {
   "cell_type": "code",
   "execution_count": 16,
   "metadata": {
    "metadata": {}
   },
   "outputs": [],
   "source": [
    "train_df.to_csv(\"../data/train.2024.04.16.csv\")\n",
    "test_df.to_csv(\"../data/test.2024.04.16.csv\")"
   ]
  }
 ],
 "metadata": {
  "kernelspec": {
   "display_name": "ut_classifier",
   "language": "python",
   "name": "python3"
  },
  "language_info": {
   "codemirror_mode": {
    "name": "ipython",
    "version": 3
   },
   "file_extension": ".py",
   "mimetype": "text/x-python",
   "name": "python",
   "nbconvert_exporter": "python",
   "pygments_lexer": "ipython3",
   "version": "3.1.-1"
  }
 },
 "nbformat": 4,
 "nbformat_minor": 2
}

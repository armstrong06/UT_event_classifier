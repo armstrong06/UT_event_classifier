{
 "cells": [
  {
   "cell_type": "code",
   "execution_count": 1,
   "metadata": {
    "metadata": {}
   },
   "outputs": [],
   "source": [
    "import pandas as pd\n",
    "import numpy as np\n",
    "#import matplotlib.pyplot as plt\n",
    "from sklearn.preprocessing import StandardScaler\n",
    "from sklearn.metrics import f1_score\n",
    "from sklearn.discriminant_analysis import LinearDiscriminantAnalysis\n",
    "from sklearn.metrics import confusion_matrix, ConfusionMatrixDisplay\n",
    "from sklearn.naive_bayes import GaussianNB"
   ]
  },
  {
   "cell_type": "markdown",
   "metadata": {},
   "source": [
    "# Load in the data"
   ]
  },
  {
   "cell_type": "code",
   "execution_count": 2,
   "metadata": {
    "metadata": {}
   },
   "outputs": [],
   "source": [
    "train_df = pd.read_csv(\"../data/train.2024.04.16.csv\")\n",
    "test_df = pd.read_csv(\"../data/test.2024.04.16.csv\")"
   ]
  },
  {
   "cell_type": "markdown",
   "metadata": {},
   "source": [
    "# Selected Features\n",
    "- F01: ML - MC\n",
    "- F07: Phi,S\n",
    "- F09: log10 [ P(4-6 Hz) / S(4-6 Hz) ]\n",
    "- F10: log10 [ P(6-8 Hz) / S(6-8 Hz) ]\n",
    "- F13: log10 [ S(2-4 Hz) / S(8-10 Hz) ]"
   ]
  },
  {
   "cell_type": "code",
   "execution_count": 3,
   "metadata": {
    "metadata": {}
   },
   "outputs": [],
   "source": [
    " # Five selected features\n",
    "feature_col_names = ['F01', 'F07', 'F09', 'F10', 'F13']"
   ]
  },
  {
   "cell_type": "code",
   "execution_count": 4,
   "metadata": {
    "metadata": {}
   },
   "outputs": [],
   "source": [
    "train_all_feats_df = train_df[~np.any(np.isnan(train_df[feature_col_names]), axis=1)]\n",
    "test_feats_df = test_df[~np.any(np.isnan(test_df[feature_col_names]), axis=1)]"
   ]
  },
  {
   "cell_type": "code",
   "execution_count": 5,
   "metadata": {
    "metadata": {}
   },
   "outputs": [],
   "source": [
    "# Get all training examples that have values for the selected features\n",
    "\n",
    "X_train = train_all_feats_df[feature_col_names].to_numpy()\n",
    "y_train = train_all_feats_df[\"y\"].to_numpy()"
   ]
  },
  {
   "cell_type": "code",
   "execution_count": 6,
   "metadata": {
    "metadata": {}
   },
   "outputs": [],
   "source": [
    "# Get all testing examples that have values for the selected features\n",
    "X_test = test_feats_df[feature_col_names].to_numpy()\n",
    "y_test = test_feats_df[\"y\"].to_numpy()"
   ]
  },
  {
   "cell_type": "code",
   "execution_count": 7,
   "metadata": {
    "metadata": {}
   },
   "outputs": [],
   "source": [
    "# Get all testing examples that have values for all 13 features\n",
    "feature_col_all = ['F01', 'F02', 'F03', 'F04',\n",
    "       'F05', 'F06', 'F07', 'F08', 'F09', 'F10', 'F11', 'F12', 'F13']\n",
    "test_all_feats_df = test_df[~np.any(np.isnan(test_df[feature_col_all]), axis=1)]\n",
    "X_test_all = test_all_feats_df[feature_col_names].to_numpy()\n",
    "y_test_all = test_all_feats_df[\"y\"].to_numpy()"
   ]
  },
  {
   "cell_type": "code",
   "execution_count": 8,
   "metadata": {
    "metadata": {}
   },
   "outputs": [],
   "source": [
    "\"\"\"Drop examples where any feature is < lb or > ub\n",
    "\"\"\"\n",
    "def drop_inds(X, y, lb, ub):\n",
    "    drop_inds = np.unique(np.concatenate([np.unique(np.where(X < lb)[0]), \n",
    "                                        np.unique(np.where(X > ub)[0])]))\n",
    "    print(drop_inds)\n",
    "    keep_inds = np.sort(np.delete(np.arange(0, X.shape[0]), drop_inds))\n",
    "    X = X[keep_inds, :]\n",
    "    y = y[keep_inds]\n",
    "\n",
    "    return X, y, keep_inds"
   ]
  },
  {
   "cell_type": "code",
   "execution_count": 9,
   "metadata": {
    "metadata": {}
   },
   "outputs": [
    {
     "name": "stdout",
     "output_type": "stream",
     "text": [
      "(1358, 5) (326, 5) (207, 5)\n",
      "[159 792 877 917]\n",
      "[105]\n",
      "[63]\n",
      "(1354, 5) (325, 5) (206, 5)\n"
     ]
    }
   ],
   "source": [
    "# Remove examples with values beyond the outer fence of the training features\n",
    "print(X_train.shape, X_test.shape, X_test_all.shape)\n",
    "q1, q3  = np.percentile(X_train, [25, 75], axis=0)\n",
    "IQR = q3 - q1\n",
    "lower_fence = q1 - IQR*3.0\n",
    "upper_fence = q3 + IQR*3.0\n",
    "X_train, y_train, keep_inds1 = drop_inds(X_train, y_train, lower_fence, upper_fence)\n",
    "X_test, y_test, keep_inds2 = drop_inds(X_test, y_test, lower_fence, upper_fence)\n",
    "X_test_all, y_test_all, keep_inds3 = drop_inds(X_test_all, y_test_all, lower_fence, upper_fence)\n",
    "print(X_train.shape, X_test.shape, X_test_all.shape)"
   ]
  },
  {
   "cell_type": "code",
   "execution_count": 10,
   "metadata": {
    "metadata": {}
   },
   "outputs": [
    {
     "name": "stdout",
     "output_type": "stream",
     "text": [
      "Training: (1354, 5) (1354,)\n",
      "Testing: (325, 5) (325,)\n",
      "Training class percentage: [0.16986706 0.71861152 0.11152142]\n",
      "Testing class percentage: [0.16307692 0.72       0.11692308]\n",
      "Testing all feats class percentage: [0.16990291 0.69417476 0.13592233]\n"
     ]
    }
   ],
   "source": [
    "print('Training:', X_train.shape, y_train.shape)\n",
    "print('Testing:', X_test.shape, y_test.shape)\n",
    "print('Training class percentage:', np.unique(y_train, return_counts=True)[1]/len(y_train))\n",
    "print('Testing class percentage:', np.unique(y_test, return_counts=True)[1]/len(y_test))\n",
    "print('Testing all feats class percentage:', np.unique(y_test_all, return_counts=True)[1]/len(y_test_all))"
   ]
  },
  {
   "cell_type": "code",
   "execution_count": 11,
   "metadata": {
    "metadata": {}
   },
   "outputs": [],
   "source": [
    "# Scale features\n",
    "scaler = StandardScaler()\n",
    "scaler.fit(X_train)\n",
    "X_train_scaled = scaler.transform(X_train)\n",
    "X_test_scaled = scaler.transform(X_test)\n",
    "X_test_all_scaled = scaler.transform(X_test_all)"
   ]
  },
  {
   "cell_type": "markdown",
   "metadata": {},
   "source": [
    "# LDA"
   ]
  },
  {
   "cell_type": "code",
   "execution_count": 12,
   "metadata": {
    "metadata": {}
   },
   "outputs": [],
   "source": [
    "# Train the model\n",
    "lda = LinearDiscriminantAnalysis()\n",
    "lda.fit(X_train_scaled, y_train)\n",
    "y_train_pred_lda = lda.predict(X_train_scaled)"
   ]
  },
  {
   "cell_type": "markdown",
   "metadata": {},
   "source": [
    "## LDA Training Results"
   ]
  },
  {
   "cell_type": "code",
   "execution_count": 13,
   "metadata": {
    "metadata": {}
   },
   "outputs": [
    {
     "name": "stdout",
     "output_type": "stream",
     "text": [
      "[[195  13  22]\n",
      " [  7 966   0]\n",
      " [ 10   0 141]]\n"
     ]
    }
   ],
   "source": [
    "cm = confusion_matrix(y_train, y_train_pred_lda)\n",
    "print(cm)"
   ]
  },
  {
   "cell_type": "code",
   "execution_count": 14,
   "metadata": {
    "metadata": {}
   },
   "outputs": [
    {
     "data": {
      "text/plain": [
       "0.9233987371705495"
      ]
     },
     "execution_count": 14,
     "metadata": {},
     "output_type": "execute_result"
    }
   ],
   "source": [
    "f1_score(y_train, y_train_pred_lda, average='macro')"
   ]
  },
  {
   "cell_type": "markdown",
   "metadata": {},
   "source": [
    "## LDA Testing Results with 5 features"
   ]
  },
  {
   "cell_type": "code",
   "execution_count": 15,
   "metadata": {
    "metadata": {}
   },
   "outputs": [
    {
     "data": {
      "text/plain": [
       "(325, 5)"
      ]
     },
     "execution_count": 15,
     "metadata": {},
     "output_type": "execute_result"
    }
   ],
   "source": [
    "X_test_scaled.shape"
   ]
  },
  {
   "cell_type": "code",
   "execution_count": 16,
   "metadata": {
    "metadata": {}
   },
   "outputs": [
    {
     "data": {
      "text/plain": [
       "323"
      ]
     },
     "execution_count": 16,
     "metadata": {},
     "output_type": "execute_result"
    }
   ],
   "source": [
    "45 + 3 + 5 + 1 + 233 + 2 + 34"
   ]
  },
  {
   "cell_type": "code",
   "execution_count": 17,
   "metadata": {
    "metadata": {}
   },
   "outputs": [],
   "source": [
    "y_test_pred_lda = lda.predict(X_test_scaled)"
   ]
  },
  {
   "cell_type": "code",
   "execution_count": 18,
   "metadata": {
    "metadata": {}
   },
   "outputs": [
    {
     "name": "stdout",
     "output_type": "stream",
     "text": [
      "[[ 45   3   5]\n",
      " [  1 233   0]\n",
      " [  2   0  36]]\n"
     ]
    }
   ],
   "source": [
    "cm = confusion_matrix(y_test, y_test_pred_lda)\n",
    "print(cm)"
   ]
  },
  {
   "cell_type": "code",
   "execution_count": 19,
   "metadata": {
    "metadata": {}
   },
   "outputs": [
    {
     "data": {
      "text/plain": [
       "<sklearn.metrics._plot.confusion_matrix.ConfusionMatrixDisplay at 0x14779fe120f0>"
      ]
     },
     "execution_count": 19,
     "metadata": {},
     "output_type": "execute_result"
    },
    {
     "data": {
      "image/png": "[encoded data removed]",
      "text/plain": [
       "<Figure size 640x480 with 2 Axes>"
      ]
     },
     "metadata": {},
     "output_type": "display_data"
    }
   ],
   "source": [
    "display = ConfusionMatrixDisplay(confusion_matrix=cm, \n",
    "                       display_labels=['ex', 'eq', 'mis'])\n",
    "display.plot()"
   ]
  },
  {
   "cell_type": "code",
   "execution_count": 20,
   "metadata": {
    "metadata": {}
   },
   "outputs": [
    {
     "data": {
      "text/plain": [
       "0.9313236252254367"
      ]
     },
     "execution_count": 20,
     "metadata": {},
     "output_type": "execute_result"
    }
   ],
   "source": [
    "f1_score(y_test, y_test_pred_lda, average='macro')"
   ]
  },
  {
   "cell_type": "code",
   "execution_count": 21,
   "metadata": {
    "metadata": {}
   },
   "outputs": [
    {
     "data": {
      "text/html": [
       "<div>\n",
       "<style scoped>\n",
       "    .dataframe tbody tr th:only-of-type {\n",
       "        vertical-align: middle;\n",
       "    }\n",
       "\n",
       "    .dataframe tbody tr th {\n",
       "        vertical-align: top;\n",
       "    }\n",
       "\n",
       "    .dataframe thead th {\n",
       "        text-align: right;\n",
       "    }\n",
       "</style>\n",
       "<table border=\"1\" class=\"dataframe\">\n",
       "  <thead>\n",
       "    <tr style=\"text-align: right;\">\n",
       "      <th></th>\n",
       "      <th>Unnamed: 0</th>\n",
       "      <th>Date</th>\n",
       "      <th>Time</th>\n",
       "      <th>Elat</th>\n",
       "      <th>Elon</th>\n",
       "      <th>Dep</th>\n",
       "      <th>Tag</th>\n",
       "      <th>F01</th>\n",
       "      <th>F02</th>\n",
       "      <th>F03</th>\n",
       "      <th>...</th>\n",
       "      <th>F06</th>\n",
       "      <th>F07</th>\n",
       "      <th>F08</th>\n",
       "      <th>F09</th>\n",
       "      <th>F10</th>\n",
       "      <th>F11</th>\n",
       "      <th>F12</th>\n",
       "      <th>F13</th>\n",
       "      <th>y</th>\n",
       "      <th>prediction</th>\n",
       "    </tr>\n",
       "  </thead>\n",
       "  <tbody>\n",
       "    <tr>\n",
       "      <th>365</th>\n",
       "      <td>1889</td>\n",
       "      <td>2016-05-05</td>\n",
       "      <td>22:23:14.54</td>\n",
       "      <td>40.623</td>\n",
       "      <td>-109.507</td>\n",
       "      <td>-2.0</td>\n",
       "      <td>ex</td>\n",
       "      <td>-0.12</td>\n",
       "      <td>-0.37</td>\n",
       "      <td>-0.47</td>\n",
       "      <td>...</td>\n",
       "      <td>15.24</td>\n",
       "      <td>14.64</td>\n",
       "      <td>0.13</td>\n",
       "      <td>0.14</td>\n",
       "      <td>0.14</td>\n",
       "      <td>0.10</td>\n",
       "      <td>0.14</td>\n",
       "      <td>0.16</td>\n",
       "      <td>0</td>\n",
       "      <td>1</td>\n",
       "    </tr>\n",
       "    <tr>\n",
       "      <th>405</th>\n",
       "      <td>8588</td>\n",
       "      <td>2022-06-16</td>\n",
       "      <td>01:18:58.58</td>\n",
       "      <td>39.435</td>\n",
       "      <td>-110.314</td>\n",
       "      <td>-1.5</td>\n",
       "      <td>mis</td>\n",
       "      <td>-0.40</td>\n",
       "      <td>-0.03</td>\n",
       "      <td>-0.07</td>\n",
       "      <td>...</td>\n",
       "      <td>13.61</td>\n",
       "      <td>13.33</td>\n",
       "      <td>0.08</td>\n",
       "      <td>0.15</td>\n",
       "      <td>0.24</td>\n",
       "      <td>0.28</td>\n",
       "      <td>0.20</td>\n",
       "      <td>0.52</td>\n",
       "      <td>2</td>\n",
       "      <td>0</td>\n",
       "    </tr>\n",
       "    <tr>\n",
       "      <th>489</th>\n",
       "      <td>9005</td>\n",
       "      <td>2022-08-23</td>\n",
       "      <td>05:28:26.37</td>\n",
       "      <td>39.429</td>\n",
       "      <td>-110.298</td>\n",
       "      <td>-1.6</td>\n",
       "      <td>mis</td>\n",
       "      <td>-0.38</td>\n",
       "      <td>0.02</td>\n",
       "      <td>0.09</td>\n",
       "      <td>...</td>\n",
       "      <td>13.53</td>\n",
       "      <td>12.97</td>\n",
       "      <td>0.07</td>\n",
       "      <td>0.14</td>\n",
       "      <td>0.20</td>\n",
       "      <td>0.24</td>\n",
       "      <td>0.18</td>\n",
       "      <td>0.40</td>\n",
       "      <td>2</td>\n",
       "      <td>0</td>\n",
       "    </tr>\n",
       "    <tr>\n",
       "      <th>527</th>\n",
       "      <td>836</td>\n",
       "      <td>2014-03-23</td>\n",
       "      <td>06:03:51.77</td>\n",
       "      <td>40.562</td>\n",
       "      <td>-111.263</td>\n",
       "      <td>13.3</td>\n",
       "      <td>eq</td>\n",
       "      <td>-0.17</td>\n",
       "      <td>0.89</td>\n",
       "      <td>0.57</td>\n",
       "      <td>...</td>\n",
       "      <td>13.82</td>\n",
       "      <td>13.75</td>\n",
       "      <td>NaN</td>\n",
       "      <td>0.08</td>\n",
       "      <td>0.08</td>\n",
       "      <td>0.09</td>\n",
       "      <td>NaN</td>\n",
       "      <td>0.07</td>\n",
       "      <td>1</td>\n",
       "      <td>0</td>\n",
       "    </tr>\n",
       "    <tr>\n",
       "      <th>532</th>\n",
       "      <td>1399</td>\n",
       "      <td>2015-04-20</td>\n",
       "      <td>22:28:25.77</td>\n",
       "      <td>40.566</td>\n",
       "      <td>-109.483</td>\n",
       "      <td>-2.0</td>\n",
       "      <td>ex</td>\n",
       "      <td>-0.02</td>\n",
       "      <td>-0.16</td>\n",
       "      <td>-0.21</td>\n",
       "      <td>...</td>\n",
       "      <td>13.82</td>\n",
       "      <td>13.98</td>\n",
       "      <td>0.02</td>\n",
       "      <td>0.05</td>\n",
       "      <td>-0.09</td>\n",
       "      <td>NaN</td>\n",
       "      <td>0.30</td>\n",
       "      <td>0.33</td>\n",
       "      <td>0</td>\n",
       "      <td>1</td>\n",
       "    </tr>\n",
       "    <tr>\n",
       "      <th>1198</th>\n",
       "      <td>1398</td>\n",
       "      <td>2015-04-20</td>\n",
       "      <td>22:28:25.73</td>\n",
       "      <td>40.550</td>\n",
       "      <td>-109.500</td>\n",
       "      <td>-2.0</td>\n",
       "      <td>ex</td>\n",
       "      <td>-0.30</td>\n",
       "      <td>-0.61</td>\n",
       "      <td>-0.39</td>\n",
       "      <td>...</td>\n",
       "      <td>14.69</td>\n",
       "      <td>13.74</td>\n",
       "      <td>0.01</td>\n",
       "      <td>0.04</td>\n",
       "      <td>-0.10</td>\n",
       "      <td>NaN</td>\n",
       "      <td>0.32</td>\n",
       "      <td>0.30</td>\n",
       "      <td>0</td>\n",
       "      <td>2</td>\n",
       "    </tr>\n",
       "    <tr>\n",
       "      <th>1241</th>\n",
       "      <td>2843</td>\n",
       "      <td>2018-05-02</td>\n",
       "      <td>20:52:25.73</td>\n",
       "      <td>40.505</td>\n",
       "      <td>-112.148</td>\n",
       "      <td>-2.0</td>\n",
       "      <td>ex</td>\n",
       "      <td>-0.08</td>\n",
       "      <td>0.09</td>\n",
       "      <td>0.30</td>\n",
       "      <td>...</td>\n",
       "      <td>13.66</td>\n",
       "      <td>12.44</td>\n",
       "      <td>0.14</td>\n",
       "      <td>0.20</td>\n",
       "      <td>0.10</td>\n",
       "      <td>-0.02</td>\n",
       "      <td>0.39</td>\n",
       "      <td>0.63</td>\n",
       "      <td>0</td>\n",
       "      <td>2</td>\n",
       "    </tr>\n",
       "    <tr>\n",
       "      <th>1287</th>\n",
       "      <td>127</td>\n",
       "      <td>2012-11-27</td>\n",
       "      <td>22:49:44.20</td>\n",
       "      <td>40.637</td>\n",
       "      <td>-109.499</td>\n",
       "      <td>-2.0</td>\n",
       "      <td>ex</td>\n",
       "      <td>-0.28</td>\n",
       "      <td>-0.21</td>\n",
       "      <td>-0.33</td>\n",
       "      <td>...</td>\n",
       "      <td>15.10</td>\n",
       "      <td>13.79</td>\n",
       "      <td>-0.09</td>\n",
       "      <td>-0.04</td>\n",
       "      <td>-0.07</td>\n",
       "      <td>0.02</td>\n",
       "      <td>0.50</td>\n",
       "      <td>0.48</td>\n",
       "      <td>0</td>\n",
       "      <td>2</td>\n",
       "    </tr>\n",
       "    <tr>\n",
       "      <th>1392</th>\n",
       "      <td>83</td>\n",
       "      <td>2012-10-26</td>\n",
       "      <td>22:34:02.60</td>\n",
       "      <td>40.525</td>\n",
       "      <td>-112.147</td>\n",
       "      <td>-2.0</td>\n",
       "      <td>ex</td>\n",
       "      <td>0.02</td>\n",
       "      <td>0.36</td>\n",
       "      <td>0.76</td>\n",
       "      <td>...</td>\n",
       "      <td>13.20</td>\n",
       "      <td>11.79</td>\n",
       "      <td>0.24</td>\n",
       "      <td>0.23</td>\n",
       "      <td>0.13</td>\n",
       "      <td>0.30</td>\n",
       "      <td>0.13</td>\n",
       "      <td>0.35</td>\n",
       "      <td>0</td>\n",
       "      <td>2</td>\n",
       "    </tr>\n",
       "    <tr>\n",
       "      <th>1504</th>\n",
       "      <td>229</td>\n",
       "      <td>2013-02-13</td>\n",
       "      <td>23:07:50.47</td>\n",
       "      <td>40.671</td>\n",
       "      <td>-109.481</td>\n",
       "      <td>-2.0</td>\n",
       "      <td>ex</td>\n",
       "      <td>-0.33</td>\n",
       "      <td>-0.37</td>\n",
       "      <td>-0.41</td>\n",
       "      <td>...</td>\n",
       "      <td>14.24</td>\n",
       "      <td>14.66</td>\n",
       "      <td>-0.12</td>\n",
       "      <td>-0.11</td>\n",
       "      <td>-0.11</td>\n",
       "      <td>-0.07</td>\n",
       "      <td>0.65</td>\n",
       "      <td>0.55</td>\n",
       "      <td>0</td>\n",
       "      <td>2</td>\n",
       "    </tr>\n",
       "    <tr>\n",
       "      <th>1659</th>\n",
       "      <td>1651</td>\n",
       "      <td>2015-10-13</td>\n",
       "      <td>01:02:14.31</td>\n",
       "      <td>40.607</td>\n",
       "      <td>-109.531</td>\n",
       "      <td>-2.0</td>\n",
       "      <td>ex</td>\n",
       "      <td>-0.40</td>\n",
       "      <td>-0.35</td>\n",
       "      <td>-0.52</td>\n",
       "      <td>...</td>\n",
       "      <td>14.17</td>\n",
       "      <td>14.53</td>\n",
       "      <td>0.02</td>\n",
       "      <td>-0.01</td>\n",
       "      <td>-0.04</td>\n",
       "      <td>0.04</td>\n",
       "      <td>0.16</td>\n",
       "      <td>0.23</td>\n",
       "      <td>0</td>\n",
       "      <td>1</td>\n",
       "    </tr>\n",
       "  </tbody>\n",
       "</table>\n",
       "<p>11 rows × 22 columns</p>\n",
       "</div>"
      ],
      "text/plain": [
       "      Unnamed: 0        Date         Time    Elat     Elon   Dep  Tag   F01  \\\n",
       "365         1889  2016-05-05  22:23:14.54  40.623 -109.507  -2.0   ex -0.12   \n",
       "405         8588  2022-06-16  01:18:58.58  39.435 -110.314  -1.5  mis -0.40   \n",
       "489         9005  2022-08-23  05:28:26.37  39.429 -110.298  -1.6  mis -0.38   \n",
       "527          836  2014-03-23  06:03:51.77  40.562 -111.263  13.3   eq -0.17   \n",
       "532         1399  2015-04-20  22:28:25.77  40.566 -109.483  -2.0   ex -0.02   \n",
       "1198        1398  2015-04-20  22:28:25.73  40.550 -109.500  -2.0   ex -0.30   \n",
       "1241        2843  2018-05-02  20:52:25.73  40.505 -112.148  -2.0   ex -0.08   \n",
       "1287         127  2012-11-27  22:49:44.20  40.637 -109.499  -2.0   ex -0.28   \n",
       "1392          83  2012-10-26  22:34:02.60  40.525 -112.147  -2.0   ex  0.02   \n",
       "1504         229  2013-02-13  23:07:50.47  40.671 -109.481  -2.0   ex -0.33   \n",
       "1659        1651  2015-10-13  01:02:14.31  40.607 -109.531  -2.0   ex -0.40   \n",
       "\n",
       "       F02   F03  ...    F06    F07   F08   F09   F10   F11   F12   F13  y  \\\n",
       "365  -0.37 -0.47  ...  15.24  14.64  0.13  0.14  0.14  0.10  0.14  0.16  0   \n",
       "405  -0.03 -0.07  ...  13.61  13.33  0.08  0.15  0.24  0.28  0.20  0.52  2   \n",
       "489   0.02  0.09  ...  13.53  12.97  0.07  0.14  0.20  0.24  0.18  0.40  2   \n",
       "527   0.89  0.57  ...  13.82  13.75   NaN  0.08  0.08  0.09   NaN  0.07  1   \n",
       "532  -0.16 -0.21  ...  13.82  13.98  0.02  0.05 -0.09   NaN  0.30  0.33  0   \n",
       "1198 -0.61 -0.39  ...  14.69  13.74  0.01  0.04 -0.10   NaN  0.32  0.30  0   \n",
       "1241  0.09  0.30  ...  13.66  12.44  0.14  0.20  0.10 -0.02  0.39  0.63  0   \n",
       "1287 -0.21 -0.33  ...  15.10  13.79 -0.09 -0.04 -0.07  0.02  0.50  0.48  0   \n",
       "1392  0.36  0.76  ...  13.20  11.79  0.24  0.23  0.13  0.30  0.13  0.35  0   \n",
       "1504 -0.37 -0.41  ...  14.24  14.66 -0.12 -0.11 -0.11 -0.07  0.65  0.55  0   \n",
       "1659 -0.35 -0.52  ...  14.17  14.53  0.02 -0.01 -0.04  0.04  0.16  0.23  0   \n",
       "\n",
       "      prediction  \n",
       "365            1  \n",
       "405            0  \n",
       "489            0  \n",
       "527            0  \n",
       "532            1  \n",
       "1198           2  \n",
       "1241           2  \n",
       "1287           2  \n",
       "1392           2  \n",
       "1504           2  \n",
       "1659           1  \n",
       "\n",
       "[11 rows x 22 columns]"
      ]
     },
     "execution_count": 21,
     "metadata": {},
     "output_type": "execute_result"
    }
   ],
   "source": [
    "lda_test_misclassified = test_feats_df.iloc[keep_inds2][y_test != y_test_pred_lda]\n",
    "lda_test_misclassified[\"prediction\"] = y_test_pred_lda[y_test != y_test_pred_lda]\n",
    "lda_test_misclassified.to_csv(\"ldaTestMisclassified.csv\", index=False)\n",
    "lda_test_misclassified"
   ]
  },
  {
   "cell_type": "markdown",
   "metadata": {},
   "source": [
    "# LDA testing results with 13 features\n",
    "\n",
    "F1-score when training with all 13 features: 0.91  \n",
    "F1-score when training with Keith's 5 features: 0.93"
   ]
  },
  {
   "cell_type": "code",
   "execution_count": 22,
   "metadata": {
    "metadata": {}
   },
   "outputs": [
    {
     "name": "stdout",
     "output_type": "stream",
     "text": [
      "[[ 29   2   4]\n",
      " [  0 143   0]\n",
      " [  2   0  26]]\n"
     ]
    }
   ],
   "source": [
    "y_test_all_pred_lda = lda.predict(X_test_all_scaled)\n",
    "cm = confusion_matrix(y_test_all, y_test_all_pred_lda)\n",
    "print(cm)"
   ]
  },
  {
   "cell_type": "code",
   "execution_count": 23,
   "metadata": {
    "metadata": {}
   },
   "outputs": [
    {
     "data": {
      "text/plain": [
       "<sklearn.metrics._plot.confusion_matrix.ConfusionMatrixDisplay at 0x1477966dd250>"
      ]
     },
     "execution_count": 23,
     "metadata": {},
     "output_type": "execute_result"
    },
    {
     "data": {
      "image/png": "[encoded data removed]",
      "text/plain": [
       "<Figure size 640x480 with 2 Axes>"
      ]
     },
     "metadata": {},
     "output_type": "display_data"
    }
   ],
   "source": [
    "display = ConfusionMatrixDisplay(confusion_matrix=cm, \n",
    "                       display_labels=['ex', 'eq', 'mis'])\n",
    "display.plot()"
   ]
  },
  {
   "cell_type": "code",
   "execution_count": 24,
   "metadata": {
    "metadata": {}
   },
   "outputs": [
    {
     "data": {
      "text/plain": [
       "0.9227983861604551"
      ]
     },
     "execution_count": 24,
     "metadata": {},
     "output_type": "execute_result"
    }
   ],
   "source": [
    "f1_score(y_test_all, y_test_all_pred_lda, average='macro')"
   ]
  },
  {
   "cell_type": "markdown",
   "metadata": {},
   "source": [
    "# Naive Bayes"
   ]
  },
  {
   "cell_type": "markdown",
   "metadata": {},
   "source": [
    "## NB Training Results"
   ]
  },
  {
   "cell_type": "code",
   "execution_count": 25,
   "metadata": {
    "metadata": {}
   },
   "outputs": [],
   "source": [
    "nb = GaussianNB()\n",
    "nb.fit(X_train_scaled, y_train)\n",
    "y_train_pred_nb = nb.predict(X_train_scaled)"
   ]
  },
  {
   "cell_type": "code",
   "execution_count": 26,
   "metadata": {
    "metadata": {}
   },
   "outputs": [
    {
     "name": "stdout",
     "output_type": "stream",
     "text": [
      "[[207   8  15]\n",
      " [ 25 948   0]\n",
      " [  7   1 143]]\n"
     ]
    }
   ],
   "source": [
    "cm = confusion_matrix(y_train, y_train_pred_nb)\n",
    "print(cm)"
   ]
  },
  {
   "cell_type": "code",
   "execution_count": 27,
   "metadata": {
    "metadata": {}
   },
   "outputs": [
    {
     "data": {
      "text/plain": [
       "0.9302263246062035"
      ]
     },
     "execution_count": 27,
     "metadata": {},
     "output_type": "execute_result"
    }
   ],
   "source": [
    "f1_score(y_train, y_train_pred_nb, average='macro')"
   ]
  },
  {
   "cell_type": "markdown",
   "metadata": {},
   "source": [
    "## NB testing results with 5 features"
   ]
  },
  {
   "cell_type": "code",
   "execution_count": 28,
   "metadata": {
    "metadata": {}
   },
   "outputs": [
    {
     "name": "stdout",
     "output_type": "stream",
     "text": [
      "[[ 50   1   2]\n",
      " [  3 231   0]\n",
      " [  2   0  36]]\n"
     ]
    }
   ],
   "source": [
    "y_test_pred_nb = nb.predict(X_test_scaled)\n",
    "cm = confusion_matrix(y_test, y_test_pred_nb)\n",
    "print(cm)"
   ]
  },
  {
   "cell_type": "code",
   "execution_count": 29,
   "metadata": {
    "metadata": {}
   },
   "outputs": [
    {
     "data": {
      "text/plain": [
       "<sklearn.metrics._plot.confusion_matrix.ConfusionMatrixDisplay at 0x14779660a240>"
      ]
     },
     "execution_count": 29,
     "metadata": {},
     "output_type": "execute_result"
    },
    {
     "data": {
      "image/png": "[encoded data removed]",
      "text/plain": [
       "<Figure size 640x480 with 2 Axes>"
      ]
     },
     "metadata": {},
     "output_type": "display_data"
    }
   ],
   "source": [
    "display = ConfusionMatrixDisplay(confusion_matrix=cm, \n",
    "                       display_labels=['ex', 'eq', 'mis'])\n",
    "display.plot()"
   ]
  },
  {
   "cell_type": "code",
   "execution_count": 30,
   "metadata": {
    "metadata": {}
   },
   "outputs": [
    {
     "data": {
      "text/plain": [
       "0.9549035519971443"
      ]
     },
     "execution_count": 30,
     "metadata": {},
     "output_type": "execute_result"
    }
   ],
   "source": [
    "f1_score(y_test, y_test_pred_nb, average='macro')"
   ]
  },
  {
   "cell_type": "code",
   "execution_count": 31,
   "metadata": {
    "metadata": {}
   },
   "outputs": [],
   "source": [
    "nb_test_misclassified = test_feats_df.iloc[keep_inds2][y_test != y_test_pred_nb]"
   ]
  },
  {
   "cell_type": "code",
   "execution_count": 32,
   "metadata": {
    "metadata": {}
   },
   "outputs": [
    {
     "data": {
      "text/plain": [
       "array([0, 0, 0, 0, 2, 2, 0, 1])"
      ]
     },
     "execution_count": 32,
     "metadata": {},
     "output_type": "execute_result"
    }
   ],
   "source": [
    "y_test_pred_nb[y_test != y_test_pred_nb]"
   ]
  },
  {
   "cell_type": "code",
   "execution_count": 33,
   "metadata": {
    "metadata": {}
   },
   "outputs": [],
   "source": [
    "nb_test_misclassified[\"predicted\"] = y_test_pred_nb[y_test != y_test_pred_nb]\n",
    "nb_test_misclassified\n",
    "nb_test_misclassified.to_csv(\"nbTestMisclassified.csv\", index=False)"
   ]
  },
  {
   "cell_type": "markdown",
   "metadata": {},
   "source": [
    "## NB testing results w/ 13 features\n",
    "\n",
    "F1-score when training with all 13 features: 0.93  \n",
    "F1-score when training with Keith's 5 features features: 0.94"
   ]
  },
  {
   "cell_type": "code",
   "execution_count": 34,
   "metadata": {
    "metadata": {}
   },
   "outputs": [
    {
     "name": "stdout",
     "output_type": "stream",
     "text": [
      "[[ 32   1   2]\n",
      " [  0 143   0]\n",
      " [  1   0  27]]\n"
     ]
    }
   ],
   "source": [
    "y_test_all_pred_nb = nb.predict(X_test_all_scaled)\n",
    "cm = confusion_matrix(y_test_all, y_test_all_pred_nb)\n",
    "print(cm)"
   ]
  },
  {
   "cell_type": "code",
   "execution_count": 35,
   "metadata": {
    "metadata": {}
   },
   "outputs": [
    {
     "data": {
      "text/plain": [
       "<sklearn.metrics._plot.confusion_matrix.ConfusionMatrixDisplay at 0x1477968db170>"
      ]
     },
     "execution_count": 35,
     "metadata": {},
     "output_type": "execute_result"
    },
    {
     "data": {
      "image/png": "[encoded data removed]",
      "text/plain": [
       "<Figure size 640x480 with 2 Axes>"
      ]
     },
     "metadata": {},
     "output_type": "display_data"
    }
   ],
   "source": [
    "display = ConfusionMatrixDisplay(confusion_matrix=cm, \n",
    "                       display_labels=['ex', 'eq', 'mis'])\n",
    "display.plot()"
   ]
  },
  {
   "cell_type": "code",
   "execution_count": 36,
   "metadata": {
    "metadata": {}
   },
   "outputs": [
    {
     "data": {
      "text/plain": [
       "0.9616868570277918"
      ]
     },
     "execution_count": 36,
     "metadata": {},
     "output_type": "execute_result"
    }
   ],
   "source": [
    "f1_score(y_test_all, y_test_all_pred_nb, average='macro')"
   ]
  },
  {
   "cell_type": "code",
   "execution_count": 37,
   "metadata": {
    "metadata": {}
   },
   "outputs": [
    {
     "data": {
      "text/html": [
       "<div>\n",
       "<style scoped>\n",
       "    .dataframe tbody tr th:only-of-type {\n",
       "        vertical-align: middle;\n",
       "    }\n",
       "\n",
       "    .dataframe tbody tr th {\n",
       "        vertical-align: top;\n",
       "    }\n",
       "\n",
       "    .dataframe thead th {\n",
       "        text-align: right;\n",
       "    }\n",
       "</style>\n",
       "<table border=\"1\" class=\"dataframe\">\n",
       "  <thead>\n",
       "    <tr style=\"text-align: right;\">\n",
       "      <th></th>\n",
       "      <th>Unnamed: 0</th>\n",
       "      <th>Date</th>\n",
       "      <th>Time</th>\n",
       "      <th>Elat</th>\n",
       "      <th>Elon</th>\n",
       "      <th>Dep</th>\n",
       "      <th>Tag</th>\n",
       "      <th>F01</th>\n",
       "      <th>F02</th>\n",
       "      <th>F03</th>\n",
       "      <th>...</th>\n",
       "      <th>F05</th>\n",
       "      <th>F06</th>\n",
       "      <th>F07</th>\n",
       "      <th>F08</th>\n",
       "      <th>F09</th>\n",
       "      <th>F10</th>\n",
       "      <th>F11</th>\n",
       "      <th>F12</th>\n",
       "      <th>F13</th>\n",
       "      <th>y</th>\n",
       "    </tr>\n",
       "  </thead>\n",
       "  <tbody>\n",
       "    <tr>\n",
       "      <th>129</th>\n",
       "      <td>8396</td>\n",
       "      <td>2022-03-11</td>\n",
       "      <td>12:56:17.67</td>\n",
       "      <td>39.421</td>\n",
       "      <td>-110.306</td>\n",
       "      <td>-2.2</td>\n",
       "      <td>mis</td>\n",
       "      <td>-0.45</td>\n",
       "      <td>0.04</td>\n",
       "      <td>-0.06</td>\n",
       "      <td>...</td>\n",
       "      <td>-135.9</td>\n",
       "      <td>12.72</td>\n",
       "      <td>12.38</td>\n",
       "      <td>-0.02</td>\n",
       "      <td>0.01</td>\n",
       "      <td>0.03</td>\n",
       "      <td>-0.03</td>\n",
       "      <td>0.09</td>\n",
       "      <td>0.21</td>\n",
       "      <td>2</td>\n",
       "    </tr>\n",
       "    <tr>\n",
       "      <th>656</th>\n",
       "      <td>2062</td>\n",
       "      <td>2016-09-11</td>\n",
       "      <td>20:52:48.00</td>\n",
       "      <td>40.509</td>\n",
       "      <td>-112.169</td>\n",
       "      <td>-2.0</td>\n",
       "      <td>ex</td>\n",
       "      <td>-0.23</td>\n",
       "      <td>0.15</td>\n",
       "      <td>0.02</td>\n",
       "      <td>...</td>\n",
       "      <td>-127.0</td>\n",
       "      <td>13.67</td>\n",
       "      <td>12.74</td>\n",
       "      <td>0.15</td>\n",
       "      <td>0.19</td>\n",
       "      <td>0.31</td>\n",
       "      <td>0.24</td>\n",
       "      <td>0.38</td>\n",
       "      <td>0.53</td>\n",
       "      <td>0</td>\n",
       "    </tr>\n",
       "    <tr>\n",
       "      <th>1036</th>\n",
       "      <td>1359</td>\n",
       "      <td>2015-03-23</td>\n",
       "      <td>18:07:34.04</td>\n",
       "      <td>40.521</td>\n",
       "      <td>-112.154</td>\n",
       "      <td>-2.0</td>\n",
       "      <td>ex</td>\n",
       "      <td>-0.26</td>\n",
       "      <td>0.41</td>\n",
       "      <td>0.12</td>\n",
       "      <td>...</td>\n",
       "      <td>-136.6</td>\n",
       "      <td>12.89</td>\n",
       "      <td>12.64</td>\n",
       "      <td>0.10</td>\n",
       "      <td>0.04</td>\n",
       "      <td>0.17</td>\n",
       "      <td>0.34</td>\n",
       "      <td>0.41</td>\n",
       "      <td>0.53</td>\n",
       "      <td>0</td>\n",
       "    </tr>\n",
       "    <tr>\n",
       "      <th>1659</th>\n",
       "      <td>1651</td>\n",
       "      <td>2015-10-13</td>\n",
       "      <td>01:02:14.31</td>\n",
       "      <td>40.607</td>\n",
       "      <td>-109.531</td>\n",
       "      <td>-2.0</td>\n",
       "      <td>ex</td>\n",
       "      <td>-0.40</td>\n",
       "      <td>-0.35</td>\n",
       "      <td>-0.52</td>\n",
       "      <td>...</td>\n",
       "      <td>-103.0</td>\n",
       "      <td>14.17</td>\n",
       "      <td>14.53</td>\n",
       "      <td>0.02</td>\n",
       "      <td>-0.01</td>\n",
       "      <td>-0.04</td>\n",
       "      <td>0.04</td>\n",
       "      <td>0.16</td>\n",
       "      <td>0.23</td>\n",
       "      <td>0</td>\n",
       "    </tr>\n",
       "  </tbody>\n",
       "</table>\n",
       "<p>4 rows × 21 columns</p>\n",
       "</div>"
      ],
      "text/plain": [
       "      Unnamed: 0        Date         Time    Elat     Elon  Dep  Tag   F01  \\\n",
       "129         8396  2022-03-11  12:56:17.67  39.421 -110.306 -2.2  mis -0.45   \n",
       "656         2062  2016-09-11  20:52:48.00  40.509 -112.169 -2.0   ex -0.23   \n",
       "1036        1359  2015-03-23  18:07:34.04  40.521 -112.154 -2.0   ex -0.26   \n",
       "1659        1651  2015-10-13  01:02:14.31  40.607 -109.531 -2.0   ex -0.40   \n",
       "\n",
       "       F02   F03  ...    F05    F06    F07   F08   F09   F10   F11   F12  \\\n",
       "129   0.04 -0.06  ... -135.9  12.72  12.38 -0.02  0.01  0.03 -0.03  0.09   \n",
       "656   0.15  0.02  ... -127.0  13.67  12.74  0.15  0.19  0.31  0.24  0.38   \n",
       "1036  0.41  0.12  ... -136.6  12.89  12.64  0.10  0.04  0.17  0.34  0.41   \n",
       "1659 -0.35 -0.52  ... -103.0  14.17  14.53  0.02 -0.01 -0.04  0.04  0.16   \n",
       "\n",
       "       F13  y  \n",
       "129   0.21  2  \n",
       "656   0.53  0  \n",
       "1036  0.53  0  \n",
       "1659  0.23  0  \n",
       "\n",
       "[4 rows x 21 columns]"
      ]
     },
     "execution_count": 37,
     "metadata": {},
     "output_type": "execute_result"
    }
   ],
   "source": [
    "test_all_feats_df.iloc[keep_inds3][y_test_all != y_test_all_pred_nb]"
   ]
  }
 ],
 "metadata": {
  "kernelspec": {
   "display_name": "ut_classifier",
   "language": "python",
   "name": "python3"
  },
  "language_info": {
   "codemirror_mode": {
    "name": "ipython",
    "version": 3
   },
   "file_extension": ".py",
   "mimetype": "text/x-python",
   "name": "python",
   "nbconvert_exporter": "python",
   "pygments_lexer": "ipython3",
   "version": "3.12.2"
  }
 },
 "nbformat": 4,
 "nbformat_minor": 2
}

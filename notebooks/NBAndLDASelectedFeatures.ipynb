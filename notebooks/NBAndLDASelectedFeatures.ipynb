{
 "cells": [
  {
   "cell_type": "code",
   "execution_count": 1,
   "metadata": {
    "metadata": {}
   },
   "outputs": [],
   "source": [
    "import pandas as pd\n",
    "import numpy as np\n",
    "#import matplotlib.pyplot as plt\n",
    "from sklearn.preprocessing import StandardScaler\n",
    "from sklearn.metrics import f1_score\n",
    "from sklearn.discriminant_analysis import LinearDiscriminantAnalysis\n",
    "from sklearn.metrics import confusion_matrix, ConfusionMatrixDisplay\n",
    "from sklearn.naive_bayes import GaussianNB"
   ]
  },
  {
   "cell_type": "markdown",
   "metadata": {},
   "source": [
    "# Load in the data"
   ]
  },
  {
   "cell_type": "code",
   "execution_count": 2,
   "metadata": {
    "metadata": {}
   },
   "outputs": [],
   "source": [
    "train_df = pd.read_csv(\"../data/train.2024.04.16.csv\")\n",
    "test_df = pd.read_csv(\"../data/test.2024.04.16.csv\")"
   ]
  },
  {
   "cell_type": "markdown",
   "metadata": {},
   "source": [
    "# Selected Features\n",
    "- F01: ML - MC\n",
    "- F07: Phi,S\n",
    "- F09: log10 [ P(4-6 Hz) / S(4-6 Hz) ]\n",
    "- F10: log10 [ P(6-8 Hz) / S(6-8 Hz) ]\n",
    "- F13: log10 [ S(2-4 Hz) / S(8-10 Hz) ]"
   ]
  },
  {
   "cell_type": "code",
   "execution_count": 3,
   "metadata": {
    "metadata": {}
   },
   "outputs": [],
   "source": [
    " # Five selected features\n",
    "feature_col_names = ['F01', 'F07', 'F09', 'F10', 'F13']"
   ]
  },
  {
   "cell_type": "code",
   "execution_count": 4,
   "metadata": {
    "metadata": {}
   },
   "outputs": [],
   "source": [
    "train_all_feats_df = train_df[~np.any(np.isnan(train_df[feature_col_names]), axis=1)]\n",
    "test_feats_df = test_df[~np.any(np.isnan(test_df[feature_col_names]), axis=1)]"
   ]
  },
  {
   "cell_type": "code",
   "execution_count": 5,
   "metadata": {
    "metadata": {}
   },
   "outputs": [],
   "source": [
    "# Get all training examples that have values for the selected features\n",
    "\n",
    "X_train = train_all_feats_df[feature_col_names].to_numpy()\n",
    "y_train = train_all_feats_df[\"y\"].to_numpy()"
   ]
  },
  {
   "cell_type": "code",
   "execution_count": 6,
   "metadata": {
    "metadata": {}
   },
   "outputs": [],
   "source": [
    "# Get all testing examples that have values for the selected features\n",
    "X_test = test_feats_df[feature_col_names].to_numpy()\n",
    "y_test = test_feats_df[\"y\"].to_numpy()"
   ]
  },
  {
   "cell_type": "code",
   "execution_count": 7,
   "metadata": {
    "metadata": {}
   },
   "outputs": [],
   "source": [
    "# Get all testing examples that have values for all 13 features\n",
    "feature_col_all = ['F01', 'F02', 'F03', 'F04',\n",
    "       'F05', 'F06', 'F07', 'F08', 'F09', 'F10', 'F11', 'F12', 'F13']\n",
    "test_all_feats_df = test_df[~np.any(np.isnan(test_df[feature_col_all]), axis=1)]\n",
    "X_test_all = test_all_feats_df[feature_col_names].to_numpy()\n",
    "y_test_all = test_all_feats_df[\"y\"].to_numpy()"
   ]
  },
  {
   "cell_type": "code",
   "execution_count": 8,
   "metadata": {
    "metadata": {}
   },
   "outputs": [],
   "source": [
    "\"\"\"Drop examples where any feature is < lb or > ub\n",
    "\"\"\"\n",
    "def drop_inds(X, y, lb, ub):\n",
    "    drop_inds = np.unique(np.concatenate([np.unique(np.where(X < lb)[0]), \n",
    "                                        np.unique(np.where(X > ub)[0])]))\n",
    "    print(drop_inds)\n",
    "    keep_inds = np.sort(np.delete(np.arange(0, X.shape[0]), drop_inds))\n",
    "    X = X[keep_inds, :]\n",
    "    y = y[keep_inds]\n",
    "\n",
    "    return X, y, keep_inds"
   ]
  },
  {
   "cell_type": "code",
   "execution_count": 9,
   "metadata": {
    "metadata": {}
   },
   "outputs": [],
   "source": [
    "X_train_original = X_train\n",
    "y_train_original = y_train"
   ]
  },
  {
   "cell_type": "code",
   "execution_count": 10,
   "metadata": {
    "metadata": {}
   },
   "outputs": [
    {
     "name": "stdout",
     "output_type": "stream",
     "text": [
      "(1358, 5) (326, 5) (207, 5)\n",
      "[159 792 877 917]\n",
      "[105]\n",
      "[63]\n",
      "(1354, 5) (325, 5) (206, 5)\n"
     ]
    }
   ],
   "source": [
    "# Remove examples with values beyond the outer fence of the training features\n",
    "print(X_train.shape, X_test.shape, X_test_all.shape)\n",
    "q1, q3  = np.percentile(X_train, [25, 75], axis=0)\n",
    "IQR = q3 - q1\n",
    "lower_fence = q1 - IQR*3.0\n",
    "upper_fence = q3 + IQR*3.0\n",
    "X_train, y_train, keep_inds1 = drop_inds(X_train, y_train, lower_fence, upper_fence)\n",
    "X_test, y_test, keep_inds2 = drop_inds(X_test, y_test, lower_fence, upper_fence)\n",
    "X_test_all, y_test_all, keep_inds3 = drop_inds(X_test_all, y_test_all, lower_fence, upper_fence)\n",
    "print(X_train.shape, X_test.shape, X_test_all.shape)"
   ]
  },
  {
   "cell_type": "code",
   "execution_count": 11,
   "metadata": {
    "metadata": {}
   },
   "outputs": [
    {
     "name": "stdout",
     "output_type": "stream",
     "text": [
      "Training: (1354, 5) (1354,)\n",
      "Testing: (325, 5) (325,)\n",
      "Training class percentage: [0.16986706 0.71861152 0.11152142]\n",
      "Testing class percentage: [0.16307692 0.72       0.11692308]\n",
      "Testing all feats class percentage: [0.16990291 0.69417476 0.13592233]\n"
     ]
    }
   ],
   "source": [
    "print('Training:', X_train.shape, y_train.shape)\n",
    "print('Testing:', X_test.shape, y_test.shape)\n",
    "print('Training class percentage:', np.unique(y_train, return_counts=True)[1]/len(y_train))\n",
    "print('Testing class percentage:', np.unique(y_test, return_counts=True)[1]/len(y_test))\n",
    "print('Testing all feats class percentage:', np.unique(y_test_all, return_counts=True)[1]/len(y_test_all))"
   ]
  },
  {
   "cell_type": "code",
   "execution_count": 12,
   "metadata": {
    "metadata": {}
   },
   "outputs": [
    {
     "data": {
      "text/plain": [
       "array([230, 973, 151])"
      ]
     },
     "execution_count": 12,
     "metadata": {},
     "output_type": "execute_result"
    }
   ],
   "source": [
    "np.unique(y_train, return_counts=True)[1]"
   ]
  },
  {
   "cell_type": "code",
   "execution_count": 13,
   "metadata": {
    "metadata": {}
   },
   "outputs": [
    {
     "data": {
      "text/plain": [
       "array([ 53, 234,  38])"
      ]
     },
     "execution_count": 13,
     "metadata": {},
     "output_type": "execute_result"
    }
   ],
   "source": [
    "np.unique(y_test, return_counts=True)[1]"
   ]
  },
  {
   "cell_type": "code",
   "execution_count": 14,
   "metadata": {
    "metadata": {}
   },
   "outputs": [],
   "source": [
    "# Scale features\n",
    "scaler = StandardScaler()\n",
    "scaler.fit(X_train)\n",
    "X_train_scaled = scaler.transform(X_train)\n",
    "X_test_scaled = scaler.transform(X_test)\n",
    "X_test_all_scaled = scaler.transform(X_test_all)"
   ]
  },
  {
   "cell_type": "markdown",
   "metadata": {},
   "source": [
    "# LDA"
   ]
  },
  {
   "cell_type": "code",
   "execution_count": 15,
   "metadata": {
    "metadata": {}
   },
   "outputs": [],
   "source": [
    "# Train the model\n",
    "lda = LinearDiscriminantAnalysis()\n",
    "lda.fit(X_train_scaled, y_train)\n",
    "y_train_pred_lda = lda.predict(X_train_scaled)"
   ]
  },
  {
   "cell_type": "markdown",
   "metadata": {},
   "source": [
    "## LDA Training Results"
   ]
  },
  {
   "cell_type": "code",
   "execution_count": 16,
   "metadata": {
    "metadata": {}
   },
   "outputs": [
    {
     "name": "stdout",
     "output_type": "stream",
     "text": [
      "[[195  13  22]\n",
      " [  7 966   0]\n",
      " [ 10   0 141]]\n"
     ]
    }
   ],
   "source": [
    "cm = confusion_matrix(y_train, y_train_pred_lda)\n",
    "print(cm)"
   ]
  },
  {
   "cell_type": "code",
   "execution_count": 17,
   "metadata": {
    "metadata": {}
   },
   "outputs": [
    {
     "data": {
      "text/plain": [
       "0.9233987371705495"
      ]
     },
     "execution_count": 17,
     "metadata": {},
     "output_type": "execute_result"
    }
   ],
   "source": [
    "f1_score(y_train, y_train_pred_lda, average='macro')"
   ]
  },
  {
   "cell_type": "markdown",
   "metadata": {},
   "source": [
    "## LDA Testing Results with 5 features"
   ]
  },
  {
   "cell_type": "code",
   "execution_count": 18,
   "metadata": {
    "metadata": {}
   },
   "outputs": [
    {
     "data": {
      "text/plain": [
       "(325, 5)"
      ]
     },
     "execution_count": 18,
     "metadata": {},
     "output_type": "execute_result"
    }
   ],
   "source": [
    "X_test_scaled.shape"
   ]
  },
  {
   "cell_type": "code",
   "execution_count": 19,
   "metadata": {
    "metadata": {}
   },
   "outputs": [
    {
     "data": {
      "text/plain": [
       "323"
      ]
     },
     "execution_count": 19,
     "metadata": {},
     "output_type": "execute_result"
    }
   ],
   "source": [
    "45 + 3 + 5 + 1 + 233 + 2 + 34"
   ]
  },
  {
   "cell_type": "code",
   "execution_count": 20,
   "metadata": {
    "metadata": {}
   },
   "outputs": [],
   "source": [
    "y_test_pred_lda = lda.predict(X_test_scaled)"
   ]
  },
  {
   "cell_type": "code",
   "execution_count": 21,
   "metadata": {
    "metadata": {}
   },
   "outputs": [
    {
     "name": "stdout",
     "output_type": "stream",
     "text": [
      "[[ 45   3   5]\n",
      " [  1 233   0]\n",
      " [  2   0  36]]\n"
     ]
    }
   ],
   "source": [
    "cm_lda_test = confusion_matrix(y_test, y_test_pred_lda)\n",
    "print(cm_lda_test)"
   ]
  },
  {
   "cell_type": "code",
   "execution_count": 22,
   "metadata": {
    "metadata": {}
   },
   "outputs": [
    {
     "data": {
      "text/plain": [
       "<sklearn.metrics._plot.confusion_matrix.ConfusionMatrixDisplay at 0x1485a9b76b10>"
      ]
     },
     "execution_count": 22,
     "metadata": {},
     "output_type": "execute_result"
    },
    {
     "data": {
      "image/png": "[encoded data removed]",
      "text/plain": [
       "<Figure size 640x480 with 2 Axes>"
      ]
     },
     "metadata": {},
     "output_type": "display_data"
    }
   ],
   "source": [
    "display = ConfusionMatrixDisplay(confusion_matrix=cm_lda_test, \n",
    "                       display_labels=['ex', 'eq', 'mis'])\n",
    "display.plot()"
   ]
  },
  {
   "cell_type": "code",
   "execution_count": 23,
   "metadata": {
    "metadata": {}
   },
   "outputs": [
    {
     "data": {
      "text/plain": [
       "0.9313236252254367"
      ]
     },
     "execution_count": 23,
     "metadata": {},
     "output_type": "execute_result"
    }
   ],
   "source": [
    "f1_score(y_test, y_test_pred_lda, average='macro')"
   ]
  },
  {
   "cell_type": "code",
   "execution_count": 24,
   "metadata": {
    "metadata": {}
   },
   "outputs": [
    {
     "data": {
      "text/plain": [
       "0.8910891089108911"
      ]
     },
     "execution_count": 24,
     "metadata": {},
     "output_type": "execute_result"
    }
   ],
   "source": [
    "f1_score(y_test, y_test_pred_lda, labels=[0], average=\"macro\")"
   ]
  },
  {
   "cell_type": "code",
   "execution_count": 25,
   "metadata": {
    "metadata": {}
   },
   "outputs": [
    {
     "data": {
      "text/plain": [
       "0.9914893617021276"
      ]
     },
     "execution_count": 25,
     "metadata": {},
     "output_type": "execute_result"
    }
   ],
   "source": [
    "f1_score(y_test, y_test_pred_lda, labels=[1], average=\"macro\")"
   ]
  },
  {
   "cell_type": "code",
   "execution_count": 26,
   "metadata": {
    "metadata": {}
   },
   "outputs": [
    {
     "data": {
      "text/plain": [
       "0.9113924050632911"
      ]
     },
     "execution_count": 26,
     "metadata": {},
     "output_type": "execute_result"
    }
   ],
   "source": [
    "f1_score(y_test, y_test_pred_lda, labels=[2], average=\"macro\")"
   ]
  },
  {
   "cell_type": "code",
   "execution_count": 27,
   "metadata": {
    "metadata": {}
   },
   "outputs": [
    {
     "data": {
      "text/html": [
       "<div>\n",
       "<style scoped>\n",
       "    .dataframe tbody tr th:only-of-type {\n",
       "        vertical-align: middle;\n",
       "    }\n",
       "\n",
       "    .dataframe tbody tr th {\n",
       "        vertical-align: top;\n",
       "    }\n",
       "\n",
       "    .dataframe thead th {\n",
       "        text-align: right;\n",
       "    }\n",
       "</style>\n",
       "<table border=\"1\" class=\"dataframe\">\n",
       "  <thead>\n",
       "    <tr style=\"text-align: right;\">\n",
       "      <th></th>\n",
       "      <th>Unnamed: 0</th>\n",
       "      <th>Date</th>\n",
       "      <th>Time</th>\n",
       "      <th>Elat</th>\n",
       "      <th>Elon</th>\n",
       "      <th>Dep</th>\n",
       "      <th>Tag</th>\n",
       "      <th>F01</th>\n",
       "      <th>F02</th>\n",
       "      <th>F03</th>\n",
       "      <th>...</th>\n",
       "      <th>F06</th>\n",
       "      <th>F07</th>\n",
       "      <th>F08</th>\n",
       "      <th>F09</th>\n",
       "      <th>F10</th>\n",
       "      <th>F11</th>\n",
       "      <th>F12</th>\n",
       "      <th>F13</th>\n",
       "      <th>y</th>\n",
       "      <th>prediction</th>\n",
       "    </tr>\n",
       "  </thead>\n",
       "  <tbody>\n",
       "    <tr>\n",
       "      <th>365</th>\n",
       "      <td>1889</td>\n",
       "      <td>2016-05-05</td>\n",
       "      <td>22:23:14.54</td>\n",
       "      <td>40.623</td>\n",
       "      <td>-109.507</td>\n",
       "      <td>-2.0</td>\n",
       "      <td>ex</td>\n",
       "      <td>-0.12</td>\n",
       "      <td>-0.37</td>\n",
       "      <td>-0.47</td>\n",
       "      <td>...</td>\n",
       "      <td>15.24</td>\n",
       "      <td>14.64</td>\n",
       "      <td>0.13</td>\n",
       "      <td>0.14</td>\n",
       "      <td>0.14</td>\n",
       "      <td>0.10</td>\n",
       "      <td>0.14</td>\n",
       "      <td>0.16</td>\n",
       "      <td>0</td>\n",
       "      <td>1</td>\n",
       "    </tr>\n",
       "    <tr>\n",
       "      <th>405</th>\n",
       "      <td>8588</td>\n",
       "      <td>2022-06-16</td>\n",
       "      <td>01:18:58.58</td>\n",
       "      <td>39.435</td>\n",
       "      <td>-110.314</td>\n",
       "      <td>-1.5</td>\n",
       "      <td>mis</td>\n",
       "      <td>-0.40</td>\n",
       "      <td>-0.03</td>\n",
       "      <td>-0.07</td>\n",
       "      <td>...</td>\n",
       "      <td>13.61</td>\n",
       "      <td>13.33</td>\n",
       "      <td>0.08</td>\n",
       "      <td>0.15</td>\n",
       "      <td>0.24</td>\n",
       "      <td>0.28</td>\n",
       "      <td>0.20</td>\n",
       "      <td>0.52</td>\n",
       "      <td>2</td>\n",
       "      <td>0</td>\n",
       "    </tr>\n",
       "    <tr>\n",
       "      <th>489</th>\n",
       "      <td>9005</td>\n",
       "      <td>2022-08-23</td>\n",
       "      <td>05:28:26.37</td>\n",
       "      <td>39.429</td>\n",
       "      <td>-110.298</td>\n",
       "      <td>-1.6</td>\n",
       "      <td>mis</td>\n",
       "      <td>-0.38</td>\n",
       "      <td>0.02</td>\n",
       "      <td>0.09</td>\n",
       "      <td>...</td>\n",
       "      <td>13.53</td>\n",
       "      <td>12.97</td>\n",
       "      <td>0.07</td>\n",
       "      <td>0.14</td>\n",
       "      <td>0.20</td>\n",
       "      <td>0.24</td>\n",
       "      <td>0.18</td>\n",
       "      <td>0.40</td>\n",
       "      <td>2</td>\n",
       "      <td>0</td>\n",
       "    </tr>\n",
       "    <tr>\n",
       "      <th>527</th>\n",
       "      <td>836</td>\n",
       "      <td>2014-03-23</td>\n",
       "      <td>06:03:51.77</td>\n",
       "      <td>40.562</td>\n",
       "      <td>-111.263</td>\n",
       "      <td>13.3</td>\n",
       "      <td>eq</td>\n",
       "      <td>-0.17</td>\n",
       "      <td>0.89</td>\n",
       "      <td>0.57</td>\n",
       "      <td>...</td>\n",
       "      <td>13.82</td>\n",
       "      <td>13.75</td>\n",
       "      <td>NaN</td>\n",
       "      <td>0.08</td>\n",
       "      <td>0.08</td>\n",
       "      <td>0.09</td>\n",
       "      <td>NaN</td>\n",
       "      <td>0.07</td>\n",
       "      <td>1</td>\n",
       "      <td>0</td>\n",
       "    </tr>\n",
       "    <tr>\n",
       "      <th>532</th>\n",
       "      <td>1399</td>\n",
       "      <td>2015-04-20</td>\n",
       "      <td>22:28:25.77</td>\n",
       "      <td>40.566</td>\n",
       "      <td>-109.483</td>\n",
       "      <td>-2.0</td>\n",
       "      <td>ex</td>\n",
       "      <td>-0.02</td>\n",
       "      <td>-0.16</td>\n",
       "      <td>-0.21</td>\n",
       "      <td>...</td>\n",
       "      <td>13.82</td>\n",
       "      <td>13.98</td>\n",
       "      <td>0.02</td>\n",
       "      <td>0.05</td>\n",
       "      <td>-0.09</td>\n",
       "      <td>NaN</td>\n",
       "      <td>0.30</td>\n",
       "      <td>0.33</td>\n",
       "      <td>0</td>\n",
       "      <td>1</td>\n",
       "    </tr>\n",
       "    <tr>\n",
       "      <th>1198</th>\n",
       "      <td>1398</td>\n",
       "      <td>2015-04-20</td>\n",
       "      <td>22:28:25.73</td>\n",
       "      <td>40.550</td>\n",
       "      <td>-109.500</td>\n",
       "      <td>-2.0</td>\n",
       "      <td>ex</td>\n",
       "      <td>-0.30</td>\n",
       "      <td>-0.61</td>\n",
       "      <td>-0.39</td>\n",
       "      <td>...</td>\n",
       "      <td>14.69</td>\n",
       "      <td>13.74</td>\n",
       "      <td>0.01</td>\n",
       "      <td>0.04</td>\n",
       "      <td>-0.10</td>\n",
       "      <td>NaN</td>\n",
       "      <td>0.32</td>\n",
       "      <td>0.30</td>\n",
       "      <td>0</td>\n",
       "      <td>2</td>\n",
       "    </tr>\n",
       "    <tr>\n",
       "      <th>1241</th>\n",
       "      <td>2843</td>\n",
       "      <td>2018-05-02</td>\n",
       "      <td>20:52:25.73</td>\n",
       "      <td>40.505</td>\n",
       "      <td>-112.148</td>\n",
       "      <td>-2.0</td>\n",
       "      <td>ex</td>\n",
       "      <td>-0.08</td>\n",
       "      <td>0.09</td>\n",
       "      <td>0.30</td>\n",
       "      <td>...</td>\n",
       "      <td>13.66</td>\n",
       "      <td>12.44</td>\n",
       "      <td>0.14</td>\n",
       "      <td>0.20</td>\n",
       "      <td>0.10</td>\n",
       "      <td>-0.02</td>\n",
       "      <td>0.39</td>\n",
       "      <td>0.63</td>\n",
       "      <td>0</td>\n",
       "      <td>2</td>\n",
       "    </tr>\n",
       "    <tr>\n",
       "      <th>1287</th>\n",
       "      <td>127</td>\n",
       "      <td>2012-11-27</td>\n",
       "      <td>22:49:44.20</td>\n",
       "      <td>40.637</td>\n",
       "      <td>-109.499</td>\n",
       "      <td>-2.0</td>\n",
       "      <td>ex</td>\n",
       "      <td>-0.28</td>\n",
       "      <td>-0.21</td>\n",
       "      <td>-0.33</td>\n",
       "      <td>...</td>\n",
       "      <td>15.10</td>\n",
       "      <td>13.79</td>\n",
       "      <td>-0.09</td>\n",
       "      <td>-0.04</td>\n",
       "      <td>-0.07</td>\n",
       "      <td>0.02</td>\n",
       "      <td>0.50</td>\n",
       "      <td>0.48</td>\n",
       "      <td>0</td>\n",
       "      <td>2</td>\n",
       "    </tr>\n",
       "    <tr>\n",
       "      <th>1392</th>\n",
       "      <td>83</td>\n",
       "      <td>2012-10-26</td>\n",
       "      <td>22:34:02.60</td>\n",
       "      <td>40.525</td>\n",
       "      <td>-112.147</td>\n",
       "      <td>-2.0</td>\n",
       "      <td>ex</td>\n",
       "      <td>0.02</td>\n",
       "      <td>0.36</td>\n",
       "      <td>0.76</td>\n",
       "      <td>...</td>\n",
       "      <td>13.20</td>\n",
       "      <td>11.79</td>\n",
       "      <td>0.24</td>\n",
       "      <td>0.23</td>\n",
       "      <td>0.13</td>\n",
       "      <td>0.30</td>\n",
       "      <td>0.13</td>\n",
       "      <td>0.35</td>\n",
       "      <td>0</td>\n",
       "      <td>2</td>\n",
       "    </tr>\n",
       "    <tr>\n",
       "      <th>1504</th>\n",
       "      <td>229</td>\n",
       "      <td>2013-02-13</td>\n",
       "      <td>23:07:50.47</td>\n",
       "      <td>40.671</td>\n",
       "      <td>-109.481</td>\n",
       "      <td>-2.0</td>\n",
       "      <td>ex</td>\n",
       "      <td>-0.33</td>\n",
       "      <td>-0.37</td>\n",
       "      <td>-0.41</td>\n",
       "      <td>...</td>\n",
       "      <td>14.24</td>\n",
       "      <td>14.66</td>\n",
       "      <td>-0.12</td>\n",
       "      <td>-0.11</td>\n",
       "      <td>-0.11</td>\n",
       "      <td>-0.07</td>\n",
       "      <td>0.65</td>\n",
       "      <td>0.55</td>\n",
       "      <td>0</td>\n",
       "      <td>2</td>\n",
       "    </tr>\n",
       "    <tr>\n",
       "      <th>1659</th>\n",
       "      <td>1651</td>\n",
       "      <td>2015-10-13</td>\n",
       "      <td>01:02:14.31</td>\n",
       "      <td>40.607</td>\n",
       "      <td>-109.531</td>\n",
       "      <td>-2.0</td>\n",
       "      <td>ex</td>\n",
       "      <td>-0.40</td>\n",
       "      <td>-0.35</td>\n",
       "      <td>-0.52</td>\n",
       "      <td>...</td>\n",
       "      <td>14.17</td>\n",
       "      <td>14.53</td>\n",
       "      <td>0.02</td>\n",
       "      <td>-0.01</td>\n",
       "      <td>-0.04</td>\n",
       "      <td>0.04</td>\n",
       "      <td>0.16</td>\n",
       "      <td>0.23</td>\n",
       "      <td>0</td>\n",
       "      <td>1</td>\n",
       "    </tr>\n",
       "  </tbody>\n",
       "</table>\n",
       "<p>11 rows × 22 columns</p>\n",
       "</div>"
      ],
      "text/plain": [
       "      Unnamed: 0        Date         Time    Elat     Elon   Dep  Tag   F01  \\\n",
       "365         1889  2016-05-05  22:23:14.54  40.623 -109.507  -2.0   ex -0.12   \n",
       "405         8588  2022-06-16  01:18:58.58  39.435 -110.314  -1.5  mis -0.40   \n",
       "489         9005  2022-08-23  05:28:26.37  39.429 -110.298  -1.6  mis -0.38   \n",
       "527          836  2014-03-23  06:03:51.77  40.562 -111.263  13.3   eq -0.17   \n",
       "532         1399  2015-04-20  22:28:25.77  40.566 -109.483  -2.0   ex -0.02   \n",
       "1198        1398  2015-04-20  22:28:25.73  40.550 -109.500  -2.0   ex -0.30   \n",
       "1241        2843  2018-05-02  20:52:25.73  40.505 -112.148  -2.0   ex -0.08   \n",
       "1287         127  2012-11-27  22:49:44.20  40.637 -109.499  -2.0   ex -0.28   \n",
       "1392          83  2012-10-26  22:34:02.60  40.525 -112.147  -2.0   ex  0.02   \n",
       "1504         229  2013-02-13  23:07:50.47  40.671 -109.481  -2.0   ex -0.33   \n",
       "1659        1651  2015-10-13  01:02:14.31  40.607 -109.531  -2.0   ex -0.40   \n",
       "\n",
       "       F02   F03  ...    F06    F07   F08   F09   F10   F11   F12   F13  y  \\\n",
       "365  -0.37 -0.47  ...  15.24  14.64  0.13  0.14  0.14  0.10  0.14  0.16  0   \n",
       "405  -0.03 -0.07  ...  13.61  13.33  0.08  0.15  0.24  0.28  0.20  0.52  2   \n",
       "489   0.02  0.09  ...  13.53  12.97  0.07  0.14  0.20  0.24  0.18  0.40  2   \n",
       "527   0.89  0.57  ...  13.82  13.75   NaN  0.08  0.08  0.09   NaN  0.07  1   \n",
       "532  -0.16 -0.21  ...  13.82  13.98  0.02  0.05 -0.09   NaN  0.30  0.33  0   \n",
       "1198 -0.61 -0.39  ...  14.69  13.74  0.01  0.04 -0.10   NaN  0.32  0.30  0   \n",
       "1241  0.09  0.30  ...  13.66  12.44  0.14  0.20  0.10 -0.02  0.39  0.63  0   \n",
       "1287 -0.21 -0.33  ...  15.10  13.79 -0.09 -0.04 -0.07  0.02  0.50  0.48  0   \n",
       "1392  0.36  0.76  ...  13.20  11.79  0.24  0.23  0.13  0.30  0.13  0.35  0   \n",
       "1504 -0.37 -0.41  ...  14.24  14.66 -0.12 -0.11 -0.11 -0.07  0.65  0.55  0   \n",
       "1659 -0.35 -0.52  ...  14.17  14.53  0.02 -0.01 -0.04  0.04  0.16  0.23  0   \n",
       "\n",
       "      prediction  \n",
       "365            1  \n",
       "405            0  \n",
       "489            0  \n",
       "527            0  \n",
       "532            1  \n",
       "1198           2  \n",
       "1241           2  \n",
       "1287           2  \n",
       "1392           2  \n",
       "1504           2  \n",
       "1659           1  \n",
       "\n",
       "[11 rows x 22 columns]"
      ]
     },
     "execution_count": 27,
     "metadata": {},
     "output_type": "execute_result"
    }
   ],
   "source": [
    "lda_test_misclassified = test_feats_df.iloc[keep_inds2][y_test != y_test_pred_lda]\n",
    "lda_test_misclassified[\"prediction\"] = y_test_pred_lda[y_test != y_test_pred_lda]\n",
    "lda_test_misclassified.to_csv(\"ldaTestMisclassified.csv\", index=False)\n",
    "lda_test_misclassified"
   ]
  },
  {
   "cell_type": "markdown",
   "metadata": {},
   "source": [
    "# LDA testing results with 13 features\n",
    "\n",
    "F1-score when training with all 13 features: 0.91  \n",
    "F1-score when training with Keith's 5 features: 0.93"
   ]
  },
  {
   "cell_type": "code",
   "execution_count": 28,
   "metadata": {
    "metadata": {}
   },
   "outputs": [
    {
     "name": "stdout",
     "output_type": "stream",
     "text": [
      "[[ 29   2   4]\n",
      " [  0 143   0]\n",
      " [  2   0  26]]\n"
     ]
    }
   ],
   "source": [
    "y_test_all_pred_lda = lda.predict(X_test_all_scaled)\n",
    "cm = confusion_matrix(y_test_all, y_test_all_pred_lda)\n",
    "print(cm)"
   ]
  },
  {
   "cell_type": "code",
   "execution_count": 29,
   "metadata": {
    "metadata": {}
   },
   "outputs": [
    {
     "data": {
      "text/plain": [
       "<sklearn.metrics._plot.confusion_matrix.ConfusionMatrixDisplay at 0x1485a9b76ae0>"
      ]
     },
     "execution_count": 29,
     "metadata": {},
     "output_type": "execute_result"
    },
    {
     "data": {
      "image/png": "[encoded data removed]",
      "text/plain": [
       "<Figure size 640x480 with 2 Axes>"
      ]
     },
     "metadata": {},
     "output_type": "display_data"
    }
   ],
   "source": [
    "display = ConfusionMatrixDisplay(confusion_matrix=cm, \n",
    "                       display_labels=['ex', 'eq', 'mis'])\n",
    "display.plot()"
   ]
  },
  {
   "cell_type": "code",
   "execution_count": 30,
   "metadata": {
    "metadata": {}
   },
   "outputs": [
    {
     "data": {
      "text/plain": [
       "0.9227983861604551"
      ]
     },
     "execution_count": 30,
     "metadata": {},
     "output_type": "execute_result"
    }
   ],
   "source": [
    "f1_score(y_test_all, y_test_all_pred_lda, average='macro')"
   ]
  },
  {
   "cell_type": "markdown",
   "metadata": {},
   "source": [
    "# Naive Bayes"
   ]
  },
  {
   "cell_type": "markdown",
   "metadata": {},
   "source": [
    "## NB Training Results"
   ]
  },
  {
   "cell_type": "code",
   "execution_count": 31,
   "metadata": {
    "metadata": {}
   },
   "outputs": [],
   "source": [
    "nb = GaussianNB()\n",
    "nb.fit(X_train_scaled, y_train)\n",
    "y_train_pred_nb = nb.predict(X_train_scaled)"
   ]
  },
  {
   "cell_type": "code",
   "execution_count": 32,
   "metadata": {
    "metadata": {}
   },
   "outputs": [
    {
     "name": "stdout",
     "output_type": "stream",
     "text": [
      "[[207   8  15]\n",
      " [ 25 948   0]\n",
      " [  7   1 143]]\n"
     ]
    }
   ],
   "source": [
    "cm = confusion_matrix(y_train, y_train_pred_nb)\n",
    "print(cm)"
   ]
  },
  {
   "cell_type": "code",
   "execution_count": 33,
   "metadata": {
    "metadata": {}
   },
   "outputs": [
    {
     "data": {
      "text/plain": [
       "0.9302263246062035"
      ]
     },
     "execution_count": 33,
     "metadata": {},
     "output_type": "execute_result"
    }
   ],
   "source": [
    "f1_score(y_train, y_train_pred_nb, average='macro')"
   ]
  },
  {
   "cell_type": "markdown",
   "metadata": {},
   "source": [
    "## NB testing results with 5 features"
   ]
  },
  {
   "cell_type": "code",
   "execution_count": 34,
   "metadata": {
    "metadata": {}
   },
   "outputs": [
    {
     "name": "stdout",
     "output_type": "stream",
     "text": [
      "[[ 50   1   2]\n",
      " [  3 231   0]\n",
      " [  2   0  36]]\n"
     ]
    }
   ],
   "source": [
    "y_test_pred_nb = nb.predict(X_test_scaled)\n",
    "cm_nb_test = confusion_matrix(y_test, y_test_pred_nb)\n",
    "print(cm_nb_test)"
   ]
  },
  {
   "cell_type": "code",
   "execution_count": 35,
   "metadata": {
    "metadata": {}
   },
   "outputs": [
    {
     "data": {
      "text/plain": [
       "<sklearn.metrics._plot.confusion_matrix.ConfusionMatrixDisplay at 0x1485a0363ce0>"
      ]
     },
     "execution_count": 35,
     "metadata": {},
     "output_type": "execute_result"
    },
    {
     "data": {
      "image/png": "[encoded data removed]",
      "text/plain": [
       "<Figure size 640x480 with 2 Axes>"
      ]
     },
     "metadata": {},
     "output_type": "display_data"
    }
   ],
   "source": [
    "display = ConfusionMatrixDisplay(confusion_matrix=cm_nb_test, \n",
    "                       display_labels=['ex', 'eq', 'mis'])\n",
    "display.plot()"
   ]
  },
  {
   "cell_type": "code",
   "execution_count": 36,
   "metadata": {
    "metadata": {}
   },
   "outputs": [
    {
     "data": {
      "text/plain": [
       "0.9549035519971443"
      ]
     },
     "execution_count": 36,
     "metadata": {},
     "output_type": "execute_result"
    }
   ],
   "source": [
    "f1_score(y_test, y_test_pred_nb, average='macro')"
   ]
  },
  {
   "cell_type": "code",
   "execution_count": 37,
   "metadata": {
    "metadata": {}
   },
   "outputs": [
    {
     "data": {
      "text/plain": [
       "0.9259259259259259"
      ]
     },
     "execution_count": 37,
     "metadata": {},
     "output_type": "execute_result"
    }
   ],
   "source": [
    "f1_score(y_test, y_test_pred_nb, average='macro', labels=[0])"
   ]
  },
  {
   "cell_type": "code",
   "execution_count": 38,
   "metadata": {
    "metadata": {}
   },
   "outputs": [
    {
     "data": {
      "text/plain": [
       "0.9914163090128756"
      ]
     },
     "execution_count": 38,
     "metadata": {},
     "output_type": "execute_result"
    }
   ],
   "source": [
    "f1_score(y_test, y_test_pred_nb, average='macro', labels=[1])"
   ]
  },
  {
   "cell_type": "code",
   "execution_count": 39,
   "metadata": {
    "metadata": {}
   },
   "outputs": [
    {
     "data": {
      "text/plain": [
       "0.9473684210526315"
      ]
     },
     "execution_count": 39,
     "metadata": {},
     "output_type": "execute_result"
    }
   ],
   "source": [
    "f1_score(y_test, y_test_pred_nb, average='macro', labels=[2])"
   ]
  },
  {
   "cell_type": "code",
   "execution_count": 40,
   "metadata": {
    "metadata": {}
   },
   "outputs": [],
   "source": [
    "nb_test_misclassified = test_feats_df.iloc[keep_inds2][y_test != y_test_pred_nb]"
   ]
  },
  {
   "cell_type": "code",
   "execution_count": 41,
   "metadata": {
    "metadata": {}
   },
   "outputs": [
    {
     "data": {
      "text/plain": [
       "array([0, 0, 0, 0, 2, 2, 0, 1])"
      ]
     },
     "execution_count": 41,
     "metadata": {},
     "output_type": "execute_result"
    }
   ],
   "source": [
    "y_test_pred_nb[y_test != y_test_pred_nb]"
   ]
  },
  {
   "cell_type": "code",
   "execution_count": 42,
   "metadata": {
    "metadata": {}
   },
   "outputs": [],
   "source": [
    "nb_test_misclassified[\"predicted\"] = y_test_pred_nb[y_test != y_test_pred_nb]\n",
    "nb_test_misclassified\n",
    "nb_test_misclassified.to_csv(\"nbTestMisclassified.csv\", index=False)"
   ]
  },
  {
   "cell_type": "markdown",
   "metadata": {},
   "source": [
    "## NB testing results w/ 13 features\n",
    "\n",
    "F1-score when training with all 13 features: 0.93  \n",
    "F1-score when training with Keith's 5 features features: 0.94"
   ]
  },
  {
   "cell_type": "code",
   "execution_count": 43,
   "metadata": {
    "metadata": {}
   },
   "outputs": [
    {
     "name": "stdout",
     "output_type": "stream",
     "text": [
      "[[ 32   1   2]\n",
      " [  0 143   0]\n",
      " [  1   0  27]]\n"
     ]
    }
   ],
   "source": [
    "y_test_all_pred_nb = nb.predict(X_test_all_scaled)\n",
    "cm = confusion_matrix(y_test_all, y_test_all_pred_nb)\n",
    "print(cm)"
   ]
  },
  {
   "cell_type": "code",
   "execution_count": 44,
   "metadata": {
    "metadata": {}
   },
   "outputs": [
    {
     "data": {
      "text/plain": [
       "<sklearn.metrics._plot.confusion_matrix.ConfusionMatrixDisplay at 0x1485a0324950>"
      ]
     },
     "execution_count": 44,
     "metadata": {},
     "output_type": "execute_result"
    },
    {
     "data": {
      "image/png": "[encoded data removed]",
      "text/plain": [
       "<Figure size 640x480 with 2 Axes>"
      ]
     },
     "metadata": {},
     "output_type": "display_data"
    }
   ],
   "source": [
    "display = ConfusionMatrixDisplay(confusion_matrix=cm, \n",
    "                       display_labels=['ex', 'eq', 'mis'])\n",
    "display.plot()"
   ]
  },
  {
   "cell_type": "code",
   "execution_count": 45,
   "metadata": {
    "metadata": {}
   },
   "outputs": [
    {
     "data": {
      "text/plain": [
       "0.9616868570277918"
      ]
     },
     "execution_count": 45,
     "metadata": {},
     "output_type": "execute_result"
    }
   ],
   "source": [
    "f1_score(y_test_all, y_test_all_pred_nb, average='macro')"
   ]
  },
  {
   "cell_type": "code",
   "execution_count": 46,
   "metadata": {
    "metadata": {}
   },
   "outputs": [
    {
     "data": {
      "text/plain": [
       "0.9411764705882353"
      ]
     },
     "execution_count": 46,
     "metadata": {},
     "output_type": "execute_result"
    }
   ],
   "source": [
    "f1_score(y_test_all, y_test_all_pred_nb, average='macro', labels=[0])"
   ]
  },
  {
   "cell_type": "code",
   "execution_count": 47,
   "metadata": {
    "metadata": {}
   },
   "outputs": [
    {
     "data": {
      "text/plain": [
       "0.9965156794425087"
      ]
     },
     "execution_count": 47,
     "metadata": {},
     "output_type": "execute_result"
    }
   ],
   "source": [
    "f1_score(y_test_all, y_test_all_pred_nb, average='macro', labels=[1])"
   ]
  },
  {
   "cell_type": "code",
   "execution_count": 48,
   "metadata": {
    "metadata": {}
   },
   "outputs": [
    {
     "data": {
      "text/plain": [
       "0.9473684210526315"
      ]
     },
     "execution_count": 48,
     "metadata": {},
     "output_type": "execute_result"
    }
   ],
   "source": [
    "f1_score(y_test_all, y_test_all_pred_nb, average='macro', labels=[2])"
   ]
  },
  {
   "cell_type": "code",
   "execution_count": 49,
   "metadata": {
    "metadata": {}
   },
   "outputs": [
    {
     "data": {
      "text/html": [
       "<div>\n",
       "<style scoped>\n",
       "    .dataframe tbody tr th:only-of-type {\n",
       "        vertical-align: middle;\n",
       "    }\n",
       "\n",
       "    .dataframe tbody tr th {\n",
       "        vertical-align: top;\n",
       "    }\n",
       "\n",
       "    .dataframe thead th {\n",
       "        text-align: right;\n",
       "    }\n",
       "</style>\n",
       "<table border=\"1\" class=\"dataframe\">\n",
       "  <thead>\n",
       "    <tr style=\"text-align: right;\">\n",
       "      <th></th>\n",
       "      <th>Unnamed: 0</th>\n",
       "      <th>Date</th>\n",
       "      <th>Time</th>\n",
       "      <th>Elat</th>\n",
       "      <th>Elon</th>\n",
       "      <th>Dep</th>\n",
       "      <th>Tag</th>\n",
       "      <th>F01</th>\n",
       "      <th>F02</th>\n",
       "      <th>F03</th>\n",
       "      <th>...</th>\n",
       "      <th>F05</th>\n",
       "      <th>F06</th>\n",
       "      <th>F07</th>\n",
       "      <th>F08</th>\n",
       "      <th>F09</th>\n",
       "      <th>F10</th>\n",
       "      <th>F11</th>\n",
       "      <th>F12</th>\n",
       "      <th>F13</th>\n",
       "      <th>y</th>\n",
       "    </tr>\n",
       "  </thead>\n",
       "  <tbody>\n",
       "    <tr>\n",
       "      <th>129</th>\n",
       "      <td>8396</td>\n",
       "      <td>2022-03-11</td>\n",
       "      <td>12:56:17.67</td>\n",
       "      <td>39.421</td>\n",
       "      <td>-110.306</td>\n",
       "      <td>-2.2</td>\n",
       "      <td>mis</td>\n",
       "      <td>-0.45</td>\n",
       "      <td>0.04</td>\n",
       "      <td>-0.06</td>\n",
       "      <td>...</td>\n",
       "      <td>-135.9</td>\n",
       "      <td>12.72</td>\n",
       "      <td>12.38</td>\n",
       "      <td>-0.02</td>\n",
       "      <td>0.01</td>\n",
       "      <td>0.03</td>\n",
       "      <td>-0.03</td>\n",
       "      <td>0.09</td>\n",
       "      <td>0.21</td>\n",
       "      <td>2</td>\n",
       "    </tr>\n",
       "    <tr>\n",
       "      <th>656</th>\n",
       "      <td>2062</td>\n",
       "      <td>2016-09-11</td>\n",
       "      <td>20:52:48.00</td>\n",
       "      <td>40.509</td>\n",
       "      <td>-112.169</td>\n",
       "      <td>-2.0</td>\n",
       "      <td>ex</td>\n",
       "      <td>-0.23</td>\n",
       "      <td>0.15</td>\n",
       "      <td>0.02</td>\n",
       "      <td>...</td>\n",
       "      <td>-127.0</td>\n",
       "      <td>13.67</td>\n",
       "      <td>12.74</td>\n",
       "      <td>0.15</td>\n",
       "      <td>0.19</td>\n",
       "      <td>0.31</td>\n",
       "      <td>0.24</td>\n",
       "      <td>0.38</td>\n",
       "      <td>0.53</td>\n",
       "      <td>0</td>\n",
       "    </tr>\n",
       "    <tr>\n",
       "      <th>1036</th>\n",
       "      <td>1359</td>\n",
       "      <td>2015-03-23</td>\n",
       "      <td>18:07:34.04</td>\n",
       "      <td>40.521</td>\n",
       "      <td>-112.154</td>\n",
       "      <td>-2.0</td>\n",
       "      <td>ex</td>\n",
       "      <td>-0.26</td>\n",
       "      <td>0.41</td>\n",
       "      <td>0.12</td>\n",
       "      <td>...</td>\n",
       "      <td>-136.6</td>\n",
       "      <td>12.89</td>\n",
       "      <td>12.64</td>\n",
       "      <td>0.10</td>\n",
       "      <td>0.04</td>\n",
       "      <td>0.17</td>\n",
       "      <td>0.34</td>\n",
       "      <td>0.41</td>\n",
       "      <td>0.53</td>\n",
       "      <td>0</td>\n",
       "    </tr>\n",
       "    <tr>\n",
       "      <th>1659</th>\n",
       "      <td>1651</td>\n",
       "      <td>2015-10-13</td>\n",
       "      <td>01:02:14.31</td>\n",
       "      <td>40.607</td>\n",
       "      <td>-109.531</td>\n",
       "      <td>-2.0</td>\n",
       "      <td>ex</td>\n",
       "      <td>-0.40</td>\n",
       "      <td>-0.35</td>\n",
       "      <td>-0.52</td>\n",
       "      <td>...</td>\n",
       "      <td>-103.0</td>\n",
       "      <td>14.17</td>\n",
       "      <td>14.53</td>\n",
       "      <td>0.02</td>\n",
       "      <td>-0.01</td>\n",
       "      <td>-0.04</td>\n",
       "      <td>0.04</td>\n",
       "      <td>0.16</td>\n",
       "      <td>0.23</td>\n",
       "      <td>0</td>\n",
       "    </tr>\n",
       "  </tbody>\n",
       "</table>\n",
       "<p>4 rows × 21 columns</p>\n",
       "</div>"
      ],
      "text/plain": [
       "      Unnamed: 0        Date         Time    Elat     Elon  Dep  Tag   F01  \\\n",
       "129         8396  2022-03-11  12:56:17.67  39.421 -110.306 -2.2  mis -0.45   \n",
       "656         2062  2016-09-11  20:52:48.00  40.509 -112.169 -2.0   ex -0.23   \n",
       "1036        1359  2015-03-23  18:07:34.04  40.521 -112.154 -2.0   ex -0.26   \n",
       "1659        1651  2015-10-13  01:02:14.31  40.607 -109.531 -2.0   ex -0.40   \n",
       "\n",
       "       F02   F03  ...    F05    F06    F07   F08   F09   F10   F11   F12  \\\n",
       "129   0.04 -0.06  ... -135.9  12.72  12.38 -0.02  0.01  0.03 -0.03  0.09   \n",
       "656   0.15  0.02  ... -127.0  13.67  12.74  0.15  0.19  0.31  0.24  0.38   \n",
       "1036  0.41  0.12  ... -136.6  12.89  12.64  0.10  0.04  0.17  0.34  0.41   \n",
       "1659 -0.35 -0.52  ... -103.0  14.17  14.53  0.02 -0.01 -0.04  0.04  0.16   \n",
       "\n",
       "       F13  y  \n",
       "129   0.21  2  \n",
       "656   0.53  0  \n",
       "1036  0.53  0  \n",
       "1659  0.23  0  \n",
       "\n",
       "[4 rows x 21 columns]"
      ]
     },
     "execution_count": 49,
     "metadata": {},
     "output_type": "execute_result"
    }
   ],
   "source": [
    "test_all_feats_df.iloc[keep_inds3][y_test_all != y_test_all_pred_nb]"
   ]
  },
  {
   "cell_type": "markdown",
   "metadata": {},
   "source": [
    "# Random Forest"
   ]
  },
  {
   "cell_type": "code",
   "execution_count": 50,
   "metadata": {
    "metadata": {}
   },
   "outputs": [],
   "source": [
    "from sklearn.ensemble import RandomForestClassifier\n",
    "from sklearn.model_selection import RepeatedStratifiedKFold, GridSearchCV"
   ]
  },
  {
   "cell_type": "code",
   "execution_count": 51,
   "metadata": {
    "metadata": {}
   },
   "outputs": [],
   "source": [
    "# rskf = RepeatedStratifiedKFold(n_splits=10, n_repeats=2, random_state=36851234)\n",
    "# model = RandomForestClassifier(random_state=0)\n",
    "# params = {\"n_estimators\": [50, 100, 500, 100], \"min_samples_leaf\":[1, 2, 5, 10], \"max_depth\":[5, 10]}\n",
    "# gs = GridSearchCV(model, params, scoring=\"f1_macro\", cv=rskf, n_jobs=5)\n",
    "# gs.fit(X_train, y_train)\n",
    "# model = gs.best_estimator_\n",
    "# gs.best_params_"
   ]
  },
  {
   "cell_type": "code",
   "execution_count": 52,
   "metadata": {
    "metadata": {}
   },
   "outputs": [
    {
     "data": {
      "text/html": [
       "<style>#sk-container-id-1 {\n",
       "  /* Definition of color scheme common for light and dark mode */\n",
       "  --sklearn-color-text: black;\n",
       "  --sklearn-color-line: gray;\n",
       "  /* Definition of color scheme for unfitted estimators */\n",
       "  --sklearn-color-unfitted-level-0: #fff5e6;\n",
       "  --sklearn-color-unfitted-level-1: #f6e4d2;\n",
       "  --sklearn-color-unfitted-level-2: #ffe0b3;\n",
       "  --sklearn-color-unfitted-level-3: chocolate;\n",
       "  /* Definition of color scheme for fitted estimators */\n",
       "  --sklearn-color-fitted-level-0: #f0f8ff;\n",
       "  --sklearn-color-fitted-level-1: #d4ebff;\n",
       "  --sklearn-color-fitted-level-2: #b3dbfd;\n",
       "  --sklearn-color-fitted-level-3: cornflowerblue;\n",
       "\n",
       "  /* Specific color for light theme */\n",
       "  --sklearn-color-text-on-default-background: var(--sg-text-color, var(--theme-code-foreground, var(--jp-content-font-color1, black)));\n",
       "  --sklearn-color-background: var(--sg-background-color, var(--theme-background, var(--jp-layout-color0, white)));\n",
       "  --sklearn-color-border-box: var(--sg-text-color, var(--theme-code-foreground, var(--jp-content-font-color1, black)));\n",
       "  --sklearn-color-icon: #696969;\n",
       "\n",
       "  @media (prefers-color-scheme: dark) {\n",
       "    /* Redefinition of color scheme for dark theme */\n",
       "    --sklearn-color-text-on-default-background: var(--sg-text-color, var(--theme-code-foreground, var(--jp-content-font-color1, white)));\n",
       "    --sklearn-color-background: var(--sg-background-color, var(--theme-background, var(--jp-layout-color0, #111)));\n",
       "    --sklearn-color-border-box: var(--sg-text-color, var(--theme-code-foreground, var(--jp-content-font-color1, white)));\n",
       "    --sklearn-color-icon: #878787;\n",
       "  }\n",
       "}\n",
       "\n",
       "#sk-container-id-1 {\n",
       "  color: var(--sklearn-color-text);\n",
       "}\n",
       "\n",
       "#sk-container-id-1 pre {\n",
       "  padding: 0;\n",
       "}\n",
       "\n",
       "#sk-container-id-1 input.sk-hidden--visually {\n",
       "  border: 0;\n",
       "  clip: rect(1px 1px 1px 1px);\n",
       "  clip: rect(1px, 1px, 1px, 1px);\n",
       "  height: 1px;\n",
       "  margin: -1px;\n",
       "  overflow: hidden;\n",
       "  padding: 0;\n",
       "  position: absolute;\n",
       "  width: 1px;\n",
       "}\n",
       "\n",
       "#sk-container-id-1 div.sk-dashed-wrapped {\n",
       "  border: 1px dashed var(--sklearn-color-line);\n",
       "  margin: 0 0.4em 0.5em 0.4em;\n",
       "  box-sizing: border-box;\n",
       "  padding-bottom: 0.4em;\n",
       "  background-color: var(--sklearn-color-background);\n",
       "}\n",
       "\n",
       "#sk-container-id-1 div.sk-container {\n",
       "  /* jupyter's `normalize.less` sets `[hidden] { display: none; }`\n",
       "     but bootstrap.min.css set `[hidden] { display: none !important; }`\n",
       "     so we also need the `!important` here to be able to override the\n",
       "     default hidden behavior on the sphinx rendered scikit-learn.org.\n",
       "     See: https://github.com/scikit-learn/scikit-learn/issues/21755 */\n",
       "  display: inline-block !important;\n",
       "  position: relative;\n",
       "}\n",
       "\n",
       "#sk-container-id-1 div.sk-text-repr-fallback {\n",
       "  display: none;\n",
       "}\n",
       "\n",
       "div.sk-parallel-item,\n",
       "div.sk-serial,\n",
       "div.sk-item {\n",
       "  /* draw centered vertical line to link estimators */\n",
       "  background-image: linear-gradient(var(--sklearn-color-text-on-default-background), var(--sklearn-color-text-on-default-background));\n",
       "  background-size: 2px 100%;\n",
       "  background-repeat: no-repeat;\n",
       "  background-position: center center;\n",
       "}\n",
       "\n",
       "/* Parallel-specific style estimator block */\n",
       "\n",
       "#sk-container-id-1 div.sk-parallel-item::after {\n",
       "  content: \"\";\n",
       "  width: 100%;\n",
       "  border-bottom: 2px solid var(--sklearn-color-text-on-default-background);\n",
       "  flex-grow: 1;\n",
       "}\n",
       "\n",
       "#sk-container-id-1 div.sk-parallel {\n",
       "  display: flex;\n",
       "  align-items: stretch;\n",
       "  justify-content: center;\n",
       "  background-color: var(--sklearn-color-background);\n",
       "  position: relative;\n",
       "}\n",
       "\n",
       "#sk-container-id-1 div.sk-parallel-item {\n",
       "  display: flex;\n",
       "  flex-direction: column;\n",
       "}\n",
       "\n",
       "#sk-container-id-1 div.sk-parallel-item:first-child::after {\n",
       "  align-self: flex-end;\n",
       "  width: 50%;\n",
       "}\n",
       "\n",
       "#sk-container-id-1 div.sk-parallel-item:last-child::after {\n",
       "  align-self: flex-start;\n",
       "  width: 50%;\n",
       "}\n",
       "\n",
       "#sk-container-id-1 div.sk-parallel-item:only-child::after {\n",
       "  width: 0;\n",
       "}\n",
       "\n",
       "/* Serial-specific style estimator block */\n",
       "\n",
       "#sk-container-id-1 div.sk-serial {\n",
       "  display: flex;\n",
       "  flex-direction: column;\n",
       "  align-items: center;\n",
       "  background-color: var(--sklearn-color-background);\n",
       "  padding-right: 1em;\n",
       "  padding-left: 1em;\n",
       "}\n",
       "\n",
       "\n",
       "/* Toggleable style: style used for estimator/Pipeline/ColumnTransformer box that is\n",
       "clickable and can be expanded/collapsed.\n",
       "- Pipeline and ColumnTransformer use this feature and define the default style\n",
       "- Estimators will overwrite some part of the style using the `sk-estimator` class\n",
       "*/\n",
       "\n",
       "/* Pipeline and ColumnTransformer style (default) */\n",
       "\n",
       "#sk-container-id-1 div.sk-toggleable {\n",
       "  /* Default theme specific background. It is overwritten whether we have a\n",
       "  specific estimator or a Pipeline/ColumnTransformer */\n",
       "  background-color: var(--sklearn-color-background);\n",
       "}\n",
       "\n",
       "/* Toggleable label */\n",
       "#sk-container-id-1 label.sk-toggleable__label {\n",
       "  cursor: pointer;\n",
       "  display: block;\n",
       "  width: 100%;\n",
       "  margin-bottom: 0;\n",
       "  padding: 0.5em;\n",
       "  box-sizing: border-box;\n",
       "  text-align: center;\n",
       "}\n",
       "\n",
       "#sk-container-id-1 label.sk-toggleable__label-arrow:before {\n",
       "  /* Arrow on the left of the label */\n",
       "  content: \"▸\";\n",
       "  float: left;\n",
       "  margin-right: 0.25em;\n",
       "  color: var(--sklearn-color-icon);\n",
       "}\n",
       "\n",
       "#sk-container-id-1 label.sk-toggleable__label-arrow:hover:before {\n",
       "  color: var(--sklearn-color-text);\n",
       "}\n",
       "\n",
       "/* Toggleable content - dropdown */\n",
       "\n",
       "#sk-container-id-1 div.sk-toggleable__content {\n",
       "  max-height: 0;\n",
       "  max-width: 0;\n",
       "  overflow: hidden;\n",
       "  text-align: left;\n",
       "  /* unfitted */\n",
       "  background-color: var(--sklearn-color-unfitted-level-0);\n",
       "}\n",
       "\n",
       "#sk-container-id-1 div.sk-toggleable__content.fitted {\n",
       "  /* fitted */\n",
       "  background-color: var(--sklearn-color-fitted-level-0);\n",
       "}\n",
       "\n",
       "#sk-container-id-1 div.sk-toggleable__content pre {\n",
       "  margin: 0.2em;\n",
       "  border-radius: 0.25em;\n",
       "  color: var(--sklearn-color-text);\n",
       "  /* unfitted */\n",
       "  background-color: var(--sklearn-color-unfitted-level-0);\n",
       "}\n",
       "\n",
       "#sk-container-id-1 div.sk-toggleable__content.fitted pre {\n",
       "  /* unfitted */\n",
       "  background-color: var(--sklearn-color-fitted-level-0);\n",
       "}\n",
       "\n",
       "#sk-container-id-1 input.sk-toggleable__control:checked~div.sk-toggleable__content {\n",
       "  /* Expand drop-down */\n",
       "  max-height: 200px;\n",
       "  max-width: 100%;\n",
       "  overflow: auto;\n",
       "}\n",
       "\n",
       "#sk-container-id-1 input.sk-toggleable__control:checked~label.sk-toggleable__label-arrow:before {\n",
       "  content: \"▾\";\n",
       "}\n",
       "\n",
       "/* Pipeline/ColumnTransformer-specific style */\n",
       "\n",
       "#sk-container-id-1 div.sk-label input.sk-toggleable__control:checked~label.sk-toggleable__label {\n",
       "  color: var(--sklearn-color-text);\n",
       "  background-color: var(--sklearn-color-unfitted-level-2);\n",
       "}\n",
       "\n",
       "#sk-container-id-1 div.sk-label.fitted input.sk-toggleable__control:checked~label.sk-toggleable__label {\n",
       "  background-color: var(--sklearn-color-fitted-level-2);\n",
       "}\n",
       "\n",
       "/* Estimator-specific style */\n",
       "\n",
       "/* Colorize estimator box */\n",
       "#sk-container-id-1 div.sk-estimator input.sk-toggleable__control:checked~label.sk-toggleable__label {\n",
       "  /* unfitted */\n",
       "  background-color: var(--sklearn-color-unfitted-level-2);\n",
       "}\n",
       "\n",
       "#sk-container-id-1 div.sk-estimator.fitted input.sk-toggleable__control:checked~label.sk-toggleable__label {\n",
       "  /* fitted */\n",
       "  background-color: var(--sklearn-color-fitted-level-2);\n",
       "}\n",
       "\n",
       "#sk-container-id-1 div.sk-label label.sk-toggleable__label,\n",
       "#sk-container-id-1 div.sk-label label {\n",
       "  /* The background is the default theme color */\n",
       "  color: var(--sklearn-color-text-on-default-background);\n",
       "}\n",
       "\n",
       "/* On hover, darken the color of the background */\n",
       "#sk-container-id-1 div.sk-label:hover label.sk-toggleable__label {\n",
       "  color: var(--sklearn-color-text);\n",
       "  background-color: var(--sklearn-color-unfitted-level-2);\n",
       "}\n",
       "\n",
       "/* Label box, darken color on hover, fitted */\n",
       "#sk-container-id-1 div.sk-label.fitted:hover label.sk-toggleable__label.fitted {\n",
       "  color: var(--sklearn-color-text);\n",
       "  background-color: var(--sklearn-color-fitted-level-2);\n",
       "}\n",
       "\n",
       "/* Estimator label */\n",
       "\n",
       "#sk-container-id-1 div.sk-label label {\n",
       "  font-family: monospace;\n",
       "  font-weight: bold;\n",
       "  display: inline-block;\n",
       "  line-height: 1.2em;\n",
       "}\n",
       "\n",
       "#sk-container-id-1 div.sk-label-container {\n",
       "  text-align: center;\n",
       "}\n",
       "\n",
       "/* Estimator-specific */\n",
       "#sk-container-id-1 div.sk-estimator {\n",
       "  font-family: monospace;\n",
       "  border: 1px dotted var(--sklearn-color-border-box);\n",
       "  border-radius: 0.25em;\n",
       "  box-sizing: border-box;\n",
       "  margin-bottom: 0.5em;\n",
       "  /* unfitted */\n",
       "  background-color: var(--sklearn-color-unfitted-level-0);\n",
       "}\n",
       "\n",
       "#sk-container-id-1 div.sk-estimator.fitted {\n",
       "  /* fitted */\n",
       "  background-color: var(--sklearn-color-fitted-level-0);\n",
       "}\n",
       "\n",
       "/* on hover */\n",
       "#sk-container-id-1 div.sk-estimator:hover {\n",
       "  /* unfitted */\n",
       "  background-color: var(--sklearn-color-unfitted-level-2);\n",
       "}\n",
       "\n",
       "#sk-container-id-1 div.sk-estimator.fitted:hover {\n",
       "  /* fitted */\n",
       "  background-color: var(--sklearn-color-fitted-level-2);\n",
       "}\n",
       "\n",
       "/* Specification for estimator info (e.g. \"i\" and \"?\") */\n",
       "\n",
       "/* Common style for \"i\" and \"?\" */\n",
       "\n",
       ".sk-estimator-doc-link,\n",
       "a:link.sk-estimator-doc-link,\n",
       "a:visited.sk-estimator-doc-link {\n",
       "  float: right;\n",
       "  font-size: smaller;\n",
       "  line-height: 1em;\n",
       "  font-family: monospace;\n",
       "  background-color: var(--sklearn-color-background);\n",
       "  border-radius: 1em;\n",
       "  height: 1em;\n",
       "  width: 1em;\n",
       "  text-decoration: none !important;\n",
       "  margin-left: 1ex;\n",
       "  /* unfitted */\n",
       "  border: var(--sklearn-color-unfitted-level-1) 1pt solid;\n",
       "  color: var(--sklearn-color-unfitted-level-1);\n",
       "}\n",
       "\n",
       ".sk-estimator-doc-link.fitted,\n",
       "a:link.sk-estimator-doc-link.fitted,\n",
       "a:visited.sk-estimator-doc-link.fitted {\n",
       "  /* fitted */\n",
       "  border: var(--sklearn-color-fitted-level-1) 1pt solid;\n",
       "  color: var(--sklearn-color-fitted-level-1);\n",
       "}\n",
       "\n",
       "/* On hover */\n",
       "div.sk-estimator:hover .sk-estimator-doc-link:hover,\n",
       ".sk-estimator-doc-link:hover,\n",
       "div.sk-label-container:hover .sk-estimator-doc-link:hover,\n",
       ".sk-estimator-doc-link:hover {\n",
       "  /* unfitted */\n",
       "  background-color: var(--sklearn-color-unfitted-level-3);\n",
       "  color: var(--sklearn-color-background);\n",
       "  text-decoration: none;\n",
       "}\n",
       "\n",
       "div.sk-estimator.fitted:hover .sk-estimator-doc-link.fitted:hover,\n",
       ".sk-estimator-doc-link.fitted:hover,\n",
       "div.sk-label-container:hover .sk-estimator-doc-link.fitted:hover,\n",
       ".sk-estimator-doc-link.fitted:hover {\n",
       "  /* fitted */\n",
       "  background-color: var(--sklearn-color-fitted-level-3);\n",
       "  color: var(--sklearn-color-background);\n",
       "  text-decoration: none;\n",
       "}\n",
       "\n",
       "/* Span, style for the box shown on hovering the info icon */\n",
       ".sk-estimator-doc-link span {\n",
       "  display: none;\n",
       "  z-index: 9999;\n",
       "  position: relative;\n",
       "  font-weight: normal;\n",
       "  right: .2ex;\n",
       "  padding: .5ex;\n",
       "  margin: .5ex;\n",
       "  width: min-content;\n",
       "  min-width: 20ex;\n",
       "  max-width: 50ex;\n",
       "  color: var(--sklearn-color-text);\n",
       "  box-shadow: 2pt 2pt 4pt #999;\n",
       "  /* unfitted */\n",
       "  background: var(--sklearn-color-unfitted-level-0);\n",
       "  border: .5pt solid var(--sklearn-color-unfitted-level-3);\n",
       "}\n",
       "\n",
       ".sk-estimator-doc-link.fitted span {\n",
       "  /* fitted */\n",
       "  background: var(--sklearn-color-fitted-level-0);\n",
       "  border: var(--sklearn-color-fitted-level-3);\n",
       "}\n",
       "\n",
       ".sk-estimator-doc-link:hover span {\n",
       "  display: block;\n",
       "}\n",
       "\n",
       "/* \"?\"-specific style due to the `<a>` HTML tag */\n",
       "\n",
       "#sk-container-id-1 a.estimator_doc_link {\n",
       "  float: right;\n",
       "  font-size: 1rem;\n",
       "  line-height: 1em;\n",
       "  font-family: monospace;\n",
       "  background-color: var(--sklearn-color-background);\n",
       "  border-radius: 1rem;\n",
       "  height: 1rem;\n",
       "  width: 1rem;\n",
       "  text-decoration: none;\n",
       "  /* unfitted */\n",
       "  color: var(--sklearn-color-unfitted-level-1);\n",
       "  border: var(--sklearn-color-unfitted-level-1) 1pt solid;\n",
       "}\n",
       "\n",
       "#sk-container-id-1 a.estimator_doc_link.fitted {\n",
       "  /* fitted */\n",
       "  border: var(--sklearn-color-fitted-level-1) 1pt solid;\n",
       "  color: var(--sklearn-color-fitted-level-1);\n",
       "}\n",
       "\n",
       "/* On hover */\n",
       "#sk-container-id-1 a.estimator_doc_link:hover {\n",
       "  /* unfitted */\n",
       "  background-color: var(--sklearn-color-unfitted-level-3);\n",
       "  color: var(--sklearn-color-background);\n",
       "  text-decoration: none;\n",
       "}\n",
       "\n",
       "#sk-container-id-1 a.estimator_doc_link.fitted:hover {\n",
       "  /* fitted */\n",
       "  background-color: var(--sklearn-color-fitted-level-3);\n",
       "}\n",
       "</style><div id=\"sk-container-id-1\" class=\"sk-top-container\"><div class=\"sk-text-repr-fallback\"><pre>RandomForestClassifier(max_depth=10, random_state=0)</pre><b>In a Jupyter environment, please rerun this cell to show the HTML representation or trust the notebook. <br />On GitHub, the HTML representation is unable to render, please try loading this page with nbviewer.org.</b></div><div class=\"sk-container\" hidden><div class=\"sk-item\"><div class=\"sk-estimator fitted sk-toggleable\"><input class=\"sk-toggleable__control sk-hidden--visually\" id=\"sk-estimator-id-1\" type=\"checkbox\" checked><label for=\"sk-estimator-id-1\" class=\"sk-toggleable__label fitted sk-toggleable__label-arrow fitted\">&nbsp;&nbsp;RandomForestClassifier<a class=\"sk-estimator-doc-link fitted\" rel=\"noreferrer\" target=\"_blank\" href=\"https://scikit-learn.org/1.4/modules/generated/sklearn.ensemble.RandomForestClassifier.html\">?<span>Documentation for RandomForestClassifier</span></a><span class=\"sk-estimator-doc-link fitted\">i<span>Fitted</span></span></label><div class=\"sk-toggleable__content fitted\"><pre>RandomForestClassifier(max_depth=10, random_state=0)</pre></div> </div></div></div></div>"
      ],
      "text/plain": [
       "RandomForestClassifier(max_depth=10, random_state=0)"
      ]
     },
     "execution_count": 52,
     "metadata": {},
     "output_type": "execute_result"
    }
   ],
   "source": [
    "params = {'max_depth': 10, 'min_samples_leaf': 1, 'n_estimators': 100}\n",
    "model = RandomForestClassifier(random_state=0, **params)\n",
    "model.fit(X_train, y_train)"
   ]
  },
  {
   "cell_type": "code",
   "execution_count": 53,
   "metadata": {
    "metadata": {}
   },
   "outputs": [
    {
     "data": {
      "text/plain": [
       "0.9981736735765079"
      ]
     },
     "execution_count": 53,
     "metadata": {},
     "output_type": "execute_result"
    }
   ],
   "source": [
    "y_train_preds_rf = model.predict(X_train)\n",
    "f1_score(y_train, y_train_preds_rf, average=\"macro\")"
   ]
  },
  {
   "cell_type": "code",
   "execution_count": 54,
   "metadata": {
    "metadata": {}
   },
   "outputs": [
    {
     "data": {
      "text/plain": [
       "0.9420616967941213"
      ]
     },
     "execution_count": 54,
     "metadata": {},
     "output_type": "execute_result"
    }
   ],
   "source": [
    "y_test_preds_rf = model.predict(X_test)\n",
    "f1_score(y_test, y_test_preds_rf, average=\"macro\")"
   ]
  },
  {
   "cell_type": "code",
   "execution_count": 55,
   "metadata": {
    "metadata": {}
   },
   "outputs": [
    {
     "data": {
      "text/plain": [
       "0.9158878504672897"
      ]
     },
     "execution_count": 55,
     "metadata": {},
     "output_type": "execute_result"
    }
   ],
   "source": [
    "f1_score(y_test, y_test_preds_rf, average=\"macro\", labels=[0])"
   ]
  },
  {
   "cell_type": "code",
   "execution_count": 56,
   "metadata": {
    "metadata": {}
   },
   "outputs": [
    {
     "data": {
      "text/plain": [
       "0.9936305732484076"
      ]
     },
     "execution_count": 56,
     "metadata": {},
     "output_type": "execute_result"
    }
   ],
   "source": [
    "f1_score(y_test, y_test_preds_rf, average=\"macro\", labels=[1])"
   ]
  },
  {
   "cell_type": "code",
   "execution_count": 57,
   "metadata": {
    "metadata": {}
   },
   "outputs": [
    {
     "data": {
      "text/plain": [
       "0.9166666666666666"
      ]
     },
     "execution_count": 57,
     "metadata": {},
     "output_type": "execute_result"
    }
   ],
   "source": [
    "f1_score(y_test, y_test_preds_rf, average=\"macro\", labels=[2])"
   ]
  },
  {
   "cell_type": "code",
   "execution_count": 58,
   "metadata": {
    "metadata": {}
   },
   "outputs": [
    {
     "name": "stdout",
     "output_type": "stream",
     "text": [
      "[[ 49   3   1]\n",
      " [  0 234   0]\n",
      " [  5   0  33]]\n"
     ]
    }
   ],
   "source": [
    "cm_test_rf = confusion_matrix(y_test, y_test_preds_rf)\n",
    "print(cm_test_rf)"
   ]
  },
  {
   "cell_type": "code",
   "execution_count": 59,
   "metadata": {
    "metadata": {}
   },
   "outputs": [
    {
     "data": {
      "text/html": [
       "<div>\n",
       "<style scoped>\n",
       "    .dataframe tbody tr th:only-of-type {\n",
       "        vertical-align: middle;\n",
       "    }\n",
       "\n",
       "    .dataframe tbody tr th {\n",
       "        vertical-align: top;\n",
       "    }\n",
       "\n",
       "    .dataframe thead th {\n",
       "        text-align: right;\n",
       "    }\n",
       "</style>\n",
       "<table border=\"1\" class=\"dataframe\">\n",
       "  <thead>\n",
       "    <tr style=\"text-align: right;\">\n",
       "      <th></th>\n",
       "      <th>Unnamed: 0</th>\n",
       "      <th>Date</th>\n",
       "      <th>Time</th>\n",
       "      <th>Elat</th>\n",
       "      <th>Elon</th>\n",
       "      <th>Dep</th>\n",
       "      <th>Tag</th>\n",
       "      <th>F01</th>\n",
       "      <th>F02</th>\n",
       "      <th>F03</th>\n",
       "      <th>...</th>\n",
       "      <th>F06</th>\n",
       "      <th>F07</th>\n",
       "      <th>F08</th>\n",
       "      <th>F09</th>\n",
       "      <th>F10</th>\n",
       "      <th>F11</th>\n",
       "      <th>F12</th>\n",
       "      <th>F13</th>\n",
       "      <th>y</th>\n",
       "      <th>prediction</th>\n",
       "    </tr>\n",
       "  </thead>\n",
       "  <tbody>\n",
       "    <tr>\n",
       "      <th>149</th>\n",
       "      <td>3699</td>\n",
       "      <td>2019-12-17</td>\n",
       "      <td>07:13:46.30</td>\n",
       "      <td>39.413</td>\n",
       "      <td>-110.306</td>\n",
       "      <td>-1.8</td>\n",
       "      <td>mis</td>\n",
       "      <td>-0.23</td>\n",
       "      <td>0.04</td>\n",
       "      <td>0.05</td>\n",
       "      <td>...</td>\n",
       "      <td>13.31</td>\n",
       "      <td>12.86</td>\n",
       "      <td>-0.15</td>\n",
       "      <td>-0.17</td>\n",
       "      <td>-0.30</td>\n",
       "      <td>-0.20</td>\n",
       "      <td>NaN</td>\n",
       "      <td>0.35</td>\n",
       "      <td>2</td>\n",
       "      <td>0</td>\n",
       "    </tr>\n",
       "    <tr>\n",
       "      <th>365</th>\n",
       "      <td>1889</td>\n",
       "      <td>2016-05-05</td>\n",
       "      <td>22:23:14.54</td>\n",
       "      <td>40.623</td>\n",
       "      <td>-109.507</td>\n",
       "      <td>-2.0</td>\n",
       "      <td>ex</td>\n",
       "      <td>-0.12</td>\n",
       "      <td>-0.37</td>\n",
       "      <td>-0.47</td>\n",
       "      <td>...</td>\n",
       "      <td>15.24</td>\n",
       "      <td>14.64</td>\n",
       "      <td>0.13</td>\n",
       "      <td>0.14</td>\n",
       "      <td>0.14</td>\n",
       "      <td>0.10</td>\n",
       "      <td>0.14</td>\n",
       "      <td>0.16</td>\n",
       "      <td>0</td>\n",
       "      <td>1</td>\n",
       "    </tr>\n",
       "    <tr>\n",
       "      <th>547</th>\n",
       "      <td>7470</td>\n",
       "      <td>2021-09-02</td>\n",
       "      <td>05:43:22.92</td>\n",
       "      <td>39.430</td>\n",
       "      <td>-110.300</td>\n",
       "      <td>-2.0</td>\n",
       "      <td>mis</td>\n",
       "      <td>-0.21</td>\n",
       "      <td>0.19</td>\n",
       "      <td>0.17</td>\n",
       "      <td>...</td>\n",
       "      <td>15.31</td>\n",
       "      <td>12.64</td>\n",
       "      <td>0.00</td>\n",
       "      <td>0.31</td>\n",
       "      <td>0.21</td>\n",
       "      <td>-0.01</td>\n",
       "      <td>0.55</td>\n",
       "      <td>0.65</td>\n",
       "      <td>2</td>\n",
       "      <td>0</td>\n",
       "    </tr>\n",
       "    <tr>\n",
       "      <th>907</th>\n",
       "      <td>2738</td>\n",
       "      <td>2018-01-18</td>\n",
       "      <td>17:12:25.43</td>\n",
       "      <td>40.614</td>\n",
       "      <td>-109.514</td>\n",
       "      <td>-2.0</td>\n",
       "      <td>ex</td>\n",
       "      <td>-0.31</td>\n",
       "      <td>-0.22</td>\n",
       "      <td>-0.38</td>\n",
       "      <td>...</td>\n",
       "      <td>14.93</td>\n",
       "      <td>14.15</td>\n",
       "      <td>0.08</td>\n",
       "      <td>0.08</td>\n",
       "      <td>0.17</td>\n",
       "      <td>0.10</td>\n",
       "      <td>0.16</td>\n",
       "      <td>0.07</td>\n",
       "      <td>0</td>\n",
       "      <td>1</td>\n",
       "    </tr>\n",
       "    <tr>\n",
       "      <th>1036</th>\n",
       "      <td>1359</td>\n",
       "      <td>2015-03-23</td>\n",
       "      <td>18:07:34.04</td>\n",
       "      <td>40.521</td>\n",
       "      <td>-112.154</td>\n",
       "      <td>-2.0</td>\n",
       "      <td>ex</td>\n",
       "      <td>-0.26</td>\n",
       "      <td>0.41</td>\n",
       "      <td>0.12</td>\n",
       "      <td>...</td>\n",
       "      <td>12.89</td>\n",
       "      <td>12.64</td>\n",
       "      <td>0.10</td>\n",
       "      <td>0.04</td>\n",
       "      <td>0.17</td>\n",
       "      <td>0.34</td>\n",
       "      <td>0.41</td>\n",
       "      <td>0.53</td>\n",
       "      <td>0</td>\n",
       "      <td>2</td>\n",
       "    </tr>\n",
       "    <tr>\n",
       "      <th>1141</th>\n",
       "      <td>6717</td>\n",
       "      <td>2020-11-20</td>\n",
       "      <td>02:51:36.47</td>\n",
       "      <td>39.720</td>\n",
       "      <td>-110.733</td>\n",
       "      <td>-2.2</td>\n",
       "      <td>mis</td>\n",
       "      <td>-0.42</td>\n",
       "      <td>-0.19</td>\n",
       "      <td>-0.24</td>\n",
       "      <td>...</td>\n",
       "      <td>13.46</td>\n",
       "      <td>13.53</td>\n",
       "      <td>0.01</td>\n",
       "      <td>-0.01</td>\n",
       "      <td>0.07</td>\n",
       "      <td>-0.03</td>\n",
       "      <td>0.79</td>\n",
       "      <td>0.78</td>\n",
       "      <td>2</td>\n",
       "      <td>0</td>\n",
       "    </tr>\n",
       "    <tr>\n",
       "      <th>1638</th>\n",
       "      <td>3082</td>\n",
       "      <td>2019-01-04</td>\n",
       "      <td>12:23:36.52</td>\n",
       "      <td>39.714</td>\n",
       "      <td>-110.752</td>\n",
       "      <td>-3.3</td>\n",
       "      <td>mis</td>\n",
       "      <td>-0.45</td>\n",
       "      <td>0.11</td>\n",
       "      <td>-0.01</td>\n",
       "      <td>...</td>\n",
       "      <td>13.59</td>\n",
       "      <td>12.76</td>\n",
       "      <td>0.27</td>\n",
       "      <td>0.40</td>\n",
       "      <td>0.38</td>\n",
       "      <td>0.49</td>\n",
       "      <td>0.34</td>\n",
       "      <td>0.48</td>\n",
       "      <td>2</td>\n",
       "      <td>0</td>\n",
       "    </tr>\n",
       "    <tr>\n",
       "      <th>1650</th>\n",
       "      <td>2959</td>\n",
       "      <td>2018-08-18</td>\n",
       "      <td>18:18:26.54</td>\n",
       "      <td>38.982</td>\n",
       "      <td>-111.365</td>\n",
       "      <td>-1.9</td>\n",
       "      <td>mis</td>\n",
       "      <td>-0.54</td>\n",
       "      <td>0.20</td>\n",
       "      <td>-0.06</td>\n",
       "      <td>...</td>\n",
       "      <td>12.66</td>\n",
       "      <td>12.70</td>\n",
       "      <td>0.07</td>\n",
       "      <td>0.07</td>\n",
       "      <td>0.01</td>\n",
       "      <td>-0.17</td>\n",
       "      <td>0.25</td>\n",
       "      <td>0.06</td>\n",
       "      <td>2</td>\n",
       "      <td>0</td>\n",
       "    </tr>\n",
       "    <tr>\n",
       "      <th>1659</th>\n",
       "      <td>1651</td>\n",
       "      <td>2015-10-13</td>\n",
       "      <td>01:02:14.31</td>\n",
       "      <td>40.607</td>\n",
       "      <td>-109.531</td>\n",
       "      <td>-2.0</td>\n",
       "      <td>ex</td>\n",
       "      <td>-0.40</td>\n",
       "      <td>-0.35</td>\n",
       "      <td>-0.52</td>\n",
       "      <td>...</td>\n",
       "      <td>14.17</td>\n",
       "      <td>14.53</td>\n",
       "      <td>0.02</td>\n",
       "      <td>-0.01</td>\n",
       "      <td>-0.04</td>\n",
       "      <td>0.04</td>\n",
       "      <td>0.16</td>\n",
       "      <td>0.23</td>\n",
       "      <td>0</td>\n",
       "      <td>1</td>\n",
       "    </tr>\n",
       "  </tbody>\n",
       "</table>\n",
       "<p>9 rows × 22 columns</p>\n",
       "</div>"
      ],
      "text/plain": [
       "      Unnamed: 0        Date         Time    Elat     Elon  Dep  Tag   F01  \\\n",
       "149         3699  2019-12-17  07:13:46.30  39.413 -110.306 -1.8  mis -0.23   \n",
       "365         1889  2016-05-05  22:23:14.54  40.623 -109.507 -2.0   ex -0.12   \n",
       "547         7470  2021-09-02  05:43:22.92  39.430 -110.300 -2.0  mis -0.21   \n",
       "907         2738  2018-01-18  17:12:25.43  40.614 -109.514 -2.0   ex -0.31   \n",
       "1036        1359  2015-03-23  18:07:34.04  40.521 -112.154 -2.0   ex -0.26   \n",
       "1141        6717  2020-11-20  02:51:36.47  39.720 -110.733 -2.2  mis -0.42   \n",
       "1638        3082  2019-01-04  12:23:36.52  39.714 -110.752 -3.3  mis -0.45   \n",
       "1650        2959  2018-08-18  18:18:26.54  38.982 -111.365 -1.9  mis -0.54   \n",
       "1659        1651  2015-10-13  01:02:14.31  40.607 -109.531 -2.0   ex -0.40   \n",
       "\n",
       "       F02   F03  ...    F06    F07   F08   F09   F10   F11   F12   F13  y  \\\n",
       "149   0.04  0.05  ...  13.31  12.86 -0.15 -0.17 -0.30 -0.20   NaN  0.35  2   \n",
       "365  -0.37 -0.47  ...  15.24  14.64  0.13  0.14  0.14  0.10  0.14  0.16  0   \n",
       "547   0.19  0.17  ...  15.31  12.64  0.00  0.31  0.21 -0.01  0.55  0.65  2   \n",
       "907  -0.22 -0.38  ...  14.93  14.15  0.08  0.08  0.17  0.10  0.16  0.07  0   \n",
       "1036  0.41  0.12  ...  12.89  12.64  0.10  0.04  0.17  0.34  0.41  0.53  0   \n",
       "1141 -0.19 -0.24  ...  13.46  13.53  0.01 -0.01  0.07 -0.03  0.79  0.78  2   \n",
       "1638  0.11 -0.01  ...  13.59  12.76  0.27  0.40  0.38  0.49  0.34  0.48  2   \n",
       "1650  0.20 -0.06  ...  12.66  12.70  0.07  0.07  0.01 -0.17  0.25  0.06  2   \n",
       "1659 -0.35 -0.52  ...  14.17  14.53  0.02 -0.01 -0.04  0.04  0.16  0.23  0   \n",
       "\n",
       "      prediction  \n",
       "149            0  \n",
       "365            1  \n",
       "547            0  \n",
       "907            1  \n",
       "1036           2  \n",
       "1141           0  \n",
       "1638           0  \n",
       "1650           0  \n",
       "1659           1  \n",
       "\n",
       "[9 rows x 22 columns]"
      ]
     },
     "execution_count": 59,
     "metadata": {},
     "output_type": "execute_result"
    }
   ],
   "source": [
    "rf_test_misclassified = test_feats_df.iloc[keep_inds2][y_test != y_test_preds_rf]\n",
    "rf_test_misclassified[\"prediction\"] = y_test_preds_rf[y_test != y_test_preds_rf]\n",
    "rf_test_misclassified.to_csv(\"rfTestMisclassified.csv\", index=False)\n",
    "rf_test_misclassified"
   ]
  },
  {
   "cell_type": "markdown",
   "metadata": {},
   "source": [
    "# Combine confusion matrices"
   ]
  },
  {
   "cell_type": "code",
   "execution_count": 60,
   "metadata": {
    "metadata": {}
   },
   "outputs": [
    {
     "data": {
      "text/plain": [
       "array([[ 50,   1,   2],\n",
       "       [  3, 231,   0],\n",
       "       [  2,   0,  36]])"
      ]
     },
     "execution_count": 60,
     "metadata": {},
     "output_type": "execute_result"
    }
   ],
   "source": [
    "cm_nb_test"
   ]
  },
  {
   "cell_type": "code",
   "execution_count": 61,
   "metadata": {
    "metadata": {}
   },
   "outputs": [],
   "source": [
    "import matplotlib.pyplot as plt"
   ]
  },
  {
   "cell_type": "code",
   "execution_count": 91,
   "metadata": {
    "metadata": {}
   },
   "outputs": [],
   "source": [
    "SMALL_SIZE = 9\n",
    "MEDIUM_SIZE = 10\n",
    "BIGGER_SIZE = 10\n",
    "\n",
    "plt.rc('font', size=SMALL_SIZE)          # controls default text sizes\n",
    "plt.rc('axes', titlesize=MEDIUM_SIZE)     # fontsize of the axes title\n",
    "plt.rc('axes', labelsize=MEDIUM_SIZE)    # fontsize of the x and y labels\n",
    "plt.rc('xtick', labelsize=SMALL_SIZE)    # fontsize of the tick labels\n",
    "plt.rc('ytick', labelsize=SMALL_SIZE)    # fontsize of the tick labels\n",
    "plt.rc('legend', fontsize=SMALL_SIZE)    # legend fontsize\n",
    "plt.rc('figure', titlesize=MEDIUM_SIZE)  # fontsize of the figure title\n",
    "plt.rc('figure', labelsize=MEDIUM_SIZE)"
   ]
  },
  {
   "cell_type": "code",
   "execution_count": 63,
   "metadata": {
    "metadata": {}
   },
   "outputs": [
    {
     "data": {
      "image/png": "[encoded data removed]",
      "text/plain": [
       "<Figure size 420x480 with 3 Axes>"
      ]
     },
     "metadata": {},
     "output_type": "display_data"
    }
   ],
   "source": [
    "fig, axes = plt.subplots(1, 2, sharey='row', figsize=(4.2, 4.8))\n",
    "i = 0\n",
    "for key, cm, ax in zip([\"LDA\", \"NB\"], [cm_lda_test, cm_nb_test], axes):\n",
    "    disp = ConfusionMatrixDisplay(confusion_matrix=cm, \n",
    "                        display_labels=['EX', 'EQ', 'MIS'])\n",
    "    disp.plot(ax=ax, xticks_rotation=45)\n",
    "    disp.ax_.set_title(key)\n",
    "    disp.im_.colorbar.remove()\n",
    "    disp.ax_.set_xlabel('')\n",
    "    if i!=0:\n",
    "        disp.ax_.set_ylabel('')\n",
    "    i+=1\n",
    "fig.colorbar(disp.im_, ax=axes, shrink=0.4, label=\"Number of Examples\")\n",
    "fig.supxlabel('Predicted label', y=0.25, x=0.44)\n",
    "plt.show()"
   ]
  },
  {
   "cell_type": "code",
   "execution_count": 101,
   "metadata": {
    "metadata": {}
   },
   "outputs": [
    {
     "data": {
      "image/png": "[encoded data removed]",
      "text/plain": [
       "<Figure size 640x300 with 3 Axes>"
      ]
     },
     "metadata": {},
     "output_type": "display_data"
    }
   ],
   "source": [
    "fig, axes = plt.subplots(1, 2, sharey='row', figsize=(6.4, 3))#, figsize=(4.2, 2.5))\n",
    "i = 0\n",
    "labels = [\"(a)\", \"(b)\"]\n",
    "\n",
    "for key, cm, ax in zip([\"Naive Bayes\", \"Random Forest\"], [cm_nb_test, cm_test_rf], axes):\n",
    "    disp = ConfusionMatrixDisplay(confusion_matrix=cm, \n",
    "                        display_labels=['EX', 'EQ', 'MIS'])\n",
    "    disp.plot(ax=ax, xticks_rotation=45)\n",
    "    disp.ax_.set_title(key)\n",
    "    disp.im_.colorbar.remove()\n",
    "    disp.ax_.set_xlabel('')\n",
    "    disp.ax_.text(0.0, 1.02, labels[i], transform=ax.transAxes)\n",
    "    if i!=0:\n",
    "        disp.ax_.set_ylabel('')\n",
    "    i+=1\n",
    "fig.colorbar(disp.im_, ax=axes, shrink=0.8, label=\"Number of Examples\")\n",
    "fig.supxlabel('Predicted label', y=0.01, x=0.44)\n",
    "plt.show()\n",
    "fig.savefig(\"nb_rf_cm.png\", dpi=300)"
   ]
  },
  {
   "cell_type": "code",
   "execution_count": 86,
   "metadata": {
    "metadata": {}
   },
   "outputs": [
    {
     "data": {
      "text/plain": [
       "array([6.4, 4.8])"
      ]
     },
     "execution_count": 86,
     "metadata": {},
     "output_type": "execute_result"
    }
   ],
   "source": [
    "fig.get_size_inches()"
   ]
  },
  {
   "cell_type": "code",
   "execution_count": 65,
   "metadata": {
    "metadata": {}
   },
   "outputs": [
    {
     "data": {
      "image/png": "[encoded data removed]",
      "text/plain": [
       "<Figure size 420x480 with 3 Axes>"
      ]
     },
     "metadata": {},
     "output_type": "display_data"
    }
   ],
   "source": [
    "fig, axes = plt.subplots(1, 2, sharey='row', figsize=(4.2, 4.8))\n",
    "i = 0\n",
    "for key, cm, ax in zip([\"LDA\", \"NB\"], [cm_lda_test, cm_nb_test], axes):\n",
    "    disp = ConfusionMatrixDisplay(confusion_matrix=cm, \n",
    "                        display_labels=['EX', 'EQ', 'MIS'])\n",
    "    disp.plot(ax=ax, xticks_rotation=45)\n",
    "    disp.ax_.set_title(key)\n",
    "    disp.im_.colorbar.remove()\n",
    "    disp.ax_.set_xlabel('')\n",
    "    if i!=0:\n",
    "        disp.ax_.set_ylabel('')\n",
    "    i+=1\n",
    "fig.colorbar(disp.im_, ax=axes, shrink=0.4, label=\"Number of Examples\")\n",
    "fig.supxlabel('Predicted label', y=0.25, x=0.44)\n",
    "plt.show()"
   ]
  },
  {
   "cell_type": "code",
   "execution_count": 66,
   "metadata": {
    "metadata": {}
   },
   "outputs": [
    {
     "data": {
      "image/png": "[encoded data removed]",
      "text/plain": [
       "<Figure size 640x480 with 4 Axes>"
      ]
     },
     "metadata": {},
     "output_type": "display_data"
    }
   ],
   "source": [
    "fig, axes = plt.subplots(1, 3, sharey='row')\n",
    "i = 0\n",
    "for key, cm, ax in zip([\"LDA\", \"NB\", \"RF\"], [cm_lda_test, cm_nb_test, cm_test_rf], axes):\n",
    "    disp = ConfusionMatrixDisplay(confusion_matrix=cm, \n",
    "                        display_labels=['EX', 'EQ', 'MIS'])\n",
    "    disp.plot(ax=ax, xticks_rotation=45)\n",
    "    disp.ax_.set_title(key)\n",
    "    disp.im_.colorbar.remove()\n",
    "    disp.ax_.set_xlabel('')\n",
    "    if i!=0:\n",
    "        disp.ax_.set_ylabel('')\n",
    "    i+=1\n",
    "fig.colorbar(disp.im_, ax=axes, shrink=0.4, label=\"Number of Examples\")\n",
    "fig.supxlabel('Predicted label', y=0.25, x=0.44)\n",
    "plt.show()"
   ]
  },
  {
   "cell_type": "markdown",
   "metadata": {},
   "source": [
    "# Tibi"
   ]
  },
  {
   "cell_type": "code",
   "execution_count": 67,
   "metadata": {
    "metadata": {}
   },
   "outputs": [],
   "source": [
    "ex_ex = 24\n",
    "ex_mis = 2\n",
    "ex_eq = 1\n",
    "mis_ex = 3\n",
    "mis_mis = 187\n",
    "mis_eq = 29\n",
    "eq_ex = 8\n",
    "eq_mis = 16\n",
    "eq_eq = 100"
   ]
  },
  {
   "cell_type": "code",
   "execution_count": 68,
   "metadata": {
    "metadata": {}
   },
   "outputs": [
    {
     "name": "stdout",
     "output_type": "stream",
     "text": [
      "[[24, 1, 2], [8, 100, 16], [3, 29, 187]]\n"
     ]
    }
   ],
   "source": [
    "cm = [[ex_ex, ex_eq, ex_mis],\n",
    "      [eq_ex, eq_eq, eq_mis],\n",
    "      [mis_ex, mis_eq, mis_mis]]\n",
    "print(cm)"
   ]
  },
  {
   "cell_type": "code",
   "execution_count": 69,
   "metadata": {
    "metadata": {}
   },
   "outputs": [
    {
     "data": {
      "text/plain": [
       "<sklearn.metrics._plot.confusion_matrix.ConfusionMatrixDisplay at 0x14859f868c80>"
      ]
     },
     "execution_count": 69,
     "metadata": {},
     "output_type": "execute_result"
    },
    {
     "data": {
      "image/png": "[encoded data removed]",
      "text/plain": [
       "<Figure size 640x480 with 2 Axes>"
      ]
     },
     "metadata": {},
     "output_type": "display_data"
    }
   ],
   "source": [
    "display = ConfusionMatrixDisplay(confusion_matrix=np.array(cm), \n",
    "                       display_labels=['ex', 'eq', 'mis'])\n",
    "display.plot()"
   ]
  },
  {
   "cell_type": "code",
   "execution_count": 70,
   "metadata": {
    "metadata": {}
   },
   "outputs": [],
   "source": [
    "def f1(tp, fn, fp):\n",
    "    return (2*tp)/(2*tp+fp+fn)"
   ]
  },
  {
   "cell_type": "code",
   "execution_count": 71,
   "metadata": {
    "metadata": {}
   },
   "outputs": [],
   "source": [
    "def all_f1(cm):\n",
    "    ex_fn = cm[0][1] + cm[0][2]\n",
    "    ex_fp = cm[1][0] + cm[2][0]\n",
    "    ex_tp = cm[0][0]\n",
    "    print(ex_tp, ex_fn, ex_fp)\n",
    "    ex_f1 = f1(ex_tp, ex_fn, ex_fp)\n",
    "    print(ex_f1)\n",
    "\n",
    "    eq_fn = cm[1][0] + cm[1][2]\n",
    "    eq_fp = cm[0][1] + cm[2][1]\n",
    "    eq_tp = cm[1][1]\n",
    "    print(eq_tp, eq_fn, eq_fp)\n",
    "    eq_f1 = f1(eq_tp, eq_fn, eq_fp)\n",
    "    print(eq_f1)\n",
    "\n",
    "    mis_fn = cm[2][0] + cm[2][1]\n",
    "    mis_fp = cm[0][2] + cm[1][2]\n",
    "    mis_tp = cm[2][2]\n",
    "    print(mis_tp, mis_fn, mis_fp)\n",
    "    mis_f1 = f1(mis_tp, mis_fn, mis_fp)\n",
    "    print(mis_f1)\n",
    "\n",
    "    macro = (ex_f1 + eq_f1 + mis_f1)/3\n",
    "\n",
    "    return ex_f1, eq_f1, mis_f1, macro"
   ]
  },
  {
   "cell_type": "code",
   "execution_count": 72,
   "metadata": {
    "metadata": {}
   },
   "outputs": [
    {
     "name": "stdout",
     "output_type": "stream",
     "text": [
      "24 3 11\n",
      "0.7741935483870968\n",
      "100 24 30\n",
      "0.7874015748031497\n",
      "187 32 18\n",
      "0.8820754716981132\n"
     ]
    },
    {
     "data": {
      "text/plain": [
       "(0.7741935483870968,\n",
       " 0.7874015748031497,\n",
       " 0.8820754716981132,\n",
       " 0.8145568649627867)"
      ]
     },
     "execution_count": 72,
     "metadata": {},
     "output_type": "execute_result"
    }
   ],
   "source": [
    "all_f1(cm)"
   ]
  },
  {
   "cell_type": "code",
   "execution_count": 73,
   "metadata": {
    "metadata": {}
   },
   "outputs": [
    {
     "name": "stdout",
     "output_type": "stream",
     "text": [
      "[[45, 0, 3], [7, 972, 37], [1, 5, 6280]]\n"
     ]
    }
   ],
   "source": [
    "ex_ex = 45\n",
    "ex_mis = 3\n",
    "ex_eq = 0\n",
    "mis_ex = 1\n",
    "mis_mis = 6280\n",
    "mis_eq = 5\n",
    "eq_ex = 7\n",
    "eq_mis = 37\n",
    "eq_eq = 972\n",
    "\n",
    "cm = [[ex_ex, ex_eq, ex_mis],\n",
    "      [eq_ex, eq_eq, eq_mis],\n",
    "      [mis_ex, mis_eq, mis_mis]]\n",
    "print(cm)"
   ]
  },
  {
   "cell_type": "code",
   "execution_count": 74,
   "metadata": {
    "metadata": {}
   },
   "outputs": [
    {
     "data": {
      "text/plain": [
       "<sklearn.metrics._plot.confusion_matrix.ConfusionMatrixDisplay at 0x1485a048a900>"
      ]
     },
     "execution_count": 74,
     "metadata": {},
     "output_type": "execute_result"
    },
    {
     "data": {
      "image/png": "[encoded data removed]",
      "text/plain": [
       "<Figure size 640x480 with 2 Axes>"
      ]
     },
     "metadata": {},
     "output_type": "display_data"
    }
   ],
   "source": [
    "display = ConfusionMatrixDisplay(confusion_matrix=np.array(cm), \n",
    "                       display_labels=['ex', 'eq', 'mis'])\n",
    "display.plot()"
   ]
  },
  {
   "cell_type": "code",
   "execution_count": 75,
   "metadata": {
    "metadata": {}
   },
   "outputs": [
    {
     "name": "stdout",
     "output_type": "stream",
     "text": [
      "45 3 8\n",
      "0.8910891089108911\n",
      "972 44 5\n",
      "0.9754139488208731\n",
      "6280 6 40\n",
      "0.9963509439949231\n"
     ]
    },
    {
     "data": {
      "text/plain": [
       "(0.8910891089108911, 0.9754139488208731, 0.9963509439949231, 0.954284667242229)"
      ]
     },
     "execution_count": 75,
     "metadata": {},
     "output_type": "execute_result"
    }
   ],
   "source": [
    "all_f1(cm)"
   ]
  }
 ],
 "metadata": {
  "kernelspec": {
   "display_name": "ut_classifier",
   "language": "python",
   "name": "python3"
  },
  "language_info": {
   "codemirror_mode": {
    "name": "ipython",
    "version": 3
   },
   "file_extension": ".py",
   "mimetype": "text/x-python",
   "name": "python",
   "nbconvert_exporter": "python",
   "pygments_lexer": "ipython3",
   "version": "3.12.2"
  }
 },
 "nbformat": 4,
 "nbformat_minor": 2
}

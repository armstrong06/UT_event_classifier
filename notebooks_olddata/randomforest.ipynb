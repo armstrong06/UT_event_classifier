{
 "cells": [
  {
   "cell_type": "markdown",
   "metadata": {},
   "source": [
    " In this notebook I train a Random Forest model to predict which class [quarry blast, earthquake, or MIS] an event belongs to based on having 1-12 features computed by Keith and Relu. I did not do any hyperparameter tuning beyond exploring the `class_weight` option. Quickly look into how few features there can be before performance drops."
   ]
  },
  {
   "cell_type": "code",
   "execution_count": 1,
   "metadata": {},
   "outputs": [],
   "source": [
    "import pandas as pd\n",
    "import numpy as np\n",
    "from sklearn.preprocessing import LabelEncoder\n",
    "from sklearn.model_selection import RepeatedStratifiedKFold, train_test_split, cross_validate\n",
    "from sklearn.ensemble import RandomForestClassifier\n",
    "from sklearn.metrics import confusion_matrix, multilabel_confusion_matrix, ConfusionMatrixDisplay"
   ]
  },
  {
   "cell_type": "markdown",
   "metadata": {},
   "source": [
    "# Load in the data"
   ]
  },
  {
   "cell_type": "code",
   "execution_count": 2,
   "metadata": {},
   "outputs": [
    {
     "name": "stderr",
     "output_type": "stream",
     "text": [
      "<>:1: SyntaxWarning: invalid escape sequence '\\s'\n",
      "<>:1: SyntaxWarning: invalid escape sequence '\\s'\n",
      "/tmp/ipykernel_863927/1083822057.py:1: SyntaxWarning: invalid escape sequence '\\s'\n",
      "  original_data = pd.read_csv(\"../data/delivery.2023.03.15.dat\", delimiter='\\s+')\n"
     ]
    }
   ],
   "source": [
    "original_data = pd.read_csv(\"../data/delivery.2023.03.15.dat\", delimiter='\\s+')"
   ]
  },
  {
   "cell_type": "code",
   "execution_count": 3,
   "metadata": {},
   "outputs": [
    {
     "data": {
      "text/html": [
       "<div>\n",
       "<style scoped>\n",
       "    .dataframe tbody tr th:only-of-type {\n",
       "        vertical-align: middle;\n",
       "    }\n",
       "\n",
       "    .dataframe tbody tr th {\n",
       "        vertical-align: top;\n",
       "    }\n",
       "\n",
       "    .dataframe thead th {\n",
       "        text-align: right;\n",
       "    }\n",
       "</style>\n",
       "<table border=\"1\" class=\"dataframe\">\n",
       "  <thead>\n",
       "    <tr style=\"text-align: right;\">\n",
       "      <th></th>\n",
       "      <th>Date</th>\n",
       "      <th>Time</th>\n",
       "      <th>Elat</th>\n",
       "      <th>Elon</th>\n",
       "      <th>Dep</th>\n",
       "      <th>Tag</th>\n",
       "      <th>F01</th>\n",
       "      <th>F02</th>\n",
       "      <th>F03</th>\n",
       "      <th>F04</th>\n",
       "      <th>F05</th>\n",
       "      <th>F06</th>\n",
       "      <th>F07</th>\n",
       "      <th>F08</th>\n",
       "      <th>F09</th>\n",
       "      <th>F10</th>\n",
       "      <th>F11</th>\n",
       "      <th>F12</th>\n",
       "    </tr>\n",
       "  </thead>\n",
       "  <tbody>\n",
       "    <tr>\n",
       "      <th>0</th>\n",
       "      <td>2012-10-01</td>\n",
       "      <td>16:51:31.20</td>\n",
       "      <td>39.141</td>\n",
       "      <td>-111.655</td>\n",
       "      <td>19.5</td>\n",
       "      <td>eq</td>\n",
       "      <td>0.22</td>\n",
       "      <td>X</td>\n",
       "      <td>X</td>\n",
       "      <td>X</td>\n",
       "      <td>X</td>\n",
       "      <td>X</td>\n",
       "      <td>X</td>\n",
       "      <td>X</td>\n",
       "      <td>X</td>\n",
       "      <td>X</td>\n",
       "      <td>X</td>\n",
       "      <td>X</td>\n",
       "    </tr>\n",
       "    <tr>\n",
       "      <th>1</th>\n",
       "      <td>2012-10-01</td>\n",
       "      <td>17:02:17.22</td>\n",
       "      <td>40.500</td>\n",
       "      <td>-112.155</td>\n",
       "      <td>-2.0</td>\n",
       "      <td>ex</td>\n",
       "      <td>0.10</td>\n",
       "      <td>X</td>\n",
       "      <td>X</td>\n",
       "      <td>X</td>\n",
       "      <td>X</td>\n",
       "      <td>X</td>\n",
       "      <td>X</td>\n",
       "      <td>X</td>\n",
       "      <td>X</td>\n",
       "      <td>X</td>\n",
       "      <td>X</td>\n",
       "      <td>X</td>\n",
       "    </tr>\n",
       "    <tr>\n",
       "      <th>2</th>\n",
       "      <td>2012-10-01</td>\n",
       "      <td>22:38:43.13</td>\n",
       "      <td>40.511</td>\n",
       "      <td>-112.175</td>\n",
       "      <td>-2.0</td>\n",
       "      <td>ex</td>\n",
       "      <td>-0.05</td>\n",
       "      <td>0.52</td>\n",
       "      <td>0.23</td>\n",
       "      <td>-65.4</td>\n",
       "      <td>-88.5</td>\n",
       "      <td>12.87</td>\n",
       "      <td>13.30</td>\n",
       "      <td>X</td>\n",
       "      <td>X</td>\n",
       "      <td>X</td>\n",
       "      <td>0.32</td>\n",
       "      <td>0.62</td>\n",
       "    </tr>\n",
       "    <tr>\n",
       "      <th>3</th>\n",
       "      <td>2012-10-02</td>\n",
       "      <td>00:21:13.94</td>\n",
       "      <td>39.709</td>\n",
       "      <td>-113.274</td>\n",
       "      <td>-2.0</td>\n",
       "      <td>ex</td>\n",
       "      <td>X</td>\n",
       "      <td>X</td>\n",
       "      <td>X</td>\n",
       "      <td>X</td>\n",
       "      <td>X</td>\n",
       "      <td>X</td>\n",
       "      <td>X</td>\n",
       "      <td>X</td>\n",
       "      <td>X</td>\n",
       "      <td>X</td>\n",
       "      <td>X</td>\n",
       "      <td>X</td>\n",
       "    </tr>\n",
       "    <tr>\n",
       "      <th>4</th>\n",
       "      <td>2012-10-02</td>\n",
       "      <td>18:49:25.22</td>\n",
       "      <td>40.514</td>\n",
       "      <td>-112.161</td>\n",
       "      <td>-2.0</td>\n",
       "      <td>ex</td>\n",
       "      <td>0.00</td>\n",
       "      <td>0.24</td>\n",
       "      <td>0.25</td>\n",
       "      <td>-83.6</td>\n",
       "      <td>-116.6</td>\n",
       "      <td>14.62</td>\n",
       "      <td>12.40</td>\n",
       "      <td>-0.37</td>\n",
       "      <td>0.01</td>\n",
       "      <td>-0.01</td>\n",
       "      <td>0.18</td>\n",
       "      <td>0.44</td>\n",
       "    </tr>\n",
       "  </tbody>\n",
       "</table>\n",
       "</div>"
      ],
      "text/plain": [
       "         Date         Time    Elat     Elon   Dep Tag    F01   F02   F03  \\\n",
       "0  2012-10-01  16:51:31.20  39.141 -111.655  19.5  eq   0.22     X     X   \n",
       "1  2012-10-01  17:02:17.22  40.500 -112.155  -2.0  ex   0.10     X     X   \n",
       "2  2012-10-01  22:38:43.13  40.511 -112.175  -2.0  ex  -0.05  0.52  0.23   \n",
       "3  2012-10-02  00:21:13.94  39.709 -113.274  -2.0  ex      X     X     X   \n",
       "4  2012-10-02  18:49:25.22  40.514 -112.161  -2.0  ex   0.00  0.24  0.25   \n",
       "\n",
       "     F04     F05    F06    F07    F08   F09    F10   F11   F12  \n",
       "0      X       X      X      X      X     X      X     X     X  \n",
       "1      X       X      X      X      X     X      X     X     X  \n",
       "2  -65.4   -88.5  12.87  13.30      X     X      X  0.32  0.62  \n",
       "3      X       X      X      X      X     X      X     X     X  \n",
       "4  -83.6  -116.6  14.62  12.40  -0.37  0.01  -0.01  0.18  0.44  "
      ]
     },
     "execution_count": 3,
     "metadata": {},
     "output_type": "execute_result"
    }
   ],
   "source": [
    "original_data.head()"
   ]
  },
  {
   "cell_type": "code",
   "execution_count": 4,
   "metadata": {},
   "outputs": [
    {
     "data": {
      "text/html": [
       "<div>\n",
       "<style scoped>\n",
       "    .dataframe tbody tr th:only-of-type {\n",
       "        vertical-align: middle;\n",
       "    }\n",
       "\n",
       "    .dataframe tbody tr th {\n",
       "        vertical-align: top;\n",
       "    }\n",
       "\n",
       "    .dataframe thead th {\n",
       "        text-align: right;\n",
       "    }\n",
       "</style>\n",
       "<table border=\"1\" class=\"dataframe\">\n",
       "  <thead>\n",
       "    <tr style=\"text-align: right;\">\n",
       "      <th></th>\n",
       "      <th>Elat</th>\n",
       "      <th>Elon</th>\n",
       "      <th>Dep</th>\n",
       "    </tr>\n",
       "  </thead>\n",
       "  <tbody>\n",
       "    <tr>\n",
       "      <th>count</th>\n",
       "      <td>8457.000000</td>\n",
       "      <td>8457.000000</td>\n",
       "      <td>8457.000000</td>\n",
       "    </tr>\n",
       "    <tr>\n",
       "      <th>mean</th>\n",
       "      <td>39.877596</td>\n",
       "      <td>-111.821029</td>\n",
       "      <td>5.346222</td>\n",
       "    </tr>\n",
       "    <tr>\n",
       "      <th>std</th>\n",
       "      <td>1.246630</td>\n",
       "      <td>0.954187</td>\n",
       "      <td>6.406693</td>\n",
       "    </tr>\n",
       "    <tr>\n",
       "      <th>min</th>\n",
       "      <td>36.773000</td>\n",
       "      <td>-114.093000</td>\n",
       "      <td>-3.500000</td>\n",
       "    </tr>\n",
       "    <tr>\n",
       "      <th>25%</th>\n",
       "      <td>39.410000</td>\n",
       "      <td>-112.169000</td>\n",
       "      <td>-1.500000</td>\n",
       "    </tr>\n",
       "    <tr>\n",
       "      <th>50%</th>\n",
       "      <td>40.502000</td>\n",
       "      <td>-112.051000</td>\n",
       "      <td>6.800000</td>\n",
       "    </tr>\n",
       "    <tr>\n",
       "      <th>75%</th>\n",
       "      <td>40.751000</td>\n",
       "      <td>-111.577000</td>\n",
       "      <td>9.400000</td>\n",
       "    </tr>\n",
       "    <tr>\n",
       "      <th>max</th>\n",
       "      <td>42.499000</td>\n",
       "      <td>-108.556000</td>\n",
       "      <td>55.800000</td>\n",
       "    </tr>\n",
       "  </tbody>\n",
       "</table>\n",
       "</div>"
      ],
      "text/plain": [
       "              Elat         Elon          Dep\n",
       "count  8457.000000  8457.000000  8457.000000\n",
       "mean     39.877596  -111.821029     5.346222\n",
       "std       1.246630     0.954187     6.406693\n",
       "min      36.773000  -114.093000    -3.500000\n",
       "25%      39.410000  -112.169000    -1.500000\n",
       "50%      40.502000  -112.051000     6.800000\n",
       "75%      40.751000  -111.577000     9.400000\n",
       "max      42.499000  -108.556000    55.800000"
      ]
     },
     "execution_count": 4,
     "metadata": {},
     "output_type": "execute_result"
    }
   ],
   "source": [
    "# Look at the ranges of the values\n",
    "original_data.describe()"
   ]
  },
  {
   "cell_type": "code",
   "execution_count": 5,
   "metadata": {},
   "outputs": [
    {
     "data": {
      "text/plain": [
       "Tag\n",
       "eq     5234\n",
       "ex     1540\n",
       "mis    1494\n",
       "gis     189\n",
       "Name: count, dtype: int64"
      ]
     },
     "execution_count": 5,
     "metadata": {},
     "output_type": "execute_result"
    }
   ],
   "source": [
    "original_data['Tag'].value_counts()"
   ]
  },
  {
   "cell_type": "markdown",
   "metadata": {},
   "source": [
    "### Replace \"X\" with nan for missing features "
   ]
  },
  {
   "cell_type": "code",
   "execution_count": 6,
   "metadata": {},
   "outputs": [],
   "source": [
    "data = original_data.copy().replace(to_replace='X', value=np.nan)"
   ]
  },
  {
   "cell_type": "markdown",
   "metadata": {},
   "source": [
    "### Drop the \"gis\" tag because I don't want to deal with 4 classes"
   ]
  },
  {
   "cell_type": "code",
   "execution_count": 7,
   "metadata": {},
   "outputs": [],
   "source": [
    "data = data.drop(np.where(data['Tag'] == 'gis')[0])"
   ]
  },
  {
   "cell_type": "code",
   "execution_count": 8,
   "metadata": {},
   "outputs": [
    {
     "data": {
      "text/plain": [
       "Tag\n",
       "eq     5234\n",
       "ex     1540\n",
       "mis    1494\n",
       "Name: count, dtype: int64"
      ]
     },
     "execution_count": 8,
     "metadata": {},
     "output_type": "execute_result"
    }
   ],
   "source": [
    "data['Tag'].value_counts()"
   ]
  },
  {
   "cell_type": "markdown",
   "metadata": {},
   "source": [
    "### Drop rows without any features because that is totally useless"
   ]
  },
  {
   "cell_type": "code",
   "execution_count": 9,
   "metadata": {},
   "outputs": [],
   "source": [
    "feature_col_names = ['F01', 'F02', 'F03', 'F04',\n",
    "                    'F05', 'F06', 'F07', 'F08', 'F09', 'F10', 'F11', 'F12']"
   ]
  },
  {
   "cell_type": "code",
   "execution_count": 10,
   "metadata": {},
   "outputs": [
    {
     "name": "stdout",
     "output_type": "stream",
     "text": [
      "(8268, 18)\n",
      "(5323, 18)\n"
     ]
    }
   ],
   "source": [
    "# Drop rows missing all features\n",
    "print(data.shape)\n",
    "data = data[~np.all(np.isnan(data[feature_col_names].astype(float)), axis=1)]\n",
    "print(data.shape)"
   ]
  },
  {
   "cell_type": "markdown",
   "metadata": {},
   "source": [
    "### Get the features"
   ]
  },
  {
   "cell_type": "code",
   "execution_count": 11,
   "metadata": {},
   "outputs": [],
   "source": [
    "X_df = data[feature_col_names].astype(float)"
   ]
  },
  {
   "cell_type": "code",
   "execution_count": 12,
   "metadata": {},
   "outputs": [
    {
     "data": {
      "text/html": [
       "<div>\n",
       "<style scoped>\n",
       "    .dataframe tbody tr th:only-of-type {\n",
       "        vertical-align: middle;\n",
       "    }\n",
       "\n",
       "    .dataframe tbody tr th {\n",
       "        vertical-align: top;\n",
       "    }\n",
       "\n",
       "    .dataframe thead th {\n",
       "        text-align: right;\n",
       "    }\n",
       "</style>\n",
       "<table border=\"1\" class=\"dataframe\">\n",
       "  <thead>\n",
       "    <tr style=\"text-align: right;\">\n",
       "      <th></th>\n",
       "      <th>F01</th>\n",
       "      <th>F02</th>\n",
       "      <th>F03</th>\n",
       "      <th>F04</th>\n",
       "      <th>F05</th>\n",
       "      <th>F06</th>\n",
       "      <th>F07</th>\n",
       "      <th>F08</th>\n",
       "      <th>F09</th>\n",
       "      <th>F10</th>\n",
       "      <th>F11</th>\n",
       "      <th>F12</th>\n",
       "    </tr>\n",
       "  </thead>\n",
       "  <tbody>\n",
       "    <tr>\n",
       "      <th>0</th>\n",
       "      <td>0.22</td>\n",
       "      <td>NaN</td>\n",
       "      <td>NaN</td>\n",
       "      <td>NaN</td>\n",
       "      <td>NaN</td>\n",
       "      <td>NaN</td>\n",
       "      <td>NaN</td>\n",
       "      <td>NaN</td>\n",
       "      <td>NaN</td>\n",
       "      <td>NaN</td>\n",
       "      <td>NaN</td>\n",
       "      <td>NaN</td>\n",
       "    </tr>\n",
       "    <tr>\n",
       "      <th>1</th>\n",
       "      <td>0.10</td>\n",
       "      <td>NaN</td>\n",
       "      <td>NaN</td>\n",
       "      <td>NaN</td>\n",
       "      <td>NaN</td>\n",
       "      <td>NaN</td>\n",
       "      <td>NaN</td>\n",
       "      <td>NaN</td>\n",
       "      <td>NaN</td>\n",
       "      <td>NaN</td>\n",
       "      <td>NaN</td>\n",
       "      <td>NaN</td>\n",
       "    </tr>\n",
       "    <tr>\n",
       "      <th>2</th>\n",
       "      <td>-0.05</td>\n",
       "      <td>0.52</td>\n",
       "      <td>0.23</td>\n",
       "      <td>-65.4</td>\n",
       "      <td>-88.5</td>\n",
       "      <td>12.87</td>\n",
       "      <td>13.30</td>\n",
       "      <td>NaN</td>\n",
       "      <td>NaN</td>\n",
       "      <td>NaN</td>\n",
       "      <td>0.32</td>\n",
       "      <td>0.62</td>\n",
       "    </tr>\n",
       "    <tr>\n",
       "      <th>4</th>\n",
       "      <td>0.00</td>\n",
       "      <td>0.24</td>\n",
       "      <td>0.25</td>\n",
       "      <td>-83.6</td>\n",
       "      <td>-116.6</td>\n",
       "      <td>14.62</td>\n",
       "      <td>12.40</td>\n",
       "      <td>-0.37</td>\n",
       "      <td>0.01</td>\n",
       "      <td>-0.01</td>\n",
       "      <td>0.18</td>\n",
       "      <td>0.44</td>\n",
       "    </tr>\n",
       "    <tr>\n",
       "      <th>5</th>\n",
       "      <td>0.22</td>\n",
       "      <td>0.65</td>\n",
       "      <td>0.12</td>\n",
       "      <td>-77.6</td>\n",
       "      <td>-73.6</td>\n",
       "      <td>12.11</td>\n",
       "      <td>14.46</td>\n",
       "      <td>NaN</td>\n",
       "      <td>NaN</td>\n",
       "      <td>NaN</td>\n",
       "      <td>NaN</td>\n",
       "      <td>NaN</td>\n",
       "    </tr>\n",
       "  </tbody>\n",
       "</table>\n",
       "</div>"
      ],
      "text/plain": [
       "    F01   F02   F03   F04    F05    F06    F07   F08   F09   F10   F11   F12\n",
       "0  0.22   NaN   NaN   NaN    NaN    NaN    NaN   NaN   NaN   NaN   NaN   NaN\n",
       "1  0.10   NaN   NaN   NaN    NaN    NaN    NaN   NaN   NaN   NaN   NaN   NaN\n",
       "2 -0.05  0.52  0.23 -65.4  -88.5  12.87  13.30   NaN   NaN   NaN  0.32  0.62\n",
       "4  0.00  0.24  0.25 -83.6 -116.6  14.62  12.40 -0.37  0.01 -0.01  0.18  0.44\n",
       "5  0.22  0.65  0.12 -77.6  -73.6  12.11  14.46   NaN   NaN   NaN   NaN   NaN"
      ]
     },
     "execution_count": 12,
     "metadata": {},
     "output_type": "execute_result"
    }
   ],
   "source": [
    "X_df.head()"
   ]
  },
  {
   "cell_type": "code",
   "execution_count": 13,
   "metadata": {},
   "outputs": [
    {
     "data": {
      "text/html": [
       "<div>\n",
       "<style scoped>\n",
       "    .dataframe tbody tr th:only-of-type {\n",
       "        vertical-align: middle;\n",
       "    }\n",
       "\n",
       "    .dataframe tbody tr th {\n",
       "        vertical-align: top;\n",
       "    }\n",
       "\n",
       "    .dataframe thead th {\n",
       "        text-align: right;\n",
       "    }\n",
       "</style>\n",
       "<table border=\"1\" class=\"dataframe\">\n",
       "  <thead>\n",
       "    <tr style=\"text-align: right;\">\n",
       "      <th></th>\n",
       "      <th>F01</th>\n",
       "      <th>F02</th>\n",
       "      <th>F03</th>\n",
       "      <th>F04</th>\n",
       "      <th>F05</th>\n",
       "      <th>F06</th>\n",
       "      <th>F07</th>\n",
       "      <th>F08</th>\n",
       "      <th>F09</th>\n",
       "      <th>F10</th>\n",
       "      <th>F11</th>\n",
       "      <th>F12</th>\n",
       "    </tr>\n",
       "  </thead>\n",
       "  <tbody>\n",
       "    <tr>\n",
       "      <th>count</th>\n",
       "      <td>3735.000000</td>\n",
       "      <td>2401.000000</td>\n",
       "      <td>4354.000000</td>\n",
       "      <td>2409.000000</td>\n",
       "      <td>4377.000000</td>\n",
       "      <td>2402.000000</td>\n",
       "      <td>4284.000000</td>\n",
       "      <td>1565.000000</td>\n",
       "      <td>1565.000000</td>\n",
       "      <td>1565.000000</td>\n",
       "      <td>1803.000000</td>\n",
       "      <td>3505.000000</td>\n",
       "    </tr>\n",
       "    <tr>\n",
       "      <th>mean</th>\n",
       "      <td>-0.101274</td>\n",
       "      <td>0.407926</td>\n",
       "      <td>0.447072</td>\n",
       "      <td>-99.048651</td>\n",
       "      <td>-109.178798</td>\n",
       "      <td>14.896132</td>\n",
       "      <td>14.184463</td>\n",
       "      <td>-0.476863</td>\n",
       "      <td>-0.366773</td>\n",
       "      <td>-0.315297</td>\n",
       "      <td>0.178813</td>\n",
       "      <td>0.262599</td>\n",
       "    </tr>\n",
       "    <tr>\n",
       "      <th>std</th>\n",
       "      <td>0.298579</td>\n",
       "      <td>0.487115</td>\n",
       "      <td>0.434165</td>\n",
       "      <td>22.315263</td>\n",
       "      <td>20.606370</td>\n",
       "      <td>1.214644</td>\n",
       "      <td>1.474393</td>\n",
       "      <td>0.175548</td>\n",
       "      <td>0.181528</td>\n",
       "      <td>0.205470</td>\n",
       "      <td>0.221590</td>\n",
       "      <td>0.232294</td>\n",
       "    </tr>\n",
       "    <tr>\n",
       "      <th>min</th>\n",
       "      <td>-1.520000</td>\n",
       "      <td>-1.520000</td>\n",
       "      <td>-1.310000</td>\n",
       "      <td>-181.300000</td>\n",
       "      <td>-184.000000</td>\n",
       "      <td>10.210000</td>\n",
       "      <td>10.060000</td>\n",
       "      <td>-0.990000</td>\n",
       "      <td>-0.990000</td>\n",
       "      <td>-0.990000</td>\n",
       "      <td>-0.500000</td>\n",
       "      <td>-0.410000</td>\n",
       "    </tr>\n",
       "    <tr>\n",
       "      <th>25%</th>\n",
       "      <td>-0.290000</td>\n",
       "      <td>0.130000</td>\n",
       "      <td>0.180000</td>\n",
       "      <td>-114.200000</td>\n",
       "      <td>-123.300000</td>\n",
       "      <td>14.050000</td>\n",
       "      <td>13.207500</td>\n",
       "      <td>-0.600000</td>\n",
       "      <td>-0.470000</td>\n",
       "      <td>-0.440000</td>\n",
       "      <td>0.010000</td>\n",
       "      <td>0.100000</td>\n",
       "    </tr>\n",
       "    <tr>\n",
       "      <th>50%</th>\n",
       "      <td>-0.070000</td>\n",
       "      <td>0.390000</td>\n",
       "      <td>0.420000</td>\n",
       "      <td>-100.200000</td>\n",
       "      <td>-109.500000</td>\n",
       "      <td>14.910000</td>\n",
       "      <td>14.550000</td>\n",
       "      <td>-0.480000</td>\n",
       "      <td>-0.370000</td>\n",
       "      <td>-0.320000</td>\n",
       "      <td>0.160000</td>\n",
       "      <td>0.220000</td>\n",
       "    </tr>\n",
       "    <tr>\n",
       "      <th>75%</th>\n",
       "      <td>0.080000</td>\n",
       "      <td>0.650000</td>\n",
       "      <td>0.680000</td>\n",
       "      <td>-84.500000</td>\n",
       "      <td>-95.400000</td>\n",
       "      <td>15.870000</td>\n",
       "      <td>15.220000</td>\n",
       "      <td>-0.380000</td>\n",
       "      <td>-0.270000</td>\n",
       "      <td>-0.210000</td>\n",
       "      <td>0.340000</td>\n",
       "      <td>0.400000</td>\n",
       "    </tr>\n",
       "    <tr>\n",
       "      <th>max</th>\n",
       "      <td>2.550000</td>\n",
       "      <td>4.200000</td>\n",
       "      <td>4.410000</td>\n",
       "      <td>-24.100000</td>\n",
       "      <td>-18.100000</td>\n",
       "      <td>17.760000</td>\n",
       "      <td>17.980000</td>\n",
       "      <td>0.470000</td>\n",
       "      <td>0.670000</td>\n",
       "      <td>0.700000</td>\n",
       "      <td>1.030000</td>\n",
       "      <td>1.220000</td>\n",
       "    </tr>\n",
       "  </tbody>\n",
       "</table>\n",
       "</div>"
      ],
      "text/plain": [
       "               F01          F02          F03          F04          F05  \\\n",
       "count  3735.000000  2401.000000  4354.000000  2409.000000  4377.000000   \n",
       "mean     -0.101274     0.407926     0.447072   -99.048651  -109.178798   \n",
       "std       0.298579     0.487115     0.434165    22.315263    20.606370   \n",
       "min      -1.520000    -1.520000    -1.310000  -181.300000  -184.000000   \n",
       "25%      -0.290000     0.130000     0.180000  -114.200000  -123.300000   \n",
       "50%      -0.070000     0.390000     0.420000  -100.200000  -109.500000   \n",
       "75%       0.080000     0.650000     0.680000   -84.500000   -95.400000   \n",
       "max       2.550000     4.200000     4.410000   -24.100000   -18.100000   \n",
       "\n",
       "               F06          F07          F08          F09          F10  \\\n",
       "count  2402.000000  4284.000000  1565.000000  1565.000000  1565.000000   \n",
       "mean     14.896132    14.184463    -0.476863    -0.366773    -0.315297   \n",
       "std       1.214644     1.474393     0.175548     0.181528     0.205470   \n",
       "min      10.210000    10.060000    -0.990000    -0.990000    -0.990000   \n",
       "25%      14.050000    13.207500    -0.600000    -0.470000    -0.440000   \n",
       "50%      14.910000    14.550000    -0.480000    -0.370000    -0.320000   \n",
       "75%      15.870000    15.220000    -0.380000    -0.270000    -0.210000   \n",
       "max      17.760000    17.980000     0.470000     0.670000     0.700000   \n",
       "\n",
       "               F11          F12  \n",
       "count  1803.000000  3505.000000  \n",
       "mean      0.178813     0.262599  \n",
       "std       0.221590     0.232294  \n",
       "min      -0.500000    -0.410000  \n",
       "25%       0.010000     0.100000  \n",
       "50%       0.160000     0.220000  \n",
       "75%       0.340000     0.400000  \n",
       "max       1.030000     1.220000  "
      ]
     },
     "execution_count": 13,
     "metadata": {},
     "output_type": "execute_result"
    }
   ],
   "source": [
    "X_df.describe()"
   ]
  },
  {
   "cell_type": "markdown",
   "metadata": {},
   "source": [
    "### Quickly look at how often each feature is missing"
   ]
  },
  {
   "cell_type": "code",
   "execution_count": 14,
   "metadata": {},
   "outputs": [],
   "source": [
    "missing_feat_cnts = np.unique(np.where(np.isnan(X_df))[1], return_counts=True)[1]"
   ]
  },
  {
   "cell_type": "code",
   "execution_count": 15,
   "metadata": {},
   "outputs": [
    {
     "name": "stdout",
     "output_type": "stream",
     "text": [
      "F01 1588 0.29832801052038327\n",
      "F02 2922 0.5489385684764231\n",
      "F03 969 0.18204020289310538\n",
      "F04 2914 0.5474356565846328\n",
      "F05 946 0.17771933120420816\n",
      "F06 2921 0.5487507044899492\n",
      "F07 1039 0.1951906819462709\n",
      "F08 3758 0.705992861168514\n",
      "F09 3758 0.705992861168514\n",
      "F10 3758 0.705992861168514\n",
      "F11 3520 0.6612812323877513\n",
      "F12 1818 0.34153672740935564\n"
     ]
    }
   ],
   "source": [
    "for i in range(len(feature_col_names)):\n",
    "    print(feature_col_names[i], missing_feat_cnts[i], missing_feat_cnts[i]/X_df.shape[0])"
   ]
  },
  {
   "cell_type": "code",
   "execution_count": 16,
   "metadata": {},
   "outputs": [
    {
     "data": {
      "text/plain": [
       "count    5323.000000\n",
       "mean        5.619200\n",
       "std         4.037384\n",
       "min         0.000000\n",
       "25%         1.000000\n",
       "50%         7.000000\n",
       "75%         9.000000\n",
       "max        11.000000\n",
       "dtype: float64"
      ]
     },
     "execution_count": 16,
     "metadata": {},
     "output_type": "execute_result"
    }
   ],
   "source": [
    "np.isnan(X_df).sum(axis=1).describe()"
   ]
  },
  {
   "cell_type": "markdown",
   "metadata": {},
   "source": [
    "### Get the labels"
   ]
  },
  {
   "cell_type": "code",
   "execution_count": 17,
   "metadata": {},
   "outputs": [
    {
     "name": "stdout",
     "output_type": "stream",
     "text": [
      "Original Classes ['eq' 'ex' 'mis']\n",
      "Mapping [0 1 2]\n",
      "Updated Classes ['ex' 'eq' 'mis']\n",
      "Mapping [0 1 2]\n",
      "[1267 2956 1100]\n"
     ]
    }
   ],
   "source": [
    "# LabelEncoder will transform the class names to numeric values\n",
    "le = LabelEncoder()\n",
    "le.fit(data['Tag'])\n",
    "print(\"Original Classes\", le.classes_)\n",
    "print(\"Mapping\", le.transform(le.classes_))\n",
    "le.classes_ = np.array(['ex', 'eq', 'mis'])\n",
    "print(\"Updated Classes\", le.classes_)\n",
    "print(\"Mapping\", le.transform(le.classes_))\n",
    "y = le.transform(data['Tag'])\n",
    "y_cnts = np.unique(y, return_counts=True)[1]\n",
    "print(y_cnts)"
   ]
  },
  {
   "cell_type": "markdown",
   "metadata": {},
   "source": [
    "# Do a simple 80/20 train/test split"
   ]
  },
  {
   "cell_type": "code",
   "execution_count": 18,
   "metadata": {},
   "outputs": [],
   "source": [
    "train_inds, test_inds = train_test_split(np.arange(X_df.shape[0]), test_size=0.2, shuffle=True, random_state=42)"
   ]
  },
  {
   "cell_type": "code",
   "execution_count": 19,
   "metadata": {},
   "outputs": [],
   "source": [
    "X_df = X_df.to_numpy()\n",
    "X_train = X_df[train_inds]\n",
    "X_test = X_df[test_inds]\n",
    "y_train = y[train_inds]\n",
    "y_test = y[test_inds]"
   ]
  },
  {
   "cell_type": "code",
   "execution_count": 20,
   "metadata": {},
   "outputs": [
    {
     "name": "stdout",
     "output_type": "stream",
     "text": [
      "Training: (4258, 12) (4258,)\n",
      "Testing: (1065, 12) (1065,)\n",
      "Actual class percentage: [0.23802367 0.55532594 0.20665039]\n",
      "Training class percentage: [0.23485204 0.56012212 0.20502583]\n",
      "Testing class percentage: [0.25070423 0.53615023 0.21314554]\n"
     ]
    }
   ],
   "source": [
    "print('Training:', X_train.shape, y_train.shape)\n",
    "print('Testing:', X_test.shape, y_test.shape)\n",
    "print(\"Actual class percentage:\", y_cnts/len(y))\n",
    "print('Training class percentage:', np.unique(y_train, return_counts=True)[1]/len(y_train))\n",
    "print('Testing class percentage:', np.unique(y_test, return_counts=True)[1]/len(y_test))"
   ]
  },
  {
   "cell_type": "markdown",
   "metadata": {},
   "source": [
    "# Set up a stratified 10-fold cross-validation with 3 repeats \n",
    "Doing this for if/when I need to do hyperparmeter tuning"
   ]
  },
  {
   "cell_type": "code",
   "execution_count": 21,
   "metadata": {},
   "outputs": [],
   "source": [
    "rskf = RepeatedStratifiedKFold(n_splits=10, n_repeats=3, random_state=36851234)"
   ]
  },
  {
   "cell_type": "markdown",
   "metadata": {},
   "source": [
    "### Quickly look at the effect of using `class_weight` = `balanced_subsample`, `balanced`, and `None`\n",
    "This parameter influences the weight of each class. In `balanced`, the weights are inversely proportional to the class frequency in the training set. In `balanced_subsample` the weights are determined from the bootstrap sample of every tree. None means all classes have the same weight. \n",
    "\n",
    "This parameter did not seem to matter much and using `None` actually preformed marginally better. \n",
    "\n",
    "I am using F1 score, which is the harmonic mean of precision and recall, to estimate model performance here. `averaging=\"macro\"` means that the F1 score for each of the classes is simply averaged. I chose this because I care about all the classes equally and don't want to give more weight to eq (majority class)."
   ]
  },
  {
   "cell_type": "code",
   "execution_count": 23,
   "metadata": {},
   "outputs": [],
   "source": [
    "rf = RandomForestClassifier(n_estimators=1000, random_state=0, class_weight='balanced_subsample')\n",
    "cv_results_balanced_subsample = cross_validate(rf, X_train, y_train, cv=rskf, scoring='f1_macro')"
   ]
  },
  {
   "cell_type": "code",
   "execution_count": 24,
   "metadata": {},
   "outputs": [
    {
     "name": "stdout",
     "output_type": "stream",
     "text": [
      "0.8433090992733525 0.01697686096096417\n"
     ]
    }
   ],
   "source": [
    "print(cv_results_balanced_subsample['test_score'].mean(), cv_results_balanced_subsample['test_score'].std())"
   ]
  },
  {
   "cell_type": "code",
   "execution_count": 25,
   "metadata": {},
   "outputs": [
    {
     "name": "stdout",
     "output_type": "stream",
     "text": [
      "0.8416381164529234 0.01714659530123263\n"
     ]
    }
   ],
   "source": [
    "rf = RandomForestClassifier(n_estimators=1000, random_state=0, class_weight='balanced')\n",
    "cv_results_balanced = cross_validate(rf, X_train, y_train, cv=rskf, scoring='f1_macro')\n",
    "print(cv_results_balanced['test_score'].mean(), cv_results_balanced['test_score'].std())"
   ]
  },
  {
   "cell_type": "markdown",
   "metadata": {},
   "source": [
    "### For `class_weight`=`None` try limiting the number of missing features from 0 to 11 (max 12 features)"
   ]
  },
  {
   "cell_type": "markdown",
   "metadata": {},
   "source": [
    "<= `Missing Features`"
   ]
  },
  {
   "cell_type": "code",
   "execution_count": 32,
   "metadata": {},
   "outputs": [
    {
     "name": "stdout",
     "output_type": "stream",
     "text": [
      "Missing Features: 0, N training examples: 1069, CV Results: 0.9693398214084149, std-0.025260600137525485\n",
      "Missing Features: 1, N training examples: 1246, CV Results: 0.9751504985256637, std-0.016645400796831866\n",
      "Missing Features: 2, N training examples: 1246, CV Results: 0.9751504985256637, std-0.016645400796831866\n",
      "Missing Features: 3, N training examples: 1397, CV Results: 0.9713061357866059, std-0.016902622038120412\n",
      "Missing Features: 4, N training examples: 1695, CV Results: 0.9682201736894263, std-0.015971423634079555\n",
      "Missing Features: 5, N training examples: 1904, CV Results: 0.9629429166212581, std-0.013423360170765036\n",
      "Missing Features: 6, N training examples: 1930, CV Results: 0.9634164858233466, std-0.012914693674353559\n",
      "Missing Features: 7, N training examples: 2385, CV Results: 0.9505095738705711, std-0.013774538601664423\n",
      "Missing Features: 8, N training examples: 3171, CV Results: 0.9255317959576057, std-0.01775088423442337\n",
      "Missing Features: 9, N training examples: 3543, CV Results: 0.9125038427840003, std-0.016995577299607618\n",
      "Missing Features: 10, N training examples: 3571, CV Results: 0.9101336835398934, std-0.017121080200760527\n",
      "Missing Features: 11, N training examples: 4258, CV Results: 0.8476004673995813, std-0.017187695344118268\n"
     ]
    }
   ],
   "source": [
    "for n_missing in range(0, len(feature_col_names)):\n",
    "    X_train_sub = X_train[(np.isnan(X_train).sum(axis=1) <= n_missing)]\n",
    "    y_train_sub = y_train[(np.isnan(X_train).sum(axis=1) <= n_missing)]\n",
    "    rf = RandomForestClassifier(n_estimators=1000, random_state=0, class_weight=None)\n",
    "    cv_results_sub = cross_validate(rf, X_train_sub, y_train_sub, cv=rskf, scoring='f1_macro')\n",
    "    print(f\"Missing Features: {n_missing}, N training examples: {X_train_sub.shape[0]}, CV Results: {cv_results_sub['test_score'].mean()}, std-{cv_results_sub['test_score'].std()}\")"
   ]
  },
  {
   "cell_type": "markdown",
   "metadata": {},
   "source": [
    "Try == `Missing Features`?"
   ]
  },
  {
   "cell_type": "markdown",
   "metadata": {},
   "source": []
  }
 ],
 "metadata": {
  "kernelspec": {
   "display_name": "featmags",
   "language": "python",
   "name": "python3"
  },
  "language_info": {
   "codemirror_mode": {
    "name": "ipython",
    "version": 3
   },
   "file_extension": ".py",
   "mimetype": "text/x-python",
   "name": "python",
   "nbconvert_exporter": "python",
   "pygments_lexer": "ipython3",
   "version": "3.1.undefined"
  }
 },
 "nbformat": 4,
 "nbformat_minor": 2
}
